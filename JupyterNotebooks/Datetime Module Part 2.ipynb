{
 "cells": [
  {
   "cell_type": "code",
   "execution_count": 1,
   "id": "4242e35e",
   "metadata": {},
   "outputs": [],
   "source": [
    "import datetime"
   ]
  },
  {
   "cell_type": "code",
   "execution_count": 27,
   "id": "54927093",
   "metadata": {},
   "outputs": [
    {
     "data": {
      "text/plain": [
       "datetime.datetime(2023, 3, 4, 15, 28, 19, 537267)"
      ]
     },
     "execution_count": 27,
     "metadata": {},
     "output_type": "execute_result"
    }
   ],
   "source": [
    "datetime.datetime.now()"
   ]
  },
  {
   "cell_type": "code",
   "execution_count": 33,
   "id": "f94886a5",
   "metadata": {},
   "outputs": [
    {
     "name": "stdout",
     "output_type": "stream",
     "text": [
      "Year: 2023\n",
      "Month: 3\n",
      "Day: 4\n",
      "Hour: 15\n",
      "Minutes: 31\n",
      "Seconds: 18\n",
      "Microseconds: 589606\n",
      "2023-03-04 15:31:18.589606\n"
     ]
    },
    {
     "data": {
      "text/plain": [
       "'2023-03-04 15:31:18.589606'"
      ]
     },
     "execution_count": 33,
     "metadata": {},
     "output_type": "execute_result"
    }
   ],
   "source": [
    "dt = datetime.datetime.now()\n",
    "\n",
    "print('Year:', dt.year)\n",
    "print('Month:', dt.month)\n",
    "print('Day:', dt.day)\n",
    "\n",
    "print('Hour:', dt.hour)\n",
    "print('Minutes:', dt.minute)\n",
    "print('Seconds:', dt.second)\n",
    "print('Microseconds:', dt.microsecond)\n",
    "\n",
    "print(dt)\n",
    "str(dt)"
   ]
  },
  {
   "cell_type": "code",
   "execution_count": 64,
   "id": "01d5b43e",
   "metadata": {},
   "outputs": [
    {
     "name": "stdout",
     "output_type": "stream",
     "text": [
      "2023-03-04 00:00:00\n"
     ]
    }
   ],
   "source": [
    "march2023 = datetime.datetime(2023, 3, 4)\n",
    "print(march2023)"
   ]
  },
  {
   "cell_type": "code",
   "execution_count": 53,
   "id": "ff28ffeb",
   "metadata": {},
   "outputs": [
    {
     "data": {
      "text/plain": [
       "datetime.datetime(1970, 1, 1, 5, 30)"
      ]
     },
     "execution_count": 53,
     "metadata": {},
     "output_type": "execute_result"
    }
   ],
   "source": [
    "# Unix epoch time stamp\n",
    "\n",
    "datetime.datetime.fromtimestamp(0)"
   ]
  },
  {
   "cell_type": "code",
   "execution_count": 61,
   "id": "7c3f920e",
   "metadata": {},
   "outputs": [
    {
     "data": {
      "text/plain": [
       "datetime.datetime(2033, 5, 18, 9, 3, 20)"
      ]
     },
     "execution_count": 61,
     "metadata": {},
     "output_type": "execute_result"
    }
   ],
   "source": [
    "datetime.datetime.fromtimestamp(2_000_000_000)"
   ]
  },
  {
   "cell_type": "code",
   "execution_count": 66,
   "id": "7695cbda",
   "metadata": {},
   "outputs": [],
   "source": [
    "import time"
   ]
  },
  {
   "cell_type": "code",
   "execution_count": 68,
   "id": "11de4d99",
   "metadata": {},
   "outputs": [
    {
     "data": {
      "text/plain": [
       "1677924655.1567035"
      ]
     },
     "execution_count": 68,
     "metadata": {},
     "output_type": "execute_result"
    }
   ],
   "source": [
    "time.time()"
   ]
  },
  {
   "cell_type": "code",
   "execution_count": 67,
   "id": "653ca4d6",
   "metadata": {},
   "outputs": [
    {
     "data": {
      "text/plain": [
       "datetime.datetime(2023, 3, 4, 15, 40, 46, 727051)"
      ]
     },
     "execution_count": 67,
     "metadata": {},
     "output_type": "execute_result"
    }
   ],
   "source": [
    "datetime.datetime.fromtimestamp(time.time())"
   ]
  },
  {
   "cell_type": "code",
   "execution_count": 69,
   "id": "deb65233",
   "metadata": {},
   "outputs": [
    {
     "data": {
      "text/plain": [
       "datetime.datetime(2023, 3, 4, 15, 42, 15, 212334)"
      ]
     },
     "execution_count": 69,
     "metadata": {},
     "output_type": "execute_result"
    }
   ],
   "source": [
    "datetime.datetime.now()"
   ]
  },
  {
   "cell_type": "markdown",
   "id": "70661bd6",
   "metadata": {},
   "source": [
    "### compare dates"
   ]
  },
  {
   "cell_type": "code",
   "execution_count": 70,
   "id": "29f81554",
   "metadata": {},
   "outputs": [],
   "source": [
    "republic_day_2023 = datetime.datetime(2023, 1, 26)\n",
    "independence_day_2023 = datetime.datetime(2023, 8, 15)"
   ]
  },
  {
   "cell_type": "code",
   "execution_count": 71,
   "id": "5d2f8470",
   "metadata": {},
   "outputs": [
    {
     "data": {
      "text/plain": [
       "datetime.datetime(2023, 1, 26, 0, 0)"
      ]
     },
     "execution_count": 71,
     "metadata": {},
     "output_type": "execute_result"
    }
   ],
   "source": [
    "republic_day_2023"
   ]
  },
  {
   "cell_type": "code",
   "execution_count": 72,
   "id": "a5bfe0b3",
   "metadata": {},
   "outputs": [
    {
     "data": {
      "text/plain": [
       "datetime.datetime(2023, 8, 15, 0, 0)"
      ]
     },
     "execution_count": 72,
     "metadata": {},
     "output_type": "execute_result"
    }
   ],
   "source": [
    "independence_day_2023"
   ]
  },
  {
   "cell_type": "code",
   "execution_count": 73,
   "id": "65d78963",
   "metadata": {},
   "outputs": [
    {
     "data": {
      "text/plain": [
       "False"
      ]
     },
     "execution_count": 73,
     "metadata": {},
     "output_type": "execute_result"
    }
   ],
   "source": [
    "republic_day_2023 > independence_day_2023"
   ]
  },
  {
   "cell_type": "code",
   "execution_count": 74,
   "id": "70f30547",
   "metadata": {},
   "outputs": [
    {
     "data": {
      "text/plain": [
       "True"
      ]
     },
     "execution_count": 74,
     "metadata": {},
     "output_type": "execute_result"
    }
   ],
   "source": [
    "republic_day_2023 < independence_day_2023"
   ]
  },
  {
   "cell_type": "code",
   "execution_count": 75,
   "id": "e1c2712e",
   "metadata": {},
   "outputs": [
    {
     "data": {
      "text/plain": [
       "True"
      ]
     },
     "execution_count": 75,
     "metadata": {},
     "output_type": "execute_result"
    }
   ],
   "source": [
    "republic_day_2023 != independence_day_2023"
   ]
  },
  {
   "cell_type": "code",
   "execution_count": null,
   "id": "0fbcce5a",
   "metadata": {},
   "outputs": [],
   "source": []
  },
  {
   "cell_type": "code",
   "execution_count": null,
   "id": "d50c6728",
   "metadata": {},
   "outputs": [],
   "source": []
  },
  {
   "cell_type": "code",
   "execution_count": null,
   "id": "99b72785",
   "metadata": {},
   "outputs": [],
   "source": []
  },
  {
   "cell_type": "code",
   "execution_count": null,
   "id": "d35a5a41",
   "metadata": {},
   "outputs": [],
   "source": []
  },
  {
   "cell_type": "code",
   "execution_count": null,
   "id": "9454c240",
   "metadata": {},
   "outputs": [],
   "source": []
  },
  {
   "cell_type": "code",
   "execution_count": null,
   "id": "90c10f51",
   "metadata": {},
   "outputs": [],
   "source": []
  },
  {
   "cell_type": "code",
   "execution_count": null,
   "id": "7527e0ee",
   "metadata": {},
   "outputs": [],
   "source": []
  }
 ],
 "metadata": {
  "kernelspec": {
   "display_name": "Python 3 (ipykernel)",
   "language": "python",
   "name": "python3"
  },
  "language_info": {
   "codemirror_mode": {
    "name": "ipython",
    "version": 3
   },
   "file_extension": ".py",
   "mimetype": "text/x-python",
   "name": "python",
   "nbconvert_exporter": "python",
   "pygments_lexer": "ipython3",
   "version": "3.9.12"
  }
 },
 "nbformat": 4,
 "nbformat_minor": 5
}
