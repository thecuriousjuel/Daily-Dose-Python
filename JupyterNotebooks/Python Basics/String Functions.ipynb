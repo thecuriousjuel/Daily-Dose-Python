{
 "cells": [
  {
   "cell_type": "code",
   "execution_count": null,
   "id": "49ec8fb5",
   "metadata": {},
   "outputs": [],
   "source": [
    "# isalpha()\n",
    "\n",
    "\n",
    "'apple123'.isalpha()"
   ]
  },
  {
   "cell_type": "code",
   "execution_count": null,
   "id": "d6e0e485",
   "metadata": {},
   "outputs": [],
   "source": [
    "# isalnum()\n",
    "\n",
    "\n",
    "'B1i1s2w3a4j8i9t!'.isalnum()"
   ]
  },
  {
   "cell_type": "code",
   "execution_count": null,
   "id": "49a08566",
   "metadata": {},
   "outputs": [],
   "source": [
    "# isspace()\n",
    "\n",
    "\n",
    "' '.isspace()"
   ]
  },
  {
   "cell_type": "code",
   "execution_count": 5,
   "id": "815e297b",
   "metadata": {},
   "outputs": [
    {
     "data": {
      "text/plain": [
       "False"
      ]
     },
     "execution_count": 5,
     "metadata": {},
     "output_type": "execute_result"
    }
   ],
   "source": [
    "# istitle()\n",
    "\n",
    "'8Today 9I9s A Sunny Day! 123'.istitle()"
   ]
  },
  {
   "cell_type": "code",
   "execution_count": null,
   "id": "6ce4442c",
   "metadata": {},
   "outputs": [],
   "source": [
    "# isidentifier()\n",
    "\n",
    "\n",
    "'integer_1'.isidentifier()"
   ]
  },
  {
   "cell_type": "code",
   "execution_count": null,
   "id": "ce9a3666",
   "metadata": {},
   "outputs": [],
   "source": [
    "integer 1 = 1"
   ]
  },
  {
   "cell_type": "code",
   "execution_count": null,
   "id": "06986031",
   "metadata": {},
   "outputs": [],
   "source": [
    "# isprintable()\n",
    "\n",
    "'Biswajit\\tBasak'.isprintable()"
   ]
  },
  {
   "cell_type": "code",
   "execution_count": null,
   "id": "19ccb953",
   "metadata": {},
   "outputs": [],
   "source": [
    "print('Biswajit\\tBasak')"
   ]
  },
  {
   "cell_type": "code",
   "execution_count": null,
   "id": "5065785a",
   "metadata": {},
   "outputs": [],
   "source": []
  },
  {
   "cell_type": "code",
   "execution_count": null,
   "id": "2007b9e1",
   "metadata": {},
   "outputs": [],
   "source": []
  },
  {
   "cell_type": "code",
   "execution_count": null,
   "id": "fb084228",
   "metadata": {},
   "outputs": [],
   "source": [
    "'\\u00b2'\n",
    "'\\u2153'"
   ]
  },
  {
   "cell_type": "raw",
   "id": "f3dd6626",
   "metadata": {},
   "source": [
    "isdecimal() method supports only Decimal Numbers (0-9)."
   ]
  },
  {
   "cell_type": "raw",
   "id": "89170294",
   "metadata": {},
   "source": [
    "isdigit() method supports Decimals, Subscripts, Superscripts."
   ]
  },
  {
   "cell_type": "raw",
   "id": "486f9ee0",
   "metadata": {},
   "source": [
    "isnumeric() method supports Digits, Vulgar Fractions, Subscripts, Superscripts, Roman Numerals, Currency Numerators."
   ]
  },
  {
   "cell_type": "code",
   "execution_count": null,
   "id": "3c0cae5a",
   "metadata": {},
   "outputs": [],
   "source": []
  },
  {
   "cell_type": "code",
   "execution_count": 63,
   "id": "4c7de2d5",
   "metadata": {},
   "outputs": [
    {
     "data": {
      "text/plain": [
       "True"
      ]
     },
     "execution_count": 63,
     "metadata": {},
     "output_type": "execute_result"
    }
   ],
   "source": [
    "'1024'.isdecimal()"
   ]
  },
  {
   "cell_type": "code",
   "execution_count": 73,
   "id": "1f012c6b",
   "metadata": {},
   "outputs": [
    {
     "data": {
      "text/plain": [
       "False"
      ]
     },
     "execution_count": 73,
     "metadata": {},
     "output_type": "execute_result"
    }
   ],
   "source": [
    "'\\u00b2'.isdigit()"
   ]
  },
  {
   "cell_type": "code",
   "execution_count": 78,
   "id": "9a2fe3f9",
   "metadata": {},
   "outputs": [
    {
     "name": "stdout",
     "output_type": "stream",
     "text": [
      "x³\n"
     ]
    }
   ],
   "source": [
    "print('x\\u00b3')"
   ]
  },
  {
   "cell_type": "code",
   "execution_count": 81,
   "id": "560cd68c",
   "metadata": {},
   "outputs": [
    {
     "name": "stdout",
     "output_type": "stream",
     "text": [
      "x²\n"
     ]
    },
    {
     "data": {
      "text/plain": [
       "True"
      ]
     },
     "execution_count": 81,
     "metadata": {},
     "output_type": "execute_result"
    }
   ],
   "source": [
    "print('x\\u00b2')\n",
    "'\\u00b2'.isnumeric()"
   ]
  },
  {
   "cell_type": "code",
   "execution_count": 87,
   "id": "39fd43c4",
   "metadata": {},
   "outputs": [
    {
     "data": {
      "text/plain": [
       "False"
      ]
     },
     "execution_count": 87,
     "metadata": {},
     "output_type": "execute_result"
    }
   ],
   "source": [
    "'VI'.isnumeric()"
   ]
  },
  {
   "cell_type": "code",
   "execution_count": 85,
   "id": "69a03bde",
   "metadata": {},
   "outputs": [
    {
     "name": "stdout",
     "output_type": "stream",
     "text": [
      "Ⅵ\n"
     ]
    },
    {
     "data": {
      "text/plain": [
       "True"
      ]
     },
     "execution_count": 85,
     "metadata": {},
     "output_type": "execute_result"
    }
   ],
   "source": [
    "print('\\u2165')\n",
    "'\\u2165'.isnumeric()"
   ]
  },
  {
   "cell_type": "code",
   "execution_count": null,
   "id": "173a6b13",
   "metadata": {},
   "outputs": [],
   "source": []
  },
  {
   "cell_type": "code",
   "execution_count": 95,
   "id": "1117884e",
   "metadata": {},
   "outputs": [
    {
     "name": "stdout",
     "output_type": "stream",
     "text": [
      "⅐\n"
     ]
    }
   ],
   "source": [
    "print('\\u2150')"
   ]
  },
  {
   "cell_type": "code",
   "execution_count": 90,
   "id": "4e182b5c",
   "metadata": {},
   "outputs": [
    {
     "data": {
      "text/plain": [
       "False"
      ]
     },
     "execution_count": 90,
     "metadata": {},
     "output_type": "execute_result"
    }
   ],
   "source": [
    "'\\u2153'.isdecimal()"
   ]
  },
  {
   "cell_type": "code",
   "execution_count": 91,
   "id": "74a1863f",
   "metadata": {},
   "outputs": [
    {
     "data": {
      "text/plain": [
       "False"
      ]
     },
     "execution_count": 91,
     "metadata": {},
     "output_type": "execute_result"
    }
   ],
   "source": [
    "'\\u2153'.isdigit()"
   ]
  },
  {
   "cell_type": "code",
   "execution_count": 92,
   "id": "0a97d082",
   "metadata": {},
   "outputs": [
    {
     "data": {
      "text/plain": [
       "True"
      ]
     },
     "execution_count": 92,
     "metadata": {},
     "output_type": "execute_result"
    }
   ],
   "source": [
    "'\\u2153'.isnumeric()"
   ]
  },
  {
   "cell_type": "code",
   "execution_count": null,
   "id": "99938024",
   "metadata": {},
   "outputs": [],
   "source": []
  },
  {
   "cell_type": "code",
   "execution_count": null,
   "id": "e4756299",
   "metadata": {},
   "outputs": [],
   "source": []
  },
  {
   "cell_type": "code",
   "execution_count": 6,
   "id": "90981c71",
   "metadata": {},
   "outputs": [
    {
     "data": {
      "text/plain": [
       "True"
      ]
     },
     "execution_count": 6,
     "metadata": {},
     "output_type": "execute_result"
    }
   ],
   "source": [
    "string = 'Hello World!'\n",
    "\n",
    "string.startswith('Hello')"
   ]
  },
  {
   "cell_type": "code",
   "execution_count": 11,
   "id": "0b74cdb2",
   "metadata": {},
   "outputs": [
    {
     "data": {
      "text/plain": [
       "True"
      ]
     },
     "execution_count": 11,
     "metadata": {},
     "output_type": "execute_result"
    }
   ],
   "source": [
    "another_string = 'How you doing?'\n",
    "\n",
    "another_string.endswith('doing?')"
   ]
  },
  {
   "cell_type": "code",
   "execution_count": 25,
   "id": "84337e0f",
   "metadata": {},
   "outputs": [
    {
     "name": "stdout",
     "output_type": "stream",
     "text": [
      "Found!\n",
      "Not Found!\n",
      "Not Found!\n",
      "Not Found!\n"
     ]
    }
   ],
   "source": [
    "filenames = ['/bin/etc/users.jpeg', '/bin/etc/users.csv', '/bin/etc/users.txt', '/bin/etc/users.mp3']\n",
    "\n",
    "for filename in filenames:\n",
    "    if filename.endswith('jpeg'):\n",
    "        print('Found!')\n",
    "    else:\n",
    "        print('Not Found!')"
   ]
  },
  {
   "cell_type": "code",
   "execution_count": null,
   "id": "8c9dae90",
   "metadata": {},
   "outputs": [],
   "source": []
  },
  {
   "cell_type": "code",
   "execution_count": null,
   "id": "9430233f",
   "metadata": {},
   "outputs": [],
   "source": []
  },
  {
   "cell_type": "code",
   "execution_count": null,
   "id": "71fa4860",
   "metadata": {},
   "outputs": [],
   "source": []
  },
  {
   "cell_type": "code",
   "execution_count": null,
   "id": "e3c74dc0",
   "metadata": {},
   "outputs": [],
   "source": []
  },
  {
   "cell_type": "code",
   "execution_count": null,
   "id": "0faadb4d",
   "metadata": {},
   "outputs": [],
   "source": []
  },
  {
   "cell_type": "code",
   "execution_count": null,
   "id": "d9de1681",
   "metadata": {},
   "outputs": [],
   "source": []
  },
  {
   "cell_type": "code",
   "execution_count": 29,
   "id": "7c51ea12",
   "metadata": {},
   "outputs": [
    {
     "data": {
      "text/plain": [
       "['How', 'are', 'you', 'doing?']"
      ]
     },
     "execution_count": 29,
     "metadata": {},
     "output_type": "execute_result"
    }
   ],
   "source": [
    "'How are you doing?'.split()"
   ]
  },
  {
   "cell_type": "code",
   "execution_count": 30,
   "id": "951a27a4",
   "metadata": {},
   "outputs": [
    {
     "data": {
      "text/plain": [
       "['How', 'are', 'you', 'doing?']"
      ]
     },
     "execution_count": 30,
     "metadata": {},
     "output_type": "execute_result"
    }
   ],
   "source": [
    "'How\\nare\\nyou\\ndoing?'.split()"
   ]
  },
  {
   "cell_type": "code",
   "execution_count": 32,
   "id": "be1ae5ae",
   "metadata": {},
   "outputs": [
    {
     "data": {
      "text/plain": [
       "['How', 'are', 'you', 'doing?']"
      ]
     },
     "execution_count": 32,
     "metadata": {},
     "output_type": "execute_result"
    }
   ],
   "source": [
    "'How are\\tyou\\ndoing?'.split() # split on the basis of whitespace (blank spaces, tab, newline)"
   ]
  },
  {
   "cell_type": "code",
   "execution_count": 35,
   "id": "c900c347",
   "metadata": {},
   "outputs": [
    {
     "data": {
      "text/plain": [
       "['How', 'are you\\ndoing?']"
      ]
     },
     "execution_count": 35,
     "metadata": {},
     "output_type": "execute_result"
    }
   ],
   "source": [
    "'How are you\\ndoing?'.split(' ', maxsplit=1)"
   ]
  },
  {
   "cell_type": "code",
   "execution_count": 42,
   "id": "7b378275",
   "metadata": {},
   "outputs": [
    {
     "data": {
      "text/plain": [
       "['', 'Hello Biswajit!', 'How you are doing?', '', 'I am fine.']"
      ]
     },
     "execution_count": 42,
     "metadata": {},
     "output_type": "execute_result"
    }
   ],
   "source": [
    "out = \"\"\"\n",
    "Hello Biswajit!\n",
    "How you are doing?\n",
    "\n",
    "I am fine.\"\"\".split('\\n')\n",
    "\n",
    "\n",
    "out"
   ]
  },
  {
   "cell_type": "code",
   "execution_count": 46,
   "id": "9b2276e2",
   "metadata": {},
   "outputs": [
    {
     "name": "stdout",
     "output_type": "stream",
     "text": [
      "['Hello Biswajit!', 'How you are doing?', 'I am fine.']\n"
     ]
    }
   ],
   "source": [
    "ans = []\n",
    "\n",
    "for words in out:\n",
    "    if len(words) > 0:\n",
    "        ans.append(words)\n",
    "        \n",
    "print(ans)"
   ]
  },
  {
   "cell_type": "code",
   "execution_count": 48,
   "id": "d3caefe3",
   "metadata": {},
   "outputs": [
    {
     "data": {
      "text/plain": [
       "['Hello', 'How', 'are', 'you', 'doing?']"
      ]
     },
     "execution_count": 48,
     "metadata": {},
     "output_type": "execute_result"
    }
   ],
   "source": [
    "\"Hello How are you doing?\".split(' ')"
   ]
  },
  {
   "cell_type": "code",
   "execution_count": 51,
   "id": "bef2f961",
   "metadata": {},
   "outputs": [
    {
     "data": {
      "text/plain": [
       "'Hello How are you doing?'"
      ]
     },
     "execution_count": 51,
     "metadata": {},
     "output_type": "execute_result"
    }
   ],
   "source": [
    "' '.join(['Hello', 'How', 'are', 'you', 'doing?'])"
   ]
  },
  {
   "cell_type": "code",
   "execution_count": 59,
   "id": "87e22565",
   "metadata": {},
   "outputs": [
    {
     "data": {
      "text/plain": [
       "'Hello How are you doing?'"
      ]
     },
     "execution_count": 59,
     "metadata": {},
     "output_type": "execute_result"
    }
   ],
   "source": [
    "demo_list = ['Hello', 'How', 'are', 'you', 'doing?']\n",
    "\n",
    "' '.join(demo_list)"
   ]
  },
  {
   "cell_type": "code",
   "execution_count": null,
   "id": "f6c23a0c",
   "metadata": {},
   "outputs": [],
   "source": []
  },
  {
   "cell_type": "code",
   "execution_count": 10,
   "id": "1f3ee159",
   "metadata": {},
   "outputs": [
    {
     "data": {
      "text/plain": [
       "('Hello', ' ', 'World!')"
      ]
     },
     "execution_count": 10,
     "metadata": {},
     "output_type": "execute_result"
    }
   ],
   "source": [
    "'Hello World!'.partition(' ')"
   ]
  },
  {
   "cell_type": "code",
   "execution_count": 11,
   "id": "f77f93fa",
   "metadata": {},
   "outputs": [
    {
     "data": {
      "text/plain": [
       "['Hello', 'World!']"
      ]
     },
     "execution_count": 11,
     "metadata": {},
     "output_type": "execute_result"
    }
   ],
   "source": [
    "'Hello World!'.split(' ')"
   ]
  },
  {
   "cell_type": "code",
   "execution_count": null,
   "id": "5880039d",
   "metadata": {},
   "outputs": [],
   "source": []
  },
  {
   "cell_type": "code",
   "execution_count": 12,
   "id": "84d14297",
   "metadata": {},
   "outputs": [
    {
     "data": {
      "text/plain": [
       "('Hello ', 'W', 'orld!')"
      ]
     },
     "execution_count": 12,
     "metadata": {},
     "output_type": "execute_result"
    }
   ],
   "source": [
    "'Hello World!'.partition('W')"
   ]
  },
  {
   "cell_type": "code",
   "execution_count": 13,
   "id": "406eaa75",
   "metadata": {},
   "outputs": [
    {
     "data": {
      "text/plain": [
       "('Hello ', 'W', 'orWld!')"
      ]
     },
     "execution_count": 13,
     "metadata": {},
     "output_type": "execute_result"
    }
   ],
   "source": [
    "'Hello WorWld!'.partition('W')"
   ]
  },
  {
   "cell_type": "code",
   "execution_count": 14,
   "id": "129e4cf4",
   "metadata": {},
   "outputs": [
    {
     "data": {
      "text/plain": [
       "('', 'k', 'olkata')"
      ]
     },
     "execution_count": 14,
     "metadata": {},
     "output_type": "execute_result"
    }
   ],
   "source": [
    "'kolkata'.partition('k')"
   ]
  },
  {
   "cell_type": "code",
   "execution_count": 15,
   "id": "c62d7459",
   "metadata": {},
   "outputs": [
    {
     "data": {
      "text/plain": [
       "('kol', 'ka', 'ta')"
      ]
     },
     "execution_count": 15,
     "metadata": {},
     "output_type": "execute_result"
    }
   ],
   "source": [
    "'kolkata'.partition('ka')"
   ]
  },
  {
   "cell_type": "code",
   "execution_count": 16,
   "id": "5879b665",
   "metadata": {},
   "outputs": [
    {
     "data": {
      "text/plain": [
       "('kolkata', '', '')"
      ]
     },
     "execution_count": 16,
     "metadata": {},
     "output_type": "execute_result"
    }
   ],
   "source": [
    "'kolkata'.partition('P')"
   ]
  },
  {
   "cell_type": "code",
   "execution_count": 18,
   "id": "3728f759",
   "metadata": {},
   "outputs": [],
   "source": [
    "first, key, last = 'Hello! How do you do?'.partition('!')"
   ]
  },
  {
   "cell_type": "code",
   "execution_count": 19,
   "id": "bf642050",
   "metadata": {},
   "outputs": [
    {
     "data": {
      "text/plain": [
       "'Hello'"
      ]
     },
     "execution_count": 19,
     "metadata": {},
     "output_type": "execute_result"
    }
   ],
   "source": [
    "first"
   ]
  },
  {
   "cell_type": "code",
   "execution_count": 20,
   "id": "6b02010c",
   "metadata": {},
   "outputs": [
    {
     "data": {
      "text/plain": [
       "'!'"
      ]
     },
     "execution_count": 20,
     "metadata": {},
     "output_type": "execute_result"
    }
   ],
   "source": [
    "key"
   ]
  },
  {
   "cell_type": "code",
   "execution_count": 21,
   "id": "f2401efe",
   "metadata": {},
   "outputs": [
    {
     "data": {
      "text/plain": [
       "' How do you do?'"
      ]
     },
     "execution_count": 21,
     "metadata": {},
     "output_type": "execute_result"
    }
   ],
   "source": [
    "last"
   ]
  },
  {
   "cell_type": "code",
   "execution_count": null,
   "id": "b735100e",
   "metadata": {},
   "outputs": [],
   "source": []
  },
  {
   "cell_type": "code",
   "execution_count": null,
   "id": "1402cfcd",
   "metadata": {},
   "outputs": [],
   "source": []
  },
  {
   "cell_type": "code",
   "execution_count": null,
   "id": "a48ffb20",
   "metadata": {},
   "outputs": [],
   "source": []
  },
  {
   "cell_type": "code",
   "execution_count": null,
   "id": "e6d5676a",
   "metadata": {},
   "outputs": [],
   "source": []
  },
  {
   "cell_type": "code",
   "execution_count": null,
   "id": "424e6fef",
   "metadata": {},
   "outputs": [],
   "source": []
  },
  {
   "cell_type": "code",
   "execution_count": null,
   "id": "738eec95",
   "metadata": {},
   "outputs": [],
   "source": []
  },
  {
   "cell_type": "code",
   "execution_count": null,
   "id": "63d52aec",
   "metadata": {},
   "outputs": [],
   "source": []
  },
  {
   "cell_type": "code",
   "execution_count": null,
   "id": "5a8d2a31",
   "metadata": {},
   "outputs": [],
   "source": [
    "ljust()\n",
    "rjust()\n",
    "center()"
   ]
  },
  {
   "cell_type": "code",
   "execution_count": null,
   "id": "a6ceffb6",
   "metadata": {},
   "outputs": [],
   "source": []
  },
  {
   "cell_type": "code",
   "execution_count": 9,
   "id": "7b62bde1",
   "metadata": {},
   "outputs": [
    {
     "data": {
      "text/plain": [
       "'Hello Bob!          '"
      ]
     },
     "execution_count": 9,
     "metadata": {},
     "output_type": "execute_result"
    }
   ],
   "source": [
    "'Hello Bob!'.ljust(20)"
   ]
  },
  {
   "cell_type": "code",
   "execution_count": 10,
   "id": "88b93ad5",
   "metadata": {},
   "outputs": [
    {
     "data": {
      "text/plain": [
       "'          Hello Bob!'"
      ]
     },
     "execution_count": 10,
     "metadata": {},
     "output_type": "execute_result"
    }
   ],
   "source": [
    "'Hello Bob!'.rjust(20)"
   ]
  },
  {
   "cell_type": "code",
   "execution_count": 11,
   "id": "f56ded8c",
   "metadata": {},
   "outputs": [
    {
     "data": {
      "text/plain": [
       "'     Hello Bob!     '"
      ]
     },
     "execution_count": 11,
     "metadata": {},
     "output_type": "execute_result"
    }
   ],
   "source": [
    "'Hello Bob!'.center(20)"
   ]
  },
  {
   "cell_type": "code",
   "execution_count": 27,
   "id": "924355ba",
   "metadata": {},
   "outputs": [
    {
     "data": {
      "text/plain": [
       "10"
      ]
     },
     "execution_count": 27,
     "metadata": {},
     "output_type": "execute_result"
    }
   ],
   "source": [
    "len('Hello Bob!')"
   ]
  },
  {
   "cell_type": "code",
   "execution_count": 28,
   "id": "3980580d",
   "metadata": {},
   "outputs": [
    {
     "data": {
      "text/plain": [
       "'Hello Bob!'"
      ]
     },
     "execution_count": 28,
     "metadata": {},
     "output_type": "execute_result"
    }
   ],
   "source": [
    "'Hello Bob!'.ljust(0)"
   ]
  },
  {
   "cell_type": "code",
   "execution_count": 30,
   "id": "c93fbd14",
   "metadata": {},
   "outputs": [
    {
     "data": {
      "text/plain": [
       "'Hello Bob!'"
      ]
     },
     "execution_count": 30,
     "metadata": {},
     "output_type": "execute_result"
    }
   ],
   "source": [
    "'Hello Bob!'.rjust(5)"
   ]
  },
  {
   "cell_type": "code",
   "execution_count": 31,
   "id": "16ecf336",
   "metadata": {},
   "outputs": [
    {
     "data": {
      "text/plain": [
       "'Hello Bob!'"
      ]
     },
     "execution_count": 31,
     "metadata": {},
     "output_type": "execute_result"
    }
   ],
   "source": [
    "'Hello Bob!'.center(10)"
   ]
  },
  {
   "cell_type": "code",
   "execution_count": null,
   "id": "8db72401",
   "metadata": {},
   "outputs": [],
   "source": []
  },
  {
   "cell_type": "code",
   "execution_count": 37,
   "id": "d5144aad",
   "metadata": {},
   "outputs": [
    {
     "data": {
      "text/plain": [
       "'Prices----'"
      ]
     },
     "execution_count": 37,
     "metadata": {},
     "output_type": "execute_result"
    }
   ],
   "source": [
    "'Prices'.ljust(10, '-')"
   ]
  },
  {
   "cell_type": "code",
   "execution_count": 38,
   "id": "7260951b",
   "metadata": {},
   "outputs": [
    {
     "data": {
      "text/plain": [
       "'----Prices'"
      ]
     },
     "execution_count": 38,
     "metadata": {},
     "output_type": "execute_result"
    }
   ],
   "source": [
    "'Prices'.rjust(10, '-')"
   ]
  },
  {
   "cell_type": "code",
   "execution_count": 40,
   "id": "f479238b",
   "metadata": {},
   "outputs": [
    {
     "data": {
      "text/plain": [
       "'--Price---'"
      ]
     },
     "execution_count": 40,
     "metadata": {},
     "output_type": "execute_result"
    }
   ],
   "source": [
    "'Price'.center(10, '-')"
   ]
  },
  {
   "cell_type": "code",
   "execution_count": 41,
   "id": "bc864de0",
   "metadata": {},
   "outputs": [],
   "source": [
    "party = {\n",
    "    'Candles': 5,\n",
    "    'Cake': 2,\n",
    "    'Cookies': 6\n",
    "}"
   ]
  },
  {
   "cell_type": "code",
   "execution_count": 54,
   "id": "0c442aeb",
   "metadata": {
    "scrolled": true
   },
   "outputs": [
    {
     "name": "stdout",
     "output_type": "stream",
     "text": [
      "==========Party==========\n",
      "Candles                 5\n",
      "Cake                    2\n",
      "Cookies                 6\n",
      "=========================\n"
     ]
    }
   ],
   "source": [
    "print('Party'.center(25, '='))\n",
    "for k, v in party.items():\n",
    "    print(k.ljust(10) + str(v).rjust(15))\n",
    "print('='*25)"
   ]
  },
  {
   "cell_type": "code",
   "execution_count": null,
   "id": "26a31103",
   "metadata": {},
   "outputs": [],
   "source": []
  },
  {
   "cell_type": "code",
   "execution_count": null,
   "id": "daae53cc",
   "metadata": {},
   "outputs": [],
   "source": [
    "lstrip()\n",
    "rstrip()\n",
    "strip()"
   ]
  },
  {
   "cell_type": "code",
   "execution_count": 1,
   "id": "d911dc2e",
   "metadata": {},
   "outputs": [
    {
     "data": {
      "text/plain": [
       "'Hello Biswajit!'"
      ]
     },
     "execution_count": 1,
     "metadata": {},
     "output_type": "execute_result"
    }
   ],
   "source": [
    "'Hello Biswajit!'.lstrip()"
   ]
  },
  {
   "cell_type": "code",
   "execution_count": 2,
   "id": "a383e898",
   "metadata": {},
   "outputs": [
    {
     "data": {
      "text/plain": [
       "'Hello Biswajit!'"
      ]
     },
     "execution_count": 2,
     "metadata": {},
     "output_type": "execute_result"
    }
   ],
   "source": [
    "'Hello Biswajit!'.rstrip()"
   ]
  },
  {
   "cell_type": "code",
   "execution_count": 3,
   "id": "ed591fce",
   "metadata": {},
   "outputs": [
    {
     "data": {
      "text/plain": [
       "'Hello Biswajit!'"
      ]
     },
     "execution_count": 3,
     "metadata": {},
     "output_type": "execute_result"
    }
   ],
   "source": [
    "'Hello Biswajit!'.strip()"
   ]
  },
  {
   "cell_type": "code",
   "execution_count": null,
   "id": "1c4df799",
   "metadata": {},
   "outputs": [],
   "source": []
  },
  {
   "cell_type": "code",
   "execution_count": 4,
   "id": "e2a3adac",
   "metadata": {},
   "outputs": [
    {
     "data": {
      "text/plain": [
       "'Hello Biswajit!       '"
      ]
     },
     "execution_count": 4,
     "metadata": {},
     "output_type": "execute_result"
    }
   ],
   "source": [
    "'         Hello Biswajit!       '.lstrip()"
   ]
  },
  {
   "cell_type": "code",
   "execution_count": 5,
   "id": "406393f9",
   "metadata": {},
   "outputs": [
    {
     "data": {
      "text/plain": [
       "'         Hello Biswajit!'"
      ]
     },
     "execution_count": 5,
     "metadata": {},
     "output_type": "execute_result"
    }
   ],
   "source": [
    "'         Hello Biswajit!       '.rstrip()"
   ]
  },
  {
   "cell_type": "code",
   "execution_count": 6,
   "id": "bf484a4e",
   "metadata": {},
   "outputs": [
    {
     "data": {
      "text/plain": [
       "'Hello Biswajit!'"
      ]
     },
     "execution_count": 6,
     "metadata": {},
     "output_type": "execute_result"
    }
   ],
   "source": [
    "'         Hello Biswajit!       '.strip()"
   ]
  },
  {
   "cell_type": "code",
   "execution_count": null,
   "id": "50905b10",
   "metadata": {},
   "outputs": [],
   "source": [
    "whitespace = ' ', '\\n', '\\t'"
   ]
  },
  {
   "cell_type": "code",
   "execution_count": 7,
   "id": "c48f4b5d",
   "metadata": {},
   "outputs": [
    {
     "data": {
      "text/plain": [
       "'Hello Biswajit!    \\n\\n\\t \\t \\n   '"
      ]
     },
     "execution_count": 7,
     "metadata": {},
     "output_type": "execute_result"
    }
   ],
   "source": [
    "' \\n\\n\\t \\t \\n       Hello Biswajit!    \\n\\n\\t \\t \\n   '.lstrip()"
   ]
  },
  {
   "cell_type": "code",
   "execution_count": 8,
   "id": "4dff9676",
   "metadata": {},
   "outputs": [
    {
     "data": {
      "text/plain": [
       "'character \\t \\n       Hello Biswajit!    \\n\\n\\t \\t \\n   '"
      ]
     },
     "execution_count": 8,
     "metadata": {},
     "output_type": "execute_result"
    }
   ],
   "source": [
    "' \\n\\n\\t character \\t \\n       Hello Biswajit!    \\n\\n\\t \\t \\n   '.lstrip()"
   ]
  },
  {
   "cell_type": "code",
   "execution_count": 9,
   "id": "52fe4a15",
   "metadata": {},
   "outputs": [
    {
     "data": {
      "text/plain": [
       "' \\n\\n\\t character \\t \\n       Hello Biswajit!'"
      ]
     },
     "execution_count": 9,
     "metadata": {},
     "output_type": "execute_result"
    }
   ],
   "source": [
    "' \\n\\n\\t character \\t \\n       Hello Biswajit!    \\n\\n\\t \\t \\n   '.rstrip()"
   ]
  },
  {
   "cell_type": "code",
   "execution_count": 10,
   "id": "dfcd347b",
   "metadata": {},
   "outputs": [
    {
     "data": {
      "text/plain": [
       "'character \\t \\n       Hello Biswajit!'"
      ]
     },
     "execution_count": 10,
     "metadata": {},
     "output_type": "execute_result"
    }
   ],
   "source": [
    "' \\n\\n\\t character \\t \\n       Hello Biswajit!    \\n\\n\\t \\t \\n   '.strip()"
   ]
  },
  {
   "cell_type": "code",
   "execution_count": null,
   "id": "1d7644c0",
   "metadata": {},
   "outputs": [],
   "source": []
  },
  {
   "cell_type": "code",
   "execution_count": 12,
   "id": "87e9a820",
   "metadata": {},
   "outputs": [
    {
     "data": {
      "text/plain": [
       "'Title---------'"
      ]
     },
     "execution_count": 12,
     "metadata": {},
     "output_type": "execute_result"
    }
   ],
   "source": [
    "'--------Title---------'.lstrip('-')"
   ]
  },
  {
   "cell_type": "code",
   "execution_count": 13,
   "id": "a17dfcd5",
   "metadata": {},
   "outputs": [
    {
     "data": {
      "text/plain": [
       "'--------Title'"
      ]
     },
     "execution_count": 13,
     "metadata": {},
     "output_type": "execute_result"
    }
   ],
   "source": [
    "'--------Title---------'.rstrip('-')"
   ]
  },
  {
   "cell_type": "code",
   "execution_count": 14,
   "id": "13b5733f",
   "metadata": {},
   "outputs": [
    {
     "data": {
      "text/plain": [
       "'Title'"
      ]
     },
     "execution_count": 14,
     "metadata": {},
     "output_type": "execute_result"
    }
   ],
   "source": [
    "'--------Title---------'.strip('-')"
   ]
  },
  {
   "cell_type": "code",
   "execution_count": 15,
   "id": "7c7f2e9f",
   "metadata": {},
   "outputs": [
    {
     "data": {
      "text/plain": [
       "'SoftApp'"
      ]
     },
     "execution_count": 15,
     "metadata": {},
     "output_type": "execute_result"
    }
   ],
   "source": [
    "'AppSoftApp'.lstrip('App')"
   ]
  },
  {
   "cell_type": "code",
   "execution_count": 16,
   "id": "800b819f",
   "metadata": {},
   "outputs": [
    {
     "data": {
      "text/plain": [
       "'AppSoft'"
      ]
     },
     "execution_count": 16,
     "metadata": {},
     "output_type": "execute_result"
    }
   ],
   "source": [
    "'AppSoftApp'.rstrip('App')"
   ]
  },
  {
   "cell_type": "code",
   "execution_count": 17,
   "id": "8acc91dd",
   "metadata": {},
   "outputs": [
    {
     "data": {
      "text/plain": [
       "'Soft'"
      ]
     },
     "execution_count": 17,
     "metadata": {},
     "output_type": "execute_result"
    }
   ],
   "source": [
    "'AppSoftApp'.strip('App')"
   ]
  },
  {
   "cell_type": "code",
   "execution_count": 19,
   "id": "724bd046",
   "metadata": {},
   "outputs": [
    {
     "data": {
      "text/plain": [
       "'Soft'"
      ]
     },
     "execution_count": 19,
     "metadata": {},
     "output_type": "execute_result"
    }
   ],
   "source": [
    "'AppSoftApp'.strip('pA')"
   ]
  },
  {
   "cell_type": "code",
   "execution_count": 20,
   "id": "359110c5",
   "metadata": {},
   "outputs": [
    {
     "data": {
      "text/plain": [
       "'=+=====+++===++TaDa++==++======='"
      ]
     },
     "execution_count": 20,
     "metadata": {},
     "output_type": "execute_result"
    }
   ],
   "source": [
    "'+=+=====+++===++TaDa++==++=======+++'.strip('+')"
   ]
  },
  {
   "cell_type": "code",
   "execution_count": 21,
   "id": "1c5ccd27",
   "metadata": {},
   "outputs": [
    {
     "data": {
      "text/plain": [
       "'TaDa'"
      ]
     },
     "execution_count": 21,
     "metadata": {},
     "output_type": "execute_result"
    }
   ],
   "source": [
    "'+=+=====+++===++TaDa++==++=======+++'.strip('+=')"
   ]
  },
  {
   "cell_type": "code",
   "execution_count": null,
   "id": "70359a49",
   "metadata": {},
   "outputs": [],
   "source": []
  },
  {
   "cell_type": "code",
   "execution_count": null,
   "id": "ab946b6b",
   "metadata": {},
   "outputs": [],
   "source": []
  },
  {
   "cell_type": "code",
   "execution_count": null,
   "id": "fe939ccd",
   "metadata": {},
   "outputs": [],
   "source": []
  },
  {
   "cell_type": "raw",
   "id": "c6733645",
   "metadata": {},
   "source": [
    "ord() -> Takes Character and return Unicode\n",
    "chr()  -> Takes Unicode and returns Character"
   ]
  },
  {
   "cell_type": "code",
   "execution_count": 38,
   "id": "3cf0bf03",
   "metadata": {},
   "outputs": [
    {
     "data": {
      "text/plain": [
       "65"
      ]
     },
     "execution_count": 38,
     "metadata": {},
     "output_type": "execute_result"
    }
   ],
   "source": [
    "ord('A')"
   ]
  },
  {
   "cell_type": "code",
   "execution_count": 39,
   "id": "ea776212",
   "metadata": {},
   "outputs": [
    {
     "data": {
      "text/plain": [
       "66"
      ]
     },
     "execution_count": 39,
     "metadata": {},
     "output_type": "execute_result"
    }
   ],
   "source": [
    "ord('B')"
   ]
  },
  {
   "cell_type": "code",
   "execution_count": 40,
   "id": "d1163efa",
   "metadata": {},
   "outputs": [
    {
     "data": {
      "text/plain": [
       "90"
      ]
     },
     "execution_count": 40,
     "metadata": {},
     "output_type": "execute_result"
    }
   ],
   "source": [
    "ord('Z')"
   ]
  },
  {
   "cell_type": "code",
   "execution_count": 41,
   "id": "81771415",
   "metadata": {},
   "outputs": [
    {
     "data": {
      "text/plain": [
       "97"
      ]
     },
     "execution_count": 41,
     "metadata": {},
     "output_type": "execute_result"
    }
   ],
   "source": [
    "ord('a')"
   ]
  },
  {
   "cell_type": "code",
   "execution_count": 42,
   "id": "9ddc6514",
   "metadata": {},
   "outputs": [
    {
     "data": {
      "text/plain": [
       "54"
      ]
     },
     "execution_count": 42,
     "metadata": {},
     "output_type": "execute_result"
    }
   ],
   "source": [
    "ord('6')"
   ]
  },
  {
   "cell_type": "code",
   "execution_count": 44,
   "id": "20e2250f",
   "metadata": {},
   "outputs": [
    {
     "ename": "TypeError",
     "evalue": "ord() expected string of length 1, but int found",
     "output_type": "error",
     "traceback": [
      "\u001b[1;31m---------------------------------------------------------------------------\u001b[0m",
      "\u001b[1;31mTypeError\u001b[0m                                 Traceback (most recent call last)",
      "\u001b[1;32m~\\AppData\\Local\\Temp\\ipykernel_8536\\1874674406.py\u001b[0m in \u001b[0;36m<module>\u001b[1;34m\u001b[0m\n\u001b[1;32m----> 1\u001b[1;33m \u001b[0mord\u001b[0m\u001b[1;33m(\u001b[0m\u001b[1;36m6\u001b[0m\u001b[1;33m)\u001b[0m\u001b[1;33m\u001b[0m\u001b[1;33m\u001b[0m\u001b[0m\n\u001b[0m",
      "\u001b[1;31mTypeError\u001b[0m: ord() expected string of length 1, but int found"
     ]
    }
   ],
   "source": [
    "ord(6)"
   ]
  },
  {
   "cell_type": "code",
   "execution_count": 45,
   "id": "85e7104b",
   "metadata": {},
   "outputs": [
    {
     "data": {
      "text/plain": [
       "63"
      ]
     },
     "execution_count": 45,
     "metadata": {},
     "output_type": "execute_result"
    }
   ],
   "source": [
    "ord('?')"
   ]
  },
  {
   "cell_type": "code",
   "execution_count": 46,
   "id": "0b01cf93",
   "metadata": {},
   "outputs": [
    {
     "data": {
      "text/plain": [
       "61"
      ]
     },
     "execution_count": 46,
     "metadata": {},
     "output_type": "execute_result"
    }
   ],
   "source": [
    "ord('=')"
   ]
  },
  {
   "cell_type": "code",
   "execution_count": 47,
   "id": "b44c1e64",
   "metadata": {},
   "outputs": [
    {
     "data": {
      "text/plain": [
       "32"
      ]
     },
     "execution_count": 47,
     "metadata": {},
     "output_type": "execute_result"
    }
   ],
   "source": [
    "ord(' ')"
   ]
  },
  {
   "cell_type": "code",
   "execution_count": 48,
   "id": "776824e9",
   "metadata": {},
   "outputs": [
    {
     "data": {
      "text/plain": [
       "9"
      ]
     },
     "execution_count": 48,
     "metadata": {},
     "output_type": "execute_result"
    }
   ],
   "source": [
    "ord('\\t')"
   ]
  },
  {
   "cell_type": "code",
   "execution_count": 49,
   "id": "e73652fe",
   "metadata": {},
   "outputs": [
    {
     "data": {
      "text/plain": [
       "10"
      ]
     },
     "execution_count": 49,
     "metadata": {},
     "output_type": "execute_result"
    }
   ],
   "source": [
    "ord('\\n')"
   ]
  },
  {
   "cell_type": "code",
   "execution_count": 50,
   "id": "61a514bf",
   "metadata": {},
   "outputs": [
    {
     "data": {
      "text/plain": [
       "92"
      ]
     },
     "execution_count": 50,
     "metadata": {},
     "output_type": "execute_result"
    }
   ],
   "source": [
    "ord('\\\\')"
   ]
  },
  {
   "cell_type": "code",
   "execution_count": 56,
   "id": "b2ca6c91",
   "metadata": {},
   "outputs": [
    {
     "name": "stdout",
     "output_type": "stream",
     "text": [
      "\\\n"
     ]
    },
    {
     "data": {
      "text/plain": [
       "92"
      ]
     },
     "execution_count": 56,
     "metadata": {},
     "output_type": "execute_result"
    }
   ],
   "source": [
    "print('\\\\')\n",
    "ord('\\\\')"
   ]
  },
  {
   "cell_type": "code",
   "execution_count": 57,
   "id": "abcb0f13",
   "metadata": {},
   "outputs": [
    {
     "data": {
      "text/plain": [
       "128512"
      ]
     },
     "execution_count": 57,
     "metadata": {},
     "output_type": "execute_result"
    }
   ],
   "source": [
    "ord('😀')"
   ]
  },
  {
   "cell_type": "code",
   "execution_count": 58,
   "id": "e10c0dbc",
   "metadata": {},
   "outputs": [
    {
     "data": {
      "text/plain": [
       "129321"
      ]
     },
     "execution_count": 58,
     "metadata": {},
     "output_type": "execute_result"
    }
   ],
   "source": [
    "ord('🤩')"
   ]
  },
  {
   "cell_type": "code",
   "execution_count": 59,
   "id": "6ff0401e",
   "metadata": {},
   "outputs": [
    {
     "data": {
      "text/plain": [
       "'🤩'"
      ]
     },
     "execution_count": 59,
     "metadata": {},
     "output_type": "execute_result"
    }
   ],
   "source": [
    "chr(129321)"
   ]
  },
  {
   "cell_type": "code",
   "execution_count": 60,
   "id": "81fe367d",
   "metadata": {},
   "outputs": [
    {
     "data": {
      "text/plain": [
       "'🤪'"
      ]
     },
     "execution_count": 60,
     "metadata": {},
     "output_type": "execute_result"
    }
   ],
   "source": [
    "chr(129322)"
   ]
  },
  {
   "cell_type": "code",
   "execution_count": 61,
   "id": "e2f7127a",
   "metadata": {},
   "outputs": [
    {
     "data": {
      "text/plain": [
       "'🤫'"
      ]
     },
     "execution_count": 61,
     "metadata": {},
     "output_type": "execute_result"
    }
   ],
   "source": [
    "chr(129323)"
   ]
  },
  {
   "cell_type": "code",
   "execution_count": 64,
   "id": "e1e22734",
   "metadata": {
    "scrolled": true
   },
   "outputs": [
    {
     "name": "stdout",
     "output_type": "stream",
     "text": [
      "1 🤨\n",
      "2 🤩\n",
      "3 🤪\n",
      "4 🤫\n",
      "5 🤬\n",
      "6 🤭\n",
      "7 🤮\n",
      "8 🤯\n",
      "9 🤰\n",
      "10 🤱\n",
      "11 🤲\n",
      "12 🤳\n",
      "13 🤴\n",
      "14 🤵\n",
      "15 🤶\n",
      "16 🤷\n",
      "17 🤸\n",
      "18 🤹\n",
      "19 🤺\n",
      "20 🤻\n",
      "21 🤼\n",
      "22 🤽\n",
      "23 🤾\n",
      "24 🤿\n",
      "25 🥀\n",
      "26 🥁\n",
      "27 🥂\n",
      "28 🥃\n",
      "29 🥄\n",
      "30 🥅\n"
     ]
    }
   ],
   "source": [
    "count = 1\n",
    "for i in range(129320, 129350):\n",
    "    print(count, chr(i))\n",
    "    count += 1"
   ]
  },
  {
   "cell_type": "code",
   "execution_count": null,
   "id": "86437ca1",
   "metadata": {},
   "outputs": [],
   "source": []
  },
  {
   "cell_type": "code",
   "execution_count": 67,
   "id": "1071b69d",
   "metadata": {},
   "outputs": [
    {
     "data": {
      "text/plain": [
       "(65, 90)"
      ]
     },
     "execution_count": 67,
     "metadata": {},
     "output_type": "execute_result"
    }
   ],
   "source": [
    "ord('A'), ord('Z')"
   ]
  },
  {
   "cell_type": "code",
   "execution_count": 68,
   "id": "53d13119",
   "metadata": {},
   "outputs": [
    {
     "data": {
      "text/plain": [
       "(97, 122)"
      ]
     },
     "execution_count": 68,
     "metadata": {},
     "output_type": "execute_result"
    }
   ],
   "source": [
    "ord('a'), ord('z')"
   ]
  },
  {
   "cell_type": "code",
   "execution_count": 69,
   "id": "22b68251",
   "metadata": {},
   "outputs": [
    {
     "data": {
      "text/plain": [
       "(48, 57)"
      ]
     },
     "execution_count": 69,
     "metadata": {},
     "output_type": "execute_result"
    }
   ],
   "source": [
    "ord('0'), ord('9')"
   ]
  },
  {
   "cell_type": "code",
   "execution_count": 18,
   "id": "137f6e14",
   "metadata": {},
   "outputs": [
    {
     "data": {
      "text/plain": [
       "False"
      ]
     },
     "execution_count": 18,
     "metadata": {},
     "output_type": "execute_result"
    }
   ],
   "source": [
    "'A' == 'B'"
   ]
  },
  {
   "cell_type": "code",
   "execution_count": 17,
   "id": "1b29769a",
   "metadata": {},
   "outputs": [
    {
     "data": {
      "text/plain": [
       "(71, 66)"
      ]
     },
     "execution_count": 17,
     "metadata": {},
     "output_type": "execute_result"
    }
   ],
   "source": [
    "ord('G'), ord('B')"
   ]
  },
  {
   "cell_type": "code",
   "execution_count": 19,
   "id": "8f584414",
   "metadata": {},
   "outputs": [
    {
     "data": {
      "text/plain": [
       "(65, 90)"
      ]
     },
     "execution_count": 19,
     "metadata": {},
     "output_type": "execute_result"
    }
   ],
   "source": [
    "ord('A'), ord('Z')"
   ]
  },
  {
   "cell_type": "code",
   "execution_count": 20,
   "id": "cdf28f26",
   "metadata": {},
   "outputs": [
    {
     "name": "stdout",
     "output_type": "stream",
     "text": [
      "Do Something else!\n"
     ]
    }
   ],
   "source": [
    "if ord('A') > ord('Z'):\n",
    "    print('Do Something!')\n",
    "else:\n",
    "    print('Do Something else!')"
   ]
  },
  {
   "cell_type": "code",
   "execution_count": 21,
   "id": "8369fc2c",
   "metadata": {},
   "outputs": [
    {
     "data": {
      "text/plain": [
       "155"
      ]
     },
     "execution_count": 21,
     "metadata": {},
     "output_type": "execute_result"
    }
   ],
   "source": [
    "ord('A') + ord('Z')"
   ]
  },
  {
   "cell_type": "code",
   "execution_count": null,
   "id": "559be6af",
   "metadata": {},
   "outputs": [],
   "source": []
  },
  {
   "cell_type": "code",
   "execution_count": 70,
   "id": "469b8c61",
   "metadata": {},
   "outputs": [
    {
     "name": "stdout",
     "output_type": "stream",
     "text": [
      "L#olnh#|rx$\n"
     ]
    }
   ],
   "source": [
    "msg = 'I like you!'\n",
    "new_msg = ''\n",
    "key = 3\n",
    "\n",
    "for letter in msg:\n",
    "    new_msg += chr(ord(letter) + key)\n",
    "\n",
    "print(new_msg)"
   ]
  },
  {
   "cell_type": "code",
   "execution_count": 72,
   "id": "80bb133b",
   "metadata": {},
   "outputs": [
    {
     "name": "stdout",
     "output_type": "stream",
     "text": [
      "I like you!\n"
     ]
    }
   ],
   "source": [
    "received_msg = 'L#olnh#|rx$'\n",
    "decode = ''\n",
    "\n",
    "for letter in received_msg:\n",
    "    decode += chr(ord(letter) - key)\n",
    "    \n",
    "print(decode)"
   ]
  },
  {
   "cell_type": "code",
   "execution_count": null,
   "id": "d5442e7b",
   "metadata": {},
   "outputs": [],
   "source": []
  },
  {
   "cell_type": "code",
   "execution_count": 73,
   "id": "238eb68c",
   "metadata": {},
   "outputs": [
    {
     "data": {
      "text/plain": [
       "65"
      ]
     },
     "execution_count": 73,
     "metadata": {},
     "output_type": "execute_result"
    }
   ],
   "source": [
    "ord('A')"
   ]
  },
  {
   "cell_type": "code",
   "execution_count": 76,
   "id": "ff875a12",
   "metadata": {},
   "outputs": [
    {
     "data": {
      "text/plain": [
       "(66, 'B')"
      ]
     },
     "execution_count": 76,
     "metadata": {},
     "output_type": "execute_result"
    }
   ],
   "source": [
    "ord('B'), chr(66)"
   ]
  },
  {
   "cell_type": "code",
   "execution_count": 85,
   "id": "731fd5f7",
   "metadata": {},
   "outputs": [
    {
     "data": {
      "text/plain": [
       "'a'"
      ]
     },
     "execution_count": 85,
     "metadata": {},
     "output_type": "execute_result"
    }
   ],
   "source": [
    "chr(ord('A') + 32)"
   ]
  },
  {
   "cell_type": "code",
   "execution_count": 86,
   "id": "377038e2",
   "metadata": {},
   "outputs": [
    {
     "data": {
      "text/plain": [
       "'b'"
      ]
     },
     "execution_count": 86,
     "metadata": {},
     "output_type": "execute_result"
    }
   ],
   "source": [
    "chr(ord('B') + 32)"
   ]
  },
  {
   "cell_type": "code",
   "execution_count": 87,
   "id": "131e7ebd",
   "metadata": {},
   "outputs": [
    {
     "data": {
      "text/plain": [
       "'z'"
      ]
     },
     "execution_count": 87,
     "metadata": {},
     "output_type": "execute_result"
    }
   ],
   "source": [
    "chr(ord('Z') + 32)"
   ]
  },
  {
   "cell_type": "code",
   "execution_count": 89,
   "id": "52ed0ce9",
   "metadata": {},
   "outputs": [
    {
     "data": {
      "text/plain": [
       "(65, 97)"
      ]
     },
     "execution_count": 89,
     "metadata": {},
     "output_type": "execute_result"
    }
   ],
   "source": [
    "ord('A'), ord('a')"
   ]
  },
  {
   "cell_type": "code",
   "execution_count": 90,
   "id": "bd346947",
   "metadata": {},
   "outputs": [
    {
     "data": {
      "text/plain": [
       "32"
      ]
     },
     "execution_count": 90,
     "metadata": {},
     "output_type": "execute_result"
    }
   ],
   "source": [
    "97 - 65"
   ]
  },
  {
   "cell_type": "code",
   "execution_count": null,
   "id": "e0e28dd6",
   "metadata": {},
   "outputs": [],
   "source": []
  },
  {
   "cell_type": "code",
   "execution_count": null,
   "id": "a023490f",
   "metadata": {},
   "outputs": [],
   "source": []
  },
  {
   "cell_type": "code",
   "execution_count": 4,
   "id": "465f5c4c",
   "metadata": {},
   "outputs": [
    {
     "data": {
      "text/plain": [
       "False"
      ]
     },
     "execution_count": 4,
     "metadata": {},
     "output_type": "execute_result"
    }
   ],
   "source": []
  },
  {
   "cell_type": "code",
   "execution_count": 10,
   "id": "275bc24d",
   "metadata": {},
   "outputs": [
    {
     "data": {
      "text/plain": [
       "(71, 66)"
      ]
     },
     "execution_count": 10,
     "metadata": {},
     "output_type": "execute_result"
    }
   ],
   "source": []
  },
  {
   "cell_type": "code",
   "execution_count": 13,
   "id": "40c9f30e",
   "metadata": {},
   "outputs": [
    {
     "name": "stdout",
     "output_type": "stream",
     "text": [
      "Do Something else!\n"
     ]
    }
   ],
   "source": []
  },
  {
   "cell_type": "code",
   "execution_count": 15,
   "id": "d4435a92",
   "metadata": {},
   "outputs": [
    {
     "data": {
      "text/plain": [
       "(65, 90)"
      ]
     },
     "execution_count": 15,
     "metadata": {},
     "output_type": "execute_result"
    }
   ],
   "source": []
  },
  {
   "cell_type": "code",
   "execution_count": 16,
   "id": "54e04433",
   "metadata": {},
   "outputs": [
    {
     "data": {
      "text/plain": [
       "155"
      ]
     },
     "execution_count": 16,
     "metadata": {},
     "output_type": "execute_result"
    }
   ],
   "source": []
  },
  {
   "cell_type": "code",
   "execution_count": null,
   "id": "6d2c677a",
   "metadata": {},
   "outputs": [],
   "source": []
  },
  {
   "cell_type": "code",
   "execution_count": null,
   "id": "d67952bc",
   "metadata": {},
   "outputs": [],
   "source": []
  },
  {
   "cell_type": "code",
   "execution_count": null,
   "id": "62ad21a5",
   "metadata": {},
   "outputs": [],
   "source": []
  },
  {
   "cell_type": "code",
   "execution_count": null,
   "id": "fac8b5aa",
   "metadata": {},
   "outputs": [],
   "source": []
  },
  {
   "cell_type": "code",
   "execution_count": null,
   "id": "545d2cd8",
   "metadata": {},
   "outputs": [],
   "source": []
  },
  {
   "cell_type": "code",
   "execution_count": null,
   "id": "5810b436",
   "metadata": {},
   "outputs": [],
   "source": []
  },
  {
   "cell_type": "code",
   "execution_count": null,
   "id": "21a36f88",
   "metadata": {},
   "outputs": [],
   "source": []
  },
  {
   "cell_type": "code",
   "execution_count": null,
   "id": "9952fb41",
   "metadata": {},
   "outputs": [],
   "source": []
  },
  {
   "cell_type": "code",
   "execution_count": null,
   "id": "29a540ab",
   "metadata": {},
   "outputs": [],
   "source": []
  },
  {
   "cell_type": "code",
   "execution_count": null,
   "id": "30349fa8",
   "metadata": {},
   "outputs": [],
   "source": []
  },
  {
   "cell_type": "code",
   "execution_count": null,
   "id": "253d1af1",
   "metadata": {},
   "outputs": [],
   "source": []
  },
  {
   "cell_type": "code",
   "execution_count": null,
   "id": "d9539027",
   "metadata": {},
   "outputs": [],
   "source": []
  },
  {
   "cell_type": "code",
   "execution_count": null,
   "id": "e780c711",
   "metadata": {},
   "outputs": [],
   "source": []
  },
  {
   "cell_type": "code",
   "execution_count": null,
   "id": "c7622bd2",
   "metadata": {},
   "outputs": [],
   "source": []
  },
  {
   "cell_type": "code",
   "execution_count": null,
   "id": "b5231dcb",
   "metadata": {},
   "outputs": [],
   "source": []
  },
  {
   "cell_type": "code",
   "execution_count": null,
   "id": "b482f883",
   "metadata": {},
   "outputs": [],
   "source": []
  }
 ],
 "metadata": {
  "kernelspec": {
   "display_name": "Python 3 (ipykernel)",
   "language": "python",
   "name": "python3"
  },
  "language_info": {
   "codemirror_mode": {
    "name": "ipython",
    "version": 3
   },
   "file_extension": ".py",
   "mimetype": "text/x-python",
   "name": "python",
   "nbconvert_exporter": "python",
   "pygments_lexer": "ipython3",
   "version": "3.9.13"
  }
 },
 "nbformat": 4,
 "nbformat_minor": 5
}
