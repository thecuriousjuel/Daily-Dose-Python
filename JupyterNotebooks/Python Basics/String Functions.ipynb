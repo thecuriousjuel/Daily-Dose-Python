{
 "cells": [
  {
   "cell_type": "code",
   "execution_count": null,
   "id": "49ec8fb5",
   "metadata": {},
   "outputs": [],
   "source": [
    "# isalpha()\n",
    "\n",
    "\n",
    "'apple123'.isalpha()"
   ]
  },
  {
   "cell_type": "code",
   "execution_count": null,
   "id": "d6e0e485",
   "metadata": {},
   "outputs": [],
   "source": [
    "# isalnum()\n",
    "\n",
    "\n",
    "'B1i1s2w3a4j8i9t!'.isalnum()"
   ]
  },
  {
   "cell_type": "code",
   "execution_count": null,
   "id": "49a08566",
   "metadata": {},
   "outputs": [],
   "source": [
    "# isspace()\n",
    "\n",
    "\n",
    "' '.isspace()"
   ]
  },
  {
   "cell_type": "code",
   "execution_count": 5,
   "id": "815e297b",
   "metadata": {},
   "outputs": [
    {
     "data": {
      "text/plain": [
       "False"
      ]
     },
     "execution_count": 5,
     "metadata": {},
     "output_type": "execute_result"
    }
   ],
   "source": [
    "# istitle()\n",
    "\n",
    "'8Today 9I9s A Sunny Day! 123'.istitle()"
   ]
  },
  {
   "cell_type": "code",
   "execution_count": null,
   "id": "6ce4442c",
   "metadata": {},
   "outputs": [],
   "source": [
    "# isidentifier()\n",
    "\n",
    "\n",
    "'integer_1'.isidentifier()"
   ]
  },
  {
   "cell_type": "code",
   "execution_count": null,
   "id": "ce9a3666",
   "metadata": {},
   "outputs": [],
   "source": [
    "integer 1 = 1"
   ]
  },
  {
   "cell_type": "code",
   "execution_count": null,
   "id": "06986031",
   "metadata": {},
   "outputs": [],
   "source": [
    "# isprintable()\n",
    "\n",
    "'Biswajit\\tBasak'.isprintable()"
   ]
  },
  {
   "cell_type": "code",
   "execution_count": null,
   "id": "19ccb953",
   "metadata": {},
   "outputs": [],
   "source": [
    "print('Biswajit\\tBasak')"
   ]
  },
  {
   "cell_type": "code",
   "execution_count": null,
   "id": "5065785a",
   "metadata": {},
   "outputs": [],
   "source": []
  },
  {
   "cell_type": "code",
   "execution_count": null,
   "id": "2007b9e1",
   "metadata": {},
   "outputs": [],
   "source": []
  },
  {
   "cell_type": "code",
   "execution_count": null,
   "id": "fb084228",
   "metadata": {},
   "outputs": [],
   "source": [
    "'\\u00b2'\n",
    "'\\u2153'"
   ]
  },
  {
   "cell_type": "raw",
   "id": "f3dd6626",
   "metadata": {},
   "source": [
    "isdecimal() method supports only Decimal Numbers (0-9)."
   ]
  },
  {
   "cell_type": "raw",
   "id": "89170294",
   "metadata": {},
   "source": [
    "isdigit() method supports Decimals, Subscripts, Superscripts."
   ]
  },
  {
   "cell_type": "raw",
   "id": "486f9ee0",
   "metadata": {},
   "source": [
    "isnumeric() method supports Digits, Vulgar Fractions, Subscripts, Superscripts, Roman Numerals, Currency Numerators."
   ]
  },
  {
   "cell_type": "code",
   "execution_count": null,
   "id": "3c0cae5a",
   "metadata": {},
   "outputs": [],
   "source": []
  },
  {
   "cell_type": "code",
   "execution_count": 63,
   "id": "4c7de2d5",
   "metadata": {},
   "outputs": [
    {
     "data": {
      "text/plain": [
       "True"
      ]
     },
     "execution_count": 63,
     "metadata": {},
     "output_type": "execute_result"
    }
   ],
   "source": [
    "'1024'.isdecimal()"
   ]
  },
  {
   "cell_type": "code",
   "execution_count": 73,
   "id": "1f012c6b",
   "metadata": {},
   "outputs": [
    {
     "data": {
      "text/plain": [
       "False"
      ]
     },
     "execution_count": 73,
     "metadata": {},
     "output_type": "execute_result"
    }
   ],
   "source": [
    "'\\u00b2'.isdigit()"
   ]
  },
  {
   "cell_type": "code",
   "execution_count": 78,
   "id": "9a2fe3f9",
   "metadata": {},
   "outputs": [
    {
     "name": "stdout",
     "output_type": "stream",
     "text": [
      "x³\n"
     ]
    }
   ],
   "source": [
    "print('x\\u00b3')"
   ]
  },
  {
   "cell_type": "code",
   "execution_count": 81,
   "id": "560cd68c",
   "metadata": {},
   "outputs": [
    {
     "name": "stdout",
     "output_type": "stream",
     "text": [
      "x²\n"
     ]
    },
    {
     "data": {
      "text/plain": [
       "True"
      ]
     },
     "execution_count": 81,
     "metadata": {},
     "output_type": "execute_result"
    }
   ],
   "source": [
    "print('x\\u00b2')\n",
    "'\\u00b2'.isnumeric()"
   ]
  },
  {
   "cell_type": "code",
   "execution_count": 87,
   "id": "39fd43c4",
   "metadata": {},
   "outputs": [
    {
     "data": {
      "text/plain": [
       "False"
      ]
     },
     "execution_count": 87,
     "metadata": {},
     "output_type": "execute_result"
    }
   ],
   "source": [
    "'VI'.isnumeric()"
   ]
  },
  {
   "cell_type": "code",
   "execution_count": 85,
   "id": "69a03bde",
   "metadata": {},
   "outputs": [
    {
     "name": "stdout",
     "output_type": "stream",
     "text": [
      "Ⅵ\n"
     ]
    },
    {
     "data": {
      "text/plain": [
       "True"
      ]
     },
     "execution_count": 85,
     "metadata": {},
     "output_type": "execute_result"
    }
   ],
   "source": [
    "print('\\u2165')\n",
    "'\\u2165'.isnumeric()"
   ]
  },
  {
   "cell_type": "code",
   "execution_count": null,
   "id": "173a6b13",
   "metadata": {},
   "outputs": [],
   "source": []
  },
  {
   "cell_type": "code",
   "execution_count": 95,
   "id": "1117884e",
   "metadata": {},
   "outputs": [
    {
     "name": "stdout",
     "output_type": "stream",
     "text": [
      "⅐\n"
     ]
    }
   ],
   "source": [
    "print('\\u2150')"
   ]
  },
  {
   "cell_type": "code",
   "execution_count": 90,
   "id": "4e182b5c",
   "metadata": {},
   "outputs": [
    {
     "data": {
      "text/plain": [
       "False"
      ]
     },
     "execution_count": 90,
     "metadata": {},
     "output_type": "execute_result"
    }
   ],
   "source": [
    "'\\u2153'.isdecimal()"
   ]
  },
  {
   "cell_type": "code",
   "execution_count": 91,
   "id": "74a1863f",
   "metadata": {},
   "outputs": [
    {
     "data": {
      "text/plain": [
       "False"
      ]
     },
     "execution_count": 91,
     "metadata": {},
     "output_type": "execute_result"
    }
   ],
   "source": [
    "'\\u2153'.isdigit()"
   ]
  },
  {
   "cell_type": "code",
   "execution_count": 92,
   "id": "0a97d082",
   "metadata": {},
   "outputs": [
    {
     "data": {
      "text/plain": [
       "True"
      ]
     },
     "execution_count": 92,
     "metadata": {},
     "output_type": "execute_result"
    }
   ],
   "source": [
    "'\\u2153'.isnumeric()"
   ]
  },
  {
   "cell_type": "code",
   "execution_count": null,
   "id": "99938024",
   "metadata": {},
   "outputs": [],
   "source": []
  }
 ],
 "metadata": {
  "kernelspec": {
   "display_name": "Python 3 (ipykernel)",
   "language": "python",
   "name": "python3"
  },
  "language_info": {
   "codemirror_mode": {
    "name": "ipython",
    "version": 3
   },
   "file_extension": ".py",
   "mimetype": "text/x-python",
   "name": "python",
   "nbconvert_exporter": "python",
   "pygments_lexer": "ipython3",
   "version": "3.9.13"
  }
 },
 "nbformat": 4,
 "nbformat_minor": 5
}
