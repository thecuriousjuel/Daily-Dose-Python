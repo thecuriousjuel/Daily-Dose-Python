{
 "cells": [
  {
   "cell_type": "code",
   "execution_count": null,
   "id": "49ec8fb5",
   "metadata": {},
   "outputs": [],
   "source": [
    "# isalpha()\n",
    "\n",
    "\n",
    "'apple123'.isalpha()"
   ]
  },
  {
   "cell_type": "code",
   "execution_count": null,
   "id": "d6e0e485",
   "metadata": {},
   "outputs": [],
   "source": [
    "# isalnum()\n",
    "\n",
    "\n",
    "'B1i1s2w3a4j8i9t!'.isalnum()"
   ]
  },
  {
   "cell_type": "code",
   "execution_count": null,
   "id": "49a08566",
   "metadata": {},
   "outputs": [],
   "source": [
    "# isspace()\n",
    "\n",
    "\n",
    "' '.isspace()"
   ]
  },
  {
   "cell_type": "code",
   "execution_count": 5,
   "id": "815e297b",
   "metadata": {},
   "outputs": [
    {
     "data": {
      "text/plain": [
       "False"
      ]
     },
     "execution_count": 5,
     "metadata": {},
     "output_type": "execute_result"
    }
   ],
   "source": [
    "# istitle()\n",
    "\n",
    "'8Today 9I9s A Sunny Day! 123'.istitle()"
   ]
  },
  {
   "cell_type": "code",
   "execution_count": null,
   "id": "6ce4442c",
   "metadata": {},
   "outputs": [],
   "source": [
    "# isidentifier()\n",
    "\n",
    "\n",
    "'integer_1'.isidentifier()"
   ]
  },
  {
   "cell_type": "code",
   "execution_count": null,
   "id": "ce9a3666",
   "metadata": {},
   "outputs": [],
   "source": [
    "integer 1 = 1"
   ]
  },
  {
   "cell_type": "code",
   "execution_count": null,
   "id": "06986031",
   "metadata": {},
   "outputs": [],
   "source": [
    "# isprintable()\n",
    "\n",
    "'Biswajit\\tBasak'.isprintable()"
   ]
  },
  {
   "cell_type": "code",
   "execution_count": null,
   "id": "19ccb953",
   "metadata": {},
   "outputs": [],
   "source": [
    "print('Biswajit\\tBasak')"
   ]
  },
  {
   "cell_type": "code",
   "execution_count": null,
   "id": "5065785a",
   "metadata": {},
   "outputs": [],
   "source": []
  },
  {
   "cell_type": "code",
   "execution_count": null,
   "id": "2007b9e1",
   "metadata": {},
   "outputs": [],
   "source": []
  },
  {
   "cell_type": "code",
   "execution_count": null,
   "id": "fb084228",
   "metadata": {},
   "outputs": [],
   "source": [
    "'\\u00b2'\n",
    "'\\u2153'"
   ]
  },
  {
   "cell_type": "raw",
   "id": "f3dd6626",
   "metadata": {},
   "source": [
    "isdecimal() method supports only Decimal Numbers (0-9)."
   ]
  },
  {
   "cell_type": "raw",
   "id": "89170294",
   "metadata": {},
   "source": [
    "isdigit() method supports Decimals, Subscripts, Superscripts."
   ]
  },
  {
   "cell_type": "raw",
   "id": "486f9ee0",
   "metadata": {},
   "source": [
    "isnumeric() method supports Digits, Vulgar Fractions, Subscripts, Superscripts, Roman Numerals, Currency Numerators."
   ]
  },
  {
   "cell_type": "code",
   "execution_count": null,
   "id": "3c0cae5a",
   "metadata": {},
   "outputs": [],
   "source": []
  },
  {
   "cell_type": "code",
   "execution_count": 63,
   "id": "4c7de2d5",
   "metadata": {},
   "outputs": [
    {
     "data": {
      "text/plain": [
       "True"
      ]
     },
     "execution_count": 63,
     "metadata": {},
     "output_type": "execute_result"
    }
   ],
   "source": [
    "'1024'.isdecimal()"
   ]
  },
  {
   "cell_type": "code",
   "execution_count": 73,
   "id": "1f012c6b",
   "metadata": {},
   "outputs": [
    {
     "data": {
      "text/plain": [
       "False"
      ]
     },
     "execution_count": 73,
     "metadata": {},
     "output_type": "execute_result"
    }
   ],
   "source": [
    "'\\u00b2'.isdigit()"
   ]
  },
  {
   "cell_type": "code",
   "execution_count": 78,
   "id": "9a2fe3f9",
   "metadata": {},
   "outputs": [
    {
     "name": "stdout",
     "output_type": "stream",
     "text": [
      "x³\n"
     ]
    }
   ],
   "source": [
    "print('x\\u00b3')"
   ]
  },
  {
   "cell_type": "code",
   "execution_count": 81,
   "id": "560cd68c",
   "metadata": {},
   "outputs": [
    {
     "name": "stdout",
     "output_type": "stream",
     "text": [
      "x²\n"
     ]
    },
    {
     "data": {
      "text/plain": [
       "True"
      ]
     },
     "execution_count": 81,
     "metadata": {},
     "output_type": "execute_result"
    }
   ],
   "source": [
    "print('x\\u00b2')\n",
    "'\\u00b2'.isnumeric()"
   ]
  },
  {
   "cell_type": "code",
   "execution_count": 87,
   "id": "39fd43c4",
   "metadata": {},
   "outputs": [
    {
     "data": {
      "text/plain": [
       "False"
      ]
     },
     "execution_count": 87,
     "metadata": {},
     "output_type": "execute_result"
    }
   ],
   "source": [
    "'VI'.isnumeric()"
   ]
  },
  {
   "cell_type": "code",
   "execution_count": 85,
   "id": "69a03bde",
   "metadata": {},
   "outputs": [
    {
     "name": "stdout",
     "output_type": "stream",
     "text": [
      "Ⅵ\n"
     ]
    },
    {
     "data": {
      "text/plain": [
       "True"
      ]
     },
     "execution_count": 85,
     "metadata": {},
     "output_type": "execute_result"
    }
   ],
   "source": [
    "print('\\u2165')\n",
    "'\\u2165'.isnumeric()"
   ]
  },
  {
   "cell_type": "code",
   "execution_count": null,
   "id": "173a6b13",
   "metadata": {},
   "outputs": [],
   "source": []
  },
  {
   "cell_type": "code",
   "execution_count": 95,
   "id": "1117884e",
   "metadata": {},
   "outputs": [
    {
     "name": "stdout",
     "output_type": "stream",
     "text": [
      "⅐\n"
     ]
    }
   ],
   "source": [
    "print('\\u2150')"
   ]
  },
  {
   "cell_type": "code",
   "execution_count": 90,
   "id": "4e182b5c",
   "metadata": {},
   "outputs": [
    {
     "data": {
      "text/plain": [
       "False"
      ]
     },
     "execution_count": 90,
     "metadata": {},
     "output_type": "execute_result"
    }
   ],
   "source": [
    "'\\u2153'.isdecimal()"
   ]
  },
  {
   "cell_type": "code",
   "execution_count": 91,
   "id": "74a1863f",
   "metadata": {},
   "outputs": [
    {
     "data": {
      "text/plain": [
       "False"
      ]
     },
     "execution_count": 91,
     "metadata": {},
     "output_type": "execute_result"
    }
   ],
   "source": [
    "'\\u2153'.isdigit()"
   ]
  },
  {
   "cell_type": "code",
   "execution_count": 92,
   "id": "0a97d082",
   "metadata": {},
   "outputs": [
    {
     "data": {
      "text/plain": [
       "True"
      ]
     },
     "execution_count": 92,
     "metadata": {},
     "output_type": "execute_result"
    }
   ],
   "source": [
    "'\\u2153'.isnumeric()"
   ]
  },
  {
   "cell_type": "code",
   "execution_count": null,
   "id": "99938024",
   "metadata": {},
   "outputs": [],
   "source": []
  },
  {
   "cell_type": "code",
   "execution_count": null,
   "id": "e4756299",
   "metadata": {},
   "outputs": [],
   "source": []
  },
  {
   "cell_type": "code",
   "execution_count": 6,
   "id": "90981c71",
   "metadata": {},
   "outputs": [
    {
     "data": {
      "text/plain": [
       "True"
      ]
     },
     "execution_count": 6,
     "metadata": {},
     "output_type": "execute_result"
    }
   ],
   "source": [
    "string = 'Hello World!'\n",
    "\n",
    "string.startswith('Hello')"
   ]
  },
  {
   "cell_type": "code",
   "execution_count": 11,
   "id": "0b74cdb2",
   "metadata": {},
   "outputs": [
    {
     "data": {
      "text/plain": [
       "True"
      ]
     },
     "execution_count": 11,
     "metadata": {},
     "output_type": "execute_result"
    }
   ],
   "source": [
    "another_string = 'How you doing?'\n",
    "\n",
    "another_string.endswith('doing?')"
   ]
  },
  {
   "cell_type": "code",
   "execution_count": 25,
   "id": "84337e0f",
   "metadata": {},
   "outputs": [
    {
     "name": "stdout",
     "output_type": "stream",
     "text": [
      "Found!\n",
      "Not Found!\n",
      "Not Found!\n",
      "Not Found!\n"
     ]
    }
   ],
   "source": [
    "filenames = ['/bin/etc/users.jpeg', '/bin/etc/users.csv', '/bin/etc/users.txt', '/bin/etc/users.mp3']\n",
    "\n",
    "for filename in filenames:\n",
    "    if filename.endswith('jpeg'):\n",
    "        print('Found!')\n",
    "    else:\n",
    "        print('Not Found!')"
   ]
  },
  {
   "cell_type": "code",
   "execution_count": null,
   "id": "8c9dae90",
   "metadata": {},
   "outputs": [],
   "source": []
  },
  {
   "cell_type": "code",
   "execution_count": null,
   "id": "9430233f",
   "metadata": {},
   "outputs": [],
   "source": []
  },
  {
   "cell_type": "code",
   "execution_count": null,
   "id": "71fa4860",
   "metadata": {},
   "outputs": [],
   "source": []
  },
  {
   "cell_type": "code",
   "execution_count": null,
   "id": "e3c74dc0",
   "metadata": {},
   "outputs": [],
   "source": []
  },
  {
   "cell_type": "code",
   "execution_count": null,
   "id": "0faadb4d",
   "metadata": {},
   "outputs": [],
   "source": []
  },
  {
   "cell_type": "code",
   "execution_count": null,
   "id": "d9de1681",
   "metadata": {},
   "outputs": [],
   "source": []
  },
  {
   "cell_type": "code",
   "execution_count": 29,
   "id": "7c51ea12",
   "metadata": {},
   "outputs": [
    {
     "data": {
      "text/plain": [
       "['How', 'are', 'you', 'doing?']"
      ]
     },
     "execution_count": 29,
     "metadata": {},
     "output_type": "execute_result"
    }
   ],
   "source": [
    "'How are you doing?'.split()"
   ]
  },
  {
   "cell_type": "code",
   "execution_count": 30,
   "id": "951a27a4",
   "metadata": {},
   "outputs": [
    {
     "data": {
      "text/plain": [
       "['How', 'are', 'you', 'doing?']"
      ]
     },
     "execution_count": 30,
     "metadata": {},
     "output_type": "execute_result"
    }
   ],
   "source": [
    "'How\\nare\\nyou\\ndoing?'.split()"
   ]
  },
  {
   "cell_type": "code",
   "execution_count": 32,
   "id": "be1ae5ae",
   "metadata": {},
   "outputs": [
    {
     "data": {
      "text/plain": [
       "['How', 'are', 'you', 'doing?']"
      ]
     },
     "execution_count": 32,
     "metadata": {},
     "output_type": "execute_result"
    }
   ],
   "source": [
    "'How are\\tyou\\ndoing?'.split() # split on the basis of whitespace (blank spaces, tab, newline)"
   ]
  },
  {
   "cell_type": "code",
   "execution_count": 35,
   "id": "c900c347",
   "metadata": {},
   "outputs": [
    {
     "data": {
      "text/plain": [
       "['How', 'are you\\ndoing?']"
      ]
     },
     "execution_count": 35,
     "metadata": {},
     "output_type": "execute_result"
    }
   ],
   "source": [
    "'How are you\\ndoing?'.split(' ', maxsplit=1)"
   ]
  },
  {
   "cell_type": "code",
   "execution_count": 42,
   "id": "7b378275",
   "metadata": {},
   "outputs": [
    {
     "data": {
      "text/plain": [
       "['', 'Hello Biswajit!', 'How you are doing?', '', 'I am fine.']"
      ]
     },
     "execution_count": 42,
     "metadata": {},
     "output_type": "execute_result"
    }
   ],
   "source": [
    "out = \"\"\"\n",
    "Hello Biswajit!\n",
    "How you are doing?\n",
    "\n",
    "I am fine.\"\"\".split('\\n')\n",
    "\n",
    "\n",
    "out"
   ]
  },
  {
   "cell_type": "code",
   "execution_count": 46,
   "id": "9b2276e2",
   "metadata": {},
   "outputs": [
    {
     "name": "stdout",
     "output_type": "stream",
     "text": [
      "['Hello Biswajit!', 'How you are doing?', 'I am fine.']\n"
     ]
    }
   ],
   "source": [
    "ans = []\n",
    "\n",
    "for words in out:\n",
    "    if len(words) > 0:\n",
    "        ans.append(words)\n",
    "        \n",
    "print(ans)"
   ]
  },
  {
   "cell_type": "code",
   "execution_count": 48,
   "id": "d3caefe3",
   "metadata": {},
   "outputs": [
    {
     "data": {
      "text/plain": [
       "['Hello', 'How', 'are', 'you', 'doing?']"
      ]
     },
     "execution_count": 48,
     "metadata": {},
     "output_type": "execute_result"
    }
   ],
   "source": [
    "\"Hello How are you doing?\".split(' ')"
   ]
  },
  {
   "cell_type": "code",
   "execution_count": 51,
   "id": "bef2f961",
   "metadata": {},
   "outputs": [
    {
     "data": {
      "text/plain": [
       "'Hello How are you doing?'"
      ]
     },
     "execution_count": 51,
     "metadata": {},
     "output_type": "execute_result"
    }
   ],
   "source": [
    "' '.join(['Hello', 'How', 'are', 'you', 'doing?'])"
   ]
  },
  {
   "cell_type": "code",
   "execution_count": 59,
   "id": "87e22565",
   "metadata": {},
   "outputs": [
    {
     "data": {
      "text/plain": [
       "'Hello How are you doing?'"
      ]
     },
     "execution_count": 59,
     "metadata": {},
     "output_type": "execute_result"
    }
   ],
   "source": [
    "demo_list = ['Hello', 'How', 'are', 'you', 'doing?']\n",
    "\n",
    "' '.join(demo_list)"
   ]
  },
  {
   "cell_type": "code",
   "execution_count": null,
   "id": "f6c23a0c",
   "metadata": {},
   "outputs": [],
   "source": []
  },
  {
   "cell_type": "code",
   "execution_count": 10,
   "id": "1f3ee159",
   "metadata": {},
   "outputs": [
    {
     "data": {
      "text/plain": [
       "('Hello', ' ', 'World!')"
      ]
     },
     "execution_count": 10,
     "metadata": {},
     "output_type": "execute_result"
    }
   ],
   "source": [
    "'Hello World!'.partition(' ')"
   ]
  },
  {
   "cell_type": "code",
   "execution_count": 11,
   "id": "f77f93fa",
   "metadata": {},
   "outputs": [
    {
     "data": {
      "text/plain": [
       "['Hello', 'World!']"
      ]
     },
     "execution_count": 11,
     "metadata": {},
     "output_type": "execute_result"
    }
   ],
   "source": [
    "'Hello World!'.split(' ')"
   ]
  },
  {
   "cell_type": "code",
   "execution_count": null,
   "id": "5880039d",
   "metadata": {},
   "outputs": [],
   "source": []
  },
  {
   "cell_type": "code",
   "execution_count": 12,
   "id": "84d14297",
   "metadata": {},
   "outputs": [
    {
     "data": {
      "text/plain": [
       "('Hello ', 'W', 'orld!')"
      ]
     },
     "execution_count": 12,
     "metadata": {},
     "output_type": "execute_result"
    }
   ],
   "source": [
    "'Hello World!'.partition('W')"
   ]
  },
  {
   "cell_type": "code",
   "execution_count": 13,
   "id": "406eaa75",
   "metadata": {},
   "outputs": [
    {
     "data": {
      "text/plain": [
       "('Hello ', 'W', 'orWld!')"
      ]
     },
     "execution_count": 13,
     "metadata": {},
     "output_type": "execute_result"
    }
   ],
   "source": [
    "'Hello WorWld!'.partition('W')"
   ]
  },
  {
   "cell_type": "code",
   "execution_count": 14,
   "id": "129e4cf4",
   "metadata": {},
   "outputs": [
    {
     "data": {
      "text/plain": [
       "('', 'k', 'olkata')"
      ]
     },
     "execution_count": 14,
     "metadata": {},
     "output_type": "execute_result"
    }
   ],
   "source": [
    "'kolkata'.partition('k')"
   ]
  },
  {
   "cell_type": "code",
   "execution_count": 15,
   "id": "c62d7459",
   "metadata": {},
   "outputs": [
    {
     "data": {
      "text/plain": [
       "('kol', 'ka', 'ta')"
      ]
     },
     "execution_count": 15,
     "metadata": {},
     "output_type": "execute_result"
    }
   ],
   "source": [
    "'kolkata'.partition('ka')"
   ]
  },
  {
   "cell_type": "code",
   "execution_count": 16,
   "id": "5879b665",
   "metadata": {},
   "outputs": [
    {
     "data": {
      "text/plain": [
       "('kolkata', '', '')"
      ]
     },
     "execution_count": 16,
     "metadata": {},
     "output_type": "execute_result"
    }
   ],
   "source": [
    "'kolkata'.partition('P')"
   ]
  },
  {
   "cell_type": "code",
   "execution_count": 18,
   "id": "3728f759",
   "metadata": {},
   "outputs": [],
   "source": [
    "first, key, last = 'Hello! How do you do?'.partition('!')"
   ]
  },
  {
   "cell_type": "code",
   "execution_count": 19,
   "id": "bf642050",
   "metadata": {},
   "outputs": [
    {
     "data": {
      "text/plain": [
       "'Hello'"
      ]
     },
     "execution_count": 19,
     "metadata": {},
     "output_type": "execute_result"
    }
   ],
   "source": [
    "first"
   ]
  },
  {
   "cell_type": "code",
   "execution_count": 20,
   "id": "6b02010c",
   "metadata": {},
   "outputs": [
    {
     "data": {
      "text/plain": [
       "'!'"
      ]
     },
     "execution_count": 20,
     "metadata": {},
     "output_type": "execute_result"
    }
   ],
   "source": [
    "key"
   ]
  },
  {
   "cell_type": "code",
   "execution_count": 21,
   "id": "f2401efe",
   "metadata": {},
   "outputs": [
    {
     "data": {
      "text/plain": [
       "' How do you do?'"
      ]
     },
     "execution_count": 21,
     "metadata": {},
     "output_type": "execute_result"
    }
   ],
   "source": [
    "last"
   ]
  },
  {
   "cell_type": "code",
   "execution_count": null,
   "id": "b735100e",
   "metadata": {},
   "outputs": [],
   "source": []
  },
  {
   "cell_type": "code",
   "execution_count": null,
   "id": "1402cfcd",
   "metadata": {},
   "outputs": [],
   "source": []
  },
  {
   "cell_type": "code",
   "execution_count": null,
   "id": "a48ffb20",
   "metadata": {},
   "outputs": [],
   "source": []
  },
  {
   "cell_type": "code",
   "execution_count": null,
   "id": "924355ba",
   "metadata": {},
   "outputs": [],
   "source": []
  },
  {
   "cell_type": "code",
   "execution_count": null,
   "id": "f94f1398",
   "metadata": {},
   "outputs": [],
   "source": []
  },
  {
   "cell_type": "code",
   "execution_count": null,
   "id": "3980580d",
   "metadata": {},
   "outputs": [],
   "source": []
  },
  {
   "cell_type": "code",
   "execution_count": null,
   "id": "c93fbd14",
   "metadata": {},
   "outputs": [],
   "source": []
  },
  {
   "cell_type": "code",
   "execution_count": null,
   "id": "16ecf336",
   "metadata": {},
   "outputs": [],
   "source": []
  },
  {
   "cell_type": "code",
   "execution_count": null,
   "id": "8db72401",
   "metadata": {},
   "outputs": [],
   "source": []
  },
  {
   "cell_type": "code",
   "execution_count": null,
   "id": "65875233",
   "metadata": {},
   "outputs": [],
   "source": []
  },
  {
   "cell_type": "code",
   "execution_count": null,
   "id": "dadfb4c8",
   "metadata": {},
   "outputs": [],
   "source": []
  },
  {
   "cell_type": "code",
   "execution_count": null,
   "id": "82ca6b86",
   "metadata": {},
   "outputs": [],
   "source": []
  },
  {
   "cell_type": "code",
   "execution_count": null,
   "id": "377038e2",
   "metadata": {},
   "outputs": [],
   "source": []
  }
 ],
 "metadata": {
  "kernelspec": {
   "display_name": "Python 3 (ipykernel)",
   "language": "python",
   "name": "python3"
  },
  "language_info": {
   "codemirror_mode": {
    "name": "ipython",
    "version": 3
   },
   "file_extension": ".py",
   "mimetype": "text/x-python",
   "name": "python",
   "nbconvert_exporter": "python",
   "pygments_lexer": "ipython3",
   "version": "3.9.13"
  }
 },
 "nbformat": 4,
 "nbformat_minor": 5
}
