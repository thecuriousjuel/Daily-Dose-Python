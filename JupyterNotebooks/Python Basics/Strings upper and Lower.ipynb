{
 "cells": [
  {
   "cell_type": "markdown",
   "id": "8bcdb04b",
   "metadata": {},
   "source": [
    "# Upper and Lower Case"
   ]
  },
  {
   "cell_type": "code",
   "execution_count": 7,
   "id": "0289aa3c",
   "metadata": {},
   "outputs": [],
   "source": [
    "string_1 = 'Hey, How you are Doing? 123'"
   ]
  },
  {
   "cell_type": "code",
   "execution_count": 8,
   "id": "665f7ba2",
   "metadata": {},
   "outputs": [
    {
     "data": {
      "text/plain": [
       "'HEY, HOW YOU ARE DOING? 123'"
      ]
     },
     "execution_count": 8,
     "metadata": {},
     "output_type": "execute_result"
    }
   ],
   "source": [
    "string_1.upper()"
   ]
  },
  {
   "cell_type": "code",
   "execution_count": 4,
   "id": "5b8c2166",
   "metadata": {},
   "outputs": [
    {
     "data": {
      "text/plain": [
       "'Hey, How you are Doing?'"
      ]
     },
     "execution_count": 4,
     "metadata": {},
     "output_type": "execute_result"
    }
   ],
   "source": [
    "string_1"
   ]
  },
  {
   "cell_type": "code",
   "execution_count": 5,
   "id": "f7c37324",
   "metadata": {},
   "outputs": [],
   "source": [
    "string_1 = string_1.upper()"
   ]
  },
  {
   "cell_type": "code",
   "execution_count": 6,
   "id": "52e0d5f4",
   "metadata": {},
   "outputs": [
    {
     "data": {
      "text/plain": [
       "'HEY, HOW YOU ARE DOING?'"
      ]
     },
     "execution_count": 6,
     "metadata": {},
     "output_type": "execute_result"
    }
   ],
   "source": [
    "string_1"
   ]
  },
  {
   "cell_type": "code",
   "execution_count": null,
   "id": "2b61b2c2",
   "metadata": {},
   "outputs": [],
   "source": []
  },
  {
   "cell_type": "code",
   "execution_count": 9,
   "id": "b8fa2163",
   "metadata": {},
   "outputs": [
    {
     "data": {
      "text/plain": [
       "'Hey, How you are Doing? 123'"
      ]
     },
     "execution_count": 9,
     "metadata": {},
     "output_type": "execute_result"
    }
   ],
   "source": [
    "string_1"
   ]
  },
  {
   "cell_type": "code",
   "execution_count": 10,
   "id": "6e1770c8",
   "metadata": {},
   "outputs": [
    {
     "data": {
      "text/plain": [
       "'hey, how you are doing? 123'"
      ]
     },
     "execution_count": 10,
     "metadata": {},
     "output_type": "execute_result"
    }
   ],
   "source": [
    "string_1.lower()"
   ]
  },
  {
   "cell_type": "code",
   "execution_count": 11,
   "id": "0285b56c",
   "metadata": {},
   "outputs": [
    {
     "data": {
      "text/plain": [
       "'Hey, How you are Doing? 123'"
      ]
     },
     "execution_count": 11,
     "metadata": {},
     "output_type": "execute_result"
    }
   ],
   "source": [
    "string_1"
   ]
  },
  {
   "cell_type": "code",
   "execution_count": 12,
   "id": "83c49f18",
   "metadata": {},
   "outputs": [],
   "source": [
    "string_1 = string_1.lower()"
   ]
  },
  {
   "cell_type": "code",
   "execution_count": 13,
   "id": "fed1992e",
   "metadata": {},
   "outputs": [
    {
     "data": {
      "text/plain": [
       "'hey, how you are doing? 123'"
      ]
     },
     "execution_count": 13,
     "metadata": {},
     "output_type": "execute_result"
    }
   ],
   "source": [
    "string_1"
   ]
  },
  {
   "cell_type": "code",
   "execution_count": null,
   "id": "7711effa",
   "metadata": {},
   "outputs": [],
   "source": []
  },
  {
   "cell_type": "code",
   "execution_count": 14,
   "id": "5387056b",
   "metadata": {},
   "outputs": [],
   "source": [
    "name = 'BOB'"
   ]
  },
  {
   "cell_type": "code",
   "execution_count": 15,
   "id": "218696a2",
   "metadata": {},
   "outputs": [
    {
     "data": {
      "text/plain": [
       "'bob'"
      ]
     },
     "execution_count": 15,
     "metadata": {},
     "output_type": "execute_result"
    }
   ],
   "source": [
    "name.lower()"
   ]
  },
  {
   "cell_type": "code",
   "execution_count": 16,
   "id": "f2cafb30",
   "metadata": {},
   "outputs": [
    {
     "data": {
      "text/plain": [
       "'BOB'"
      ]
     },
     "execution_count": 16,
     "metadata": {},
     "output_type": "execute_result"
    }
   ],
   "source": [
    "name"
   ]
  },
  {
   "cell_type": "code",
   "execution_count": 17,
   "id": "14a49e93",
   "metadata": {},
   "outputs": [
    {
     "data": {
      "text/plain": [
       "'BOB'"
      ]
     },
     "execution_count": 17,
     "metadata": {},
     "output_type": "execute_result"
    }
   ],
   "source": [
    "name.upper()"
   ]
  },
  {
   "cell_type": "code",
   "execution_count": 31,
   "id": "c300ec96",
   "metadata": {},
   "outputs": [],
   "source": [
    "fruits = ['aPPles', 'bAnAnAs', 'OranGes', 'GraPes']"
   ]
  },
  {
   "cell_type": "code",
   "execution_count": 43,
   "id": "7ec92a63",
   "metadata": {},
   "outputs": [
    {
     "name": "stdout",
     "output_type": "stream",
     "text": [
      "APPLES == oranges -> False\n",
      "BANANAS == oranges -> False\n",
      "ORANGES == oranges -> True\n",
      "Found oranges\n",
      "GRAPES == oranges -> False\n"
     ]
    }
   ],
   "source": [
    "for fruit in fruits:\n",
    "    print(f\"{fruit.upper()} == oranges -> {fruit.upper() == 'oranges'.upper()}\")\n",
    "\n",
    "\n",
    "    if fruit.upper() == 'oranges'.upper():\n",
    "        print('Found oranges')"
   ]
  },
  {
   "cell_type": "markdown",
   "id": "c9cde7b3",
   "metadata": {},
   "source": [
    "# Upper and Lower Check"
   ]
  },
  {
   "cell_type": "code",
   "execution_count": null,
   "id": "eea4b36d",
   "metadata": {},
   "outputs": [],
   "source": [
    "isupper()\n",
    "islower()"
   ]
  },
  {
   "cell_type": "code",
   "execution_count": 44,
   "id": "d8e45ea7",
   "metadata": {},
   "outputs": [
    {
     "data": {
      "text/plain": [
       "True"
      ]
     },
     "execution_count": 44,
     "metadata": {},
     "output_type": "execute_result"
    }
   ],
   "source": [
    "'BOB'.isupper()"
   ]
  },
  {
   "cell_type": "code",
   "execution_count": 45,
   "id": "491f6edc",
   "metadata": {},
   "outputs": [
    {
     "data": {
      "text/plain": [
       "False"
      ]
     },
     "execution_count": 45,
     "metadata": {},
     "output_type": "execute_result"
    }
   ],
   "source": [
    "'bob'.isupper()"
   ]
  },
  {
   "cell_type": "code",
   "execution_count": 46,
   "id": "2339c322",
   "metadata": {},
   "outputs": [
    {
     "data": {
      "text/plain": [
       "False"
      ]
     },
     "execution_count": 46,
     "metadata": {},
     "output_type": "execute_result"
    }
   ],
   "source": [
    "'Bob'.isupper()"
   ]
  },
  {
   "cell_type": "code",
   "execution_count": 47,
   "id": "8652dafc",
   "metadata": {},
   "outputs": [
    {
     "data": {
      "text/plain": [
       "False"
      ]
     },
     "execution_count": 47,
     "metadata": {},
     "output_type": "execute_result"
    }
   ],
   "source": [
    "'AAAAAAAzAAAAAAA'.isupper()"
   ]
  },
  {
   "cell_type": "code",
   "execution_count": 48,
   "id": "6cbe3232",
   "metadata": {},
   "outputs": [
    {
     "data": {
      "text/plain": [
       "False"
      ]
     },
     "execution_count": 48,
     "metadata": {},
     "output_type": "execute_result"
    }
   ],
   "source": [
    "''.isupper()"
   ]
  },
  {
   "cell_type": "code",
   "execution_count": 49,
   "id": "aa2a7c73",
   "metadata": {},
   "outputs": [
    {
     "data": {
      "text/plain": [
       "False"
      ]
     },
     "execution_count": 49,
     "metadata": {},
     "output_type": "execute_result"
    }
   ],
   "source": [
    "'?'.isupper()"
   ]
  },
  {
   "cell_type": "code",
   "execution_count": 50,
   "id": "95876a53",
   "metadata": {},
   "outputs": [
    {
     "data": {
      "text/plain": [
       "False"
      ]
     },
     "execution_count": 50,
     "metadata": {},
     "output_type": "execute_result"
    }
   ],
   "source": [
    "'+'.isupper()"
   ]
  },
  {
   "cell_type": "code",
   "execution_count": 51,
   "id": "8b31ebfa",
   "metadata": {},
   "outputs": [
    {
     "data": {
      "text/plain": [
       "False"
      ]
     },
     "execution_count": 51,
     "metadata": {},
     "output_type": "execute_result"
    }
   ],
   "source": [
    "' '.isupper()"
   ]
  },
  {
   "cell_type": "code",
   "execution_count": 53,
   "id": "1d5493c9",
   "metadata": {},
   "outputs": [
    {
     "data": {
      "text/plain": [
       "False"
      ]
     },
     "execution_count": 53,
     "metadata": {},
     "output_type": "execute_result"
    }
   ],
   "source": [
    "'1'.isupper()"
   ]
  },
  {
   "cell_type": "code",
   "execution_count": null,
   "id": "3c8ecfbb",
   "metadata": {},
   "outputs": [],
   "source": []
  },
  {
   "cell_type": "code",
   "execution_count": 54,
   "id": "a89e5397",
   "metadata": {},
   "outputs": [
    {
     "data": {
      "text/plain": [
       "False"
      ]
     },
     "execution_count": 54,
     "metadata": {},
     "output_type": "execute_result"
    }
   ],
   "source": [
    "'BOB'.islower()"
   ]
  },
  {
   "cell_type": "code",
   "execution_count": 55,
   "id": "41a8e5fe",
   "metadata": {},
   "outputs": [
    {
     "data": {
      "text/plain": [
       "True"
      ]
     },
     "execution_count": 55,
     "metadata": {},
     "output_type": "execute_result"
    }
   ],
   "source": [
    "'bob'.islower()"
   ]
  },
  {
   "cell_type": "code",
   "execution_count": 56,
   "id": "b34d7881",
   "metadata": {},
   "outputs": [
    {
     "data": {
      "text/plain": [
       "False"
      ]
     },
     "execution_count": 56,
     "metadata": {},
     "output_type": "execute_result"
    }
   ],
   "source": [
    "''.islower()"
   ]
  },
  {
   "cell_type": "code",
   "execution_count": 57,
   "id": "fa402695",
   "metadata": {},
   "outputs": [
    {
     "data": {
      "text/plain": [
       "False"
      ]
     },
     "execution_count": 57,
     "metadata": {},
     "output_type": "execute_result"
    }
   ],
   "source": [
    "'1'.islower()"
   ]
  },
  {
   "cell_type": "code",
   "execution_count": 58,
   "id": "abf236b1",
   "metadata": {},
   "outputs": [
    {
     "data": {
      "text/plain": [
       "False"
      ]
     },
     "execution_count": 58,
     "metadata": {},
     "output_type": "execute_result"
    }
   ],
   "source": [
    "' '.islower()"
   ]
  },
  {
   "cell_type": "code",
   "execution_count": null,
   "id": "088b6221",
   "metadata": {},
   "outputs": [],
   "source": []
  },
  {
   "cell_type": "code",
   "execution_count": 59,
   "id": "bac1a8e8",
   "metadata": {},
   "outputs": [
    {
     "data": {
      "text/plain": [
       "True"
      ]
     },
     "execution_count": 59,
     "metadata": {},
     "output_type": "execute_result"
    }
   ],
   "source": [
    "PNR = 'INGD99201'\n",
    "\n",
    "PNR.isupper()"
   ]
  },
  {
   "cell_type": "code",
   "execution_count": 60,
   "id": "f5130b4f",
   "metadata": {},
   "outputs": [
    {
     "data": {
      "text/plain": [
       "False"
      ]
     },
     "execution_count": 60,
     "metadata": {},
     "output_type": "execute_result"
    }
   ],
   "source": [
    "PNR.islower()"
   ]
  },
  {
   "cell_type": "code",
   "execution_count": 66,
   "id": "54474181",
   "metadata": {},
   "outputs": [
    {
     "name": "stdout",
     "output_type": "stream",
     "text": [
      "Invalid PNR\n"
     ]
    }
   ],
   "source": [
    "PNR = 'ING7Gw4561'\n",
    "\n",
    "if PNR.isupper():\n",
    "    print('Valid PNR')\n",
    "else:\n",
    "    print('Invalid PNR')"
   ]
  },
  {
   "cell_type": "code",
   "execution_count": null,
   "id": "6b940211",
   "metadata": {},
   "outputs": [],
   "source": []
  },
  {
   "cell_type": "code",
   "execution_count": null,
   "id": "ed55abcf",
   "metadata": {},
   "outputs": [],
   "source": []
  },
  {
   "cell_type": "code",
   "execution_count": null,
   "id": "c4e95254",
   "metadata": {},
   "outputs": [],
   "source": []
  }
 ],
 "metadata": {
  "kernelspec": {
   "display_name": "Python 3 (ipykernel)",
   "language": "python",
   "name": "python3"
  },
  "language_info": {
   "codemirror_mode": {
    "name": "ipython",
    "version": 3
   },
   "file_extension": ".py",
   "mimetype": "text/x-python",
   "name": "python",
   "nbconvert_exporter": "python",
   "pygments_lexer": "ipython3",
   "version": "3.9.13"
  }
 },
 "nbformat": 4,
 "nbformat_minor": 5
}
