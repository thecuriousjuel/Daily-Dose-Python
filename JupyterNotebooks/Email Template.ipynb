{
 "cells": [
  {
   "cell_type": "code",
   "execution_count": 1,
   "id": "13c4e2bd",
   "metadata": {},
   "outputs": [
    {
     "name": "stdout",
     "output_type": "stream",
     "text": [
      "Requirement already satisfied: plyer in c:\\users\\juelb\\anaconda3\\envs\\python-test\\lib\\site-packages (2.1.0)\n"
     ]
    }
   ],
   "source": [
    "!pip install plyer"
   ]
  },
  {
   "cell_type": "code",
   "execution_count": 2,
   "id": "1c49912f",
   "metadata": {},
   "outputs": [],
   "source": [
    "import plyer"
   ]
  },
  {
   "cell_type": "code",
   "execution_count": 3,
   "id": "ee423229",
   "metadata": {},
   "outputs": [],
   "source": [
    "plyer.email.send(recipient=\"something@example\",\n",
    "                subject=\"Test Email\",\n",
    "                text=\"This email is for testing purpose\",\n",
    "                create_chooser=True)"
   ]
  },
  {
   "cell_type": "code",
   "execution_count": null,
   "id": "76fe7176",
   "metadata": {},
   "outputs": [],
   "source": []
  }
 ],
 "metadata": {
  "kernelspec": {
   "display_name": "Python 3 (ipykernel)",
   "language": "python",
   "name": "python3"
  },
  "language_info": {
   "codemirror_mode": {
    "name": "ipython",
    "version": 3
   },
   "file_extension": ".py",
   "mimetype": "text/x-python",
   "name": "python",
   "nbconvert_exporter": "python",
   "pygments_lexer": "ipython3",
   "version": "3.9.12"
  }
 },
 "nbformat": 4,
 "nbformat_minor": 5
}
