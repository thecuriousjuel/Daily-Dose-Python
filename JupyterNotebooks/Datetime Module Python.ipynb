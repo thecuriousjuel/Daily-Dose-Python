{
 "cells": [
  {
   "cell_type": "code",
   "execution_count": 1,
   "id": "5e95dc60",
   "metadata": {},
   "outputs": [],
   "source": [
    "import datetime"
   ]
  },
  {
   "cell_type": "code",
   "execution_count": 2,
   "id": "66690edb",
   "metadata": {},
   "outputs": [
    {
     "data": {
      "text/plain": [
       "datetime.datetime(2023, 3, 4, 16, 42, 33, 230694)"
      ]
     },
     "execution_count": 2,
     "metadata": {},
     "output_type": "execute_result"
    }
   ],
   "source": [
    "datetime.datetime.now()"
   ]
  },
  {
   "cell_type": "code",
   "execution_count": 3,
   "id": "1b4bccbc",
   "metadata": {},
   "outputs": [
    {
     "name": "stdout",
     "output_type": "stream",
     "text": [
      "2023-03-04 16:42:33.259685\n"
     ]
    }
   ],
   "source": [
    "print(datetime.datetime.now())"
   ]
  },
  {
   "cell_type": "code",
   "execution_count": 4,
   "id": "c1dd69fd",
   "metadata": {},
   "outputs": [
    {
     "data": {
      "text/plain": [
       "'2023-03-04 16:42:33.280678'"
      ]
     },
     "execution_count": 4,
     "metadata": {},
     "output_type": "execute_result"
    }
   ],
   "source": [
    "str(datetime.datetime.now())"
   ]
  },
  {
   "cell_type": "code",
   "execution_count": 5,
   "id": "480944b9",
   "metadata": {},
   "outputs": [],
   "source": [
    "dt = datetime.datetime.now()"
   ]
  },
  {
   "cell_type": "code",
   "execution_count": 6,
   "id": "3ca10f5c",
   "metadata": {},
   "outputs": [
    {
     "name": "stdout",
     "output_type": "stream",
     "text": [
      "Year: 2023\n",
      "Month: 3\n",
      "Day: 4\n",
      "Hour: 16\n",
      "Minutes: 42\n",
      "Seconds: 33\n",
      "Microseconds: 326664\n",
      "2023-03-04 16:42:33.326664\n"
     ]
    },
    {
     "data": {
      "text/plain": [
       "'2023-03-04 16:42:33.326664'"
      ]
     },
     "execution_count": 6,
     "metadata": {},
     "output_type": "execute_result"
    }
   ],
   "source": [
    "dt = datetime.datetime.now()\n",
    "\n",
    "print('Year:', dt.year)\n",
    "print('Month:', dt.month)\n",
    "print('Day:', dt.day)\n",
    "\n",
    "print('Hour:', dt.hour)\n",
    "print('Minutes:', dt.minute)\n",
    "print('Seconds:', dt.second)\n",
    "print('Microseconds:', dt.microsecond)\n",
    "\n",
    "print(dt)\n",
    "str(dt)"
   ]
  },
  {
   "cell_type": "code",
   "execution_count": 7,
   "id": "fb8cfd8c",
   "metadata": {},
   "outputs": [
    {
     "data": {
      "text/plain": [
       "datetime.date(2023, 3, 4)"
      ]
     },
     "execution_count": 7,
     "metadata": {},
     "output_type": "execute_result"
    }
   ],
   "source": [
    "dt.date()"
   ]
  },
  {
   "cell_type": "code",
   "execution_count": 8,
   "id": "cf436a06",
   "metadata": {},
   "outputs": [],
   "source": [
    "import time"
   ]
  },
  {
   "cell_type": "code",
   "execution_count": 9,
   "id": "221f86be",
   "metadata": {},
   "outputs": [],
   "source": [
    "# 1 Jan 1970 <-- Unix epoch timestamp"
   ]
  },
  {
   "cell_type": "code",
   "execution_count": 10,
   "id": "f22d7b39",
   "metadata": {},
   "outputs": [
    {
     "data": {
      "text/plain": [
       "1677928353.436629"
      ]
     },
     "execution_count": 10,
     "metadata": {},
     "output_type": "execute_result"
    }
   ],
   "source": [
    "time.time()"
   ]
  },
  {
   "cell_type": "code",
   "execution_count": 11,
   "id": "79b1475b",
   "metadata": {},
   "outputs": [
    {
     "name": "stdout",
     "output_type": "stream",
     "text": [
      "1970-01-02 05:30:00\n"
     ]
    }
   ],
   "source": [
    "datetime.datetime.fromtimestamp(0)\n",
    "\n",
    "\n",
    "print(datetime.datetime.fromtimestamp(24*60*60))"
   ]
  },
  {
   "cell_type": "code",
   "execution_count": 12,
   "id": "0123229b",
   "metadata": {},
   "outputs": [
    {
     "data": {
      "text/plain": [
       "datetime.datetime(2023, 3, 4, 16, 42, 33, 488612)"
      ]
     },
     "execution_count": 12,
     "metadata": {},
     "output_type": "execute_result"
    }
   ],
   "source": [
    "datetime.datetime.fromtimestamp(time.time())"
   ]
  },
  {
   "cell_type": "code",
   "execution_count": 13,
   "id": "a1fddf3f",
   "metadata": {},
   "outputs": [
    {
     "data": {
      "text/plain": [
       "datetime.datetime(2020, 9, 13, 17, 56, 40)"
      ]
     },
     "execution_count": 13,
     "metadata": {},
     "output_type": "execute_result"
    }
   ],
   "source": [
    "datetime.datetime.fromtimestamp(1_600_000_000)"
   ]
  },
  {
   "cell_type": "code",
   "execution_count": 14,
   "id": "79388749",
   "metadata": {},
   "outputs": [
    {
     "data": {
      "text/plain": [
       "datetime.datetime(2021, 8, 9, 0, 0)"
      ]
     },
     "execution_count": 14,
     "metadata": {},
     "output_type": "execute_result"
    }
   ],
   "source": [
    "datetime.datetime(2021, 8, 9)"
   ]
  },
  {
   "cell_type": "code",
   "execution_count": 15,
   "id": "e065db87",
   "metadata": {},
   "outputs": [
    {
     "name": "stdout",
     "output_type": "stream",
     "text": [
      "2021-08-09 16:20:10\n"
     ]
    }
   ],
   "source": [
    "print(datetime.datetime(2021, 8, 9, 16, 20, 10))"
   ]
  },
  {
   "cell_type": "code",
   "execution_count": 16,
   "id": "50c46e26",
   "metadata": {},
   "outputs": [],
   "source": [
    "republic_day_2023 = datetime.datetime(2023, 1, 26)\n",
    "independence_day_2023 = datetime.datetime(2023, 8, 15)"
   ]
  },
  {
   "cell_type": "code",
   "execution_count": 17,
   "id": "e2ad32c0",
   "metadata": {},
   "outputs": [
    {
     "data": {
      "text/plain": [
       "datetime.datetime(2023, 1, 26, 0, 0)"
      ]
     },
     "execution_count": 17,
     "metadata": {},
     "output_type": "execute_result"
    }
   ],
   "source": [
    "republic_day_2023"
   ]
  },
  {
   "cell_type": "code",
   "execution_count": 18,
   "id": "1f1616e2",
   "metadata": {},
   "outputs": [
    {
     "data": {
      "text/plain": [
       "datetime.datetime(2023, 8, 15, 0, 0)"
      ]
     },
     "execution_count": 18,
     "metadata": {},
     "output_type": "execute_result"
    }
   ],
   "source": [
    "independence_day_2023"
   ]
  },
  {
   "cell_type": "code",
   "execution_count": 19,
   "id": "d8ad1b4b",
   "metadata": {},
   "outputs": [
    {
     "data": {
      "text/plain": [
       "False"
      ]
     },
     "execution_count": 19,
     "metadata": {},
     "output_type": "execute_result"
    }
   ],
   "source": [
    "republic_day_2023 > independence_day_2023"
   ]
  },
  {
   "cell_type": "code",
   "execution_count": 20,
   "id": "d5c3b773",
   "metadata": {},
   "outputs": [
    {
     "data": {
      "text/plain": [
       "False"
      ]
     },
     "execution_count": 20,
     "metadata": {},
     "output_type": "execute_result"
    }
   ],
   "source": [
    "republic_day_2023 == independence_day_2023"
   ]
  },
  {
   "cell_type": "code",
   "execution_count": 21,
   "id": "8ce842be",
   "metadata": {},
   "outputs": [
    {
     "data": {
      "text/plain": [
       "True"
      ]
     },
     "execution_count": 21,
     "metadata": {},
     "output_type": "execute_result"
    }
   ],
   "source": [
    "republic_day_2023 < independence_day_2023"
   ]
  },
  {
   "cell_type": "code",
   "execution_count": null,
   "id": "53ba0d20",
   "metadata": {},
   "outputs": [],
   "source": []
  },
  {
   "cell_type": "code",
   "execution_count": null,
   "id": "e3fb7c81",
   "metadata": {},
   "outputs": [],
   "source": []
  },
  {
   "cell_type": "code",
   "execution_count": null,
   "id": "088bf05f",
   "metadata": {},
   "outputs": [],
   "source": []
  },
  {
   "cell_type": "code",
   "execution_count": null,
   "id": "ec82864d",
   "metadata": {},
   "outputs": [],
   "source": []
  },
  {
   "cell_type": "code",
   "execution_count": null,
   "id": "37481fea",
   "metadata": {},
   "outputs": [],
   "source": []
  }
 ],
 "metadata": {
  "kernelspec": {
   "display_name": "Python 3 (ipykernel)",
   "language": "python",
   "name": "python3"
  },
  "language_info": {
   "codemirror_mode": {
    "name": "ipython",
    "version": 3
   },
   "file_extension": ".py",
   "mimetype": "text/x-python",
   "name": "python",
   "nbconvert_exporter": "python",
   "pygments_lexer": "ipython3",
   "version": "3.9.12"
  }
 },
 "nbformat": 4,
 "nbformat_minor": 5
}
