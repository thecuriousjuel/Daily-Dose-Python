{
 "cells": [
  {
   "cell_type": "code",
   "execution_count": 1,
   "id": "7c066276",
   "metadata": {},
   "outputs": [],
   "source": [
    "import plyer"
   ]
  },
  {
   "cell_type": "code",
   "execution_count": 2,
   "id": "45764396",
   "metadata": {},
   "outputs": [],
   "source": [
    "if plyer.battery.status['percentage'] < 50:\n",
    "    plyer.notification.notify(title=\"Battery Alery\", message=\"Consider Pluging-in\")\n",
    "else:\n",
    "    plyer.notification.notify(title=\"Battery Alery\", message=\"Continue Working!\")"
   ]
  },
  {
   "cell_type": "code",
   "execution_count": 3,
   "id": "2a0069b1",
   "metadata": {},
   "outputs": [
    {
     "data": {
      "text/plain": [
       "{'isCharging': True, 'percentage': 57}"
      ]
     },
     "execution_count": 3,
     "metadata": {},
     "output_type": "execute_result"
    }
   ],
   "source": [
    "plyer.battery.status"
   ]
  },
  {
   "cell_type": "code",
   "execution_count": null,
   "id": "0c8113dd",
   "metadata": {},
   "outputs": [],
   "source": []
  }
 ],
 "metadata": {
  "kernelspec": {
   "display_name": "Python 3 (ipykernel)",
   "language": "python",
   "name": "python3"
  },
  "language_info": {
   "codemirror_mode": {
    "name": "ipython",
    "version": 3
   },
   "file_extension": ".py",
   "mimetype": "text/x-python",
   "name": "python",
   "nbconvert_exporter": "python",
   "pygments_lexer": "ipython3",
   "version": "3.9.12"
  }
 },
 "nbformat": 4,
 "nbformat_minor": 5
}
