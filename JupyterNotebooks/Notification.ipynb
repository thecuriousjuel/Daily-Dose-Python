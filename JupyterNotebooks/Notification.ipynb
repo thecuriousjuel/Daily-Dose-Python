{
 "cells": [
  {
   "cell_type": "code",
   "execution_count": 1,
   "id": "f058baab",
   "metadata": {},
   "outputs": [],
   "source": [
    "import plyer\n",
    "import time"
   ]
  },
  {
   "cell_type": "code",
   "execution_count": null,
   "id": "eb42abef",
   "metadata": {},
   "outputs": [],
   "source": [
    "c=3\n",
    "while c >= 0:\n",
    "    plyer.notification.notify(title= \"Valentine Week Update\", \n",
    "                              message=\"Happy Hug Day\",  \n",
    "                              app_icon='valentine.ico')\n",
    "    time.sleep(15)\n",
    "    \n",
    "    c-=1"
   ]
  },
  {
   "cell_type": "code",
   "execution_count": null,
   "id": "96a16a42",
   "metadata": {},
   "outputs": [],
   "source": []
  }
 ],
 "metadata": {
  "kernelspec": {
   "display_name": "Python 3 (ipykernel)",
   "language": "python",
   "name": "python3"
  },
  "language_info": {
   "codemirror_mode": {
    "name": "ipython",
    "version": 3
   },
   "file_extension": ".py",
   "mimetype": "text/x-python",
   "name": "python",
   "nbconvert_exporter": "python",
   "pygments_lexer": "ipython3",
   "version": "3.9.12"
  }
 },
 "nbformat": 4,
 "nbformat_minor": 5
}
