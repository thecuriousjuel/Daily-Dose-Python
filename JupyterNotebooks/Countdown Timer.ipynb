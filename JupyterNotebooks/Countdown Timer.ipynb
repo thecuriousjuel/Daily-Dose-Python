{
 "cells": [
  {
   "cell_type": "code",
   "execution_count": 1,
   "id": "7eb3e692",
   "metadata": {},
   "outputs": [],
   "source": [
    "import time\n",
    "from plyer import notification"
   ]
  },
  {
   "cell_type": "code",
   "execution_count": 2,
   "id": "d1b9f7c1",
   "metadata": {},
   "outputs": [
    {
     "name": "stdout",
     "output_type": "stream",
     "text": [
      "Countdown : 00:00\r"
     ]
    }
   ],
   "source": [
    "# In Seconds\n",
    "count = 15\n",
    "\n",
    "notification.notify(title=\"Countdown Notification\", message=\"Countdown Started\")\n",
    "\n",
    "while count >= 0:\n",
    "    mins = count//60\n",
    "    secs = count%60\n",
    "    \n",
    "    print('Countdown : {:02d}:{:02d}'.format(mins, secs), end='\\r')\n",
    "    \n",
    "    count -= 1\n",
    "    \n",
    "    time.sleep(1)\n",
    "    \n",
    "notification.notify(title=\"Countdown Time\", message=\"Countdown Ended\")"
   ]
  },
  {
   "cell_type": "code",
   "execution_count": null,
   "id": "b81e04cb",
   "metadata": {},
   "outputs": [],
   "source": []
  }
 ],
 "metadata": {
  "kernelspec": {
   "display_name": "Python 3 (ipykernel)",
   "language": "python",
   "name": "python3"
  },
  "language_info": {
   "codemirror_mode": {
    "name": "ipython",
    "version": 3
   },
   "file_extension": ".py",
   "mimetype": "text/x-python",
   "name": "python",
   "nbconvert_exporter": "python",
   "pygments_lexer": "ipython3",
   "version": "3.9.12"
  }
 },
 "nbformat": 4,
 "nbformat_minor": 5
}
