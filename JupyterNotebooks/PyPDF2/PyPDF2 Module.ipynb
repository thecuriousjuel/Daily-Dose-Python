{
 "cells": [
  {
   "cell_type": "markdown",
   "id": "36589621",
   "metadata": {},
   "source": [
    "## Install the required library"
   ]
  },
  {
   "cell_type": "code",
   "execution_count": 1,
   "id": "8a9d78d1",
   "metadata": {},
   "outputs": [
    {
     "name": "stdout",
     "output_type": "stream",
     "text": [
      "Requirement already satisfied: PyPDF2 in c:\\users\\juelb\\anaconda3\\envs\\python3.11\\lib\\site-packages (3.0.1)\n",
      "Requirement already satisfied: pycryptodome in c:\\users\\juelb\\anaconda3\\envs\\python3.11\\lib\\site-packages (3.17)\n",
      "Requirement already satisfied: pycryptodomex in c:\\users\\juelb\\anaconda3\\envs\\python3.11\\lib\\site-packages (3.17)\n"
     ]
    }
   ],
   "source": [
    "!pip install PyPDF2\n",
    "!pip install pycryptodome \n",
    "!pip install pycryptodomex"
   ]
  },
  {
   "cell_type": "markdown",
   "id": "ddfe1c70",
   "metadata": {},
   "source": [
    "## Import the Package"
   ]
  },
  {
   "cell_type": "code",
   "execution_count": 1,
   "id": "75d67f18",
   "metadata": {},
   "outputs": [],
   "source": [
    "import PyPDF2"
   ]
  },
  {
   "cell_type": "markdown",
   "id": "de860715",
   "metadata": {},
   "source": [
    "## Listing out the files"
   ]
  },
  {
   "cell_type": "code",
   "execution_count": 3,
   "id": "d7eaedb4",
   "metadata": {},
   "outputs": [
    {
     "name": "stdout",
     "output_type": "stream",
     "text": [
      "0_Image21.jpg\n",
      "1_Image24.jpg\n",
      "Image11.jpg\n",
      "Image14.jpg\n",
      "PyPDF2 Module.ipynb\n",
      "TheDesert.pdf\n",
      "TheDesert-protected.pdf\n",
      "TheOcean.pdf\n"
     ]
    }
   ],
   "source": [
    "!ls"
   ]
  },
  {
   "cell_type": "markdown",
   "id": "c6088d57",
   "metadata": {},
   "source": [
    "## Extract Text from PDF"
   ]
  },
  {
   "cell_type": "code",
   "execution_count": 4,
   "id": "1c00aad1",
   "metadata": {
    "scrolled": true
   },
   "outputs": [
    {
     "name": "stdout",
     "output_type": "stream",
     "text": [
      "No. of pages :  3\n",
      "The Oceans: Our Beautiful Blue Planet  \n",
      " \n",
      "1 | P a g e  \n",
      "  \n",
      " \n",
      "The Ocean: Our Beautiful Blue Planet  \n",
      " \n",
      "The ocean covers more than 70% of the Earth's surface and is home to millions of living \n",
      "organisms. It is an essential part of our planet, and without it, life as we know it would not \n",
      "exist. The ocean is not just a big body of water; it is a complex ecosystem that provides us \n",
      "with many resources, including food, energy, and medicine. It is also a source of inspiration \n",
      "and beauty.  \n",
      " \n",
      "The ocean is an immense body of saltwater that is constantly moving. It is made up of five \n",
      "main regions: the Atlantic, Pacific, Indian, Southern, and Arctic Oceans. Each region has its \n",
      "unique features, such as water temperature, depth, and currents. The ocean's water is salty \n",
      "because of the minerals that are dissolved in it. Saltwater  is heavier than freshwater, which \n",
      "is why the ocean is deeper than most lakes and rivers.  \n",
      " \n",
      "The ocean is home to millions of living organisms, including fish, whales, dolphins, sharks, \n",
      "turtles, and many others. It is estimated that there are over one millio n species of plants \n",
      "and animals in the ocean. The ocean's biodiversity is essential for maintaining a healthy \n",
      "ecosystem. Some of the most important organisms in the ocean are phytoplankton, tiny \n",
      "plants that produce most of the oxygen we breathe.  \n",
      "\n",
      "The Oceans: Our Beautiful Blue Planet  \n",
      " \n",
      "2 | P a g e  \n",
      "  \n",
      " \n",
      "The oce an is also a vital source of food for humans. Fish, shellfish, and other seafood are an \n",
      "important part of the human diet. Many people around the world depend on the ocean for \n",
      "their livelihoods. Fishing and aquaculture are major industries that provide jobs  and income \n",
      "for millions of people. However, overfishing and pollution are major threats to the ocean's \n",
      "health and the livelihoods of those who depend on it.  \n",
      " \n",
      "In addition to providing food, the ocean is also a source of energy. Waves, tides, and ocean \n",
      "currents can be used to generate electricity. Ocean energy is a clean, renewable source of \n",
      "energy that can help reduce our reliance on fossil fuels. However, harnessing ocean energy \n",
      "can also have negative impacts on marine life if not done sustainably.  \n",
      " \n",
      "The oc ean is also a source of inspiration and beauty. Its vastness and beauty have inspired \n",
      "countless artists, writers, and poets throughout history. The ocean's waves, colors, and \n",
      "marine life have also captured the imagination of many. The ocean has a calming e ffect on \n",
      "many people and is a popular destination for recreation and relaxation.  \n",
      " \n",
      "Despite its importance, the ocean is facing many threats. Pollution, overfishing, and climate \n",
      "change are all putting pressure on the ocean's health. Plastic pollution is a ma jor issue, with \n",
      "\n",
      "The Oceans: Our Beautiful Blue Planet  \n",
      " \n",
      "3 | P a g e  \n",
      " millions of tons of plastic waste ending up in the ocean every year. This plastic waste harms \n",
      "marine life and can even make its way into the human food chain.  \n",
      " \n",
      "Overfishing is another major threat to the ocean's health. Many fish stocks are being \n",
      "depleted due to unsustainable fishing practices. This not only harms the fish populations but \n",
      "also the communities that depend on them for their livelihoods. Climate change is also \n",
      "affecting the ocean, with rising sea temperatures and sea levels, and  ocean acidification \n",
      "threatening marine life.  \n",
      " \n",
      "To protect the ocean and its resources, it is essential to take action. Reducing plastic waste, \n",
      "supporting sustainable fishing practices, and reducing our carbon footprint can all help to \n",
      "protect the ocean's h ealth. Governments, businesses, and individuals all have a role to play \n",
      "in protecting our beautiful blue planet.  \n",
      " \n",
      "In conclusion, the ocean is an essential part of our planet, providing us with food, energy, \n",
      "and inspiration. It is home to millions of living  organisms and is an important source of \n",
      "biodiversity. However, the ocean is facing many threats, including pollution, overfishing, and \n",
      "climate change. It is up to all of us . \n"
     ]
    }
   ],
   "source": [
    "with open('TheOcean.pdf', 'rb') as pdf_file_obj:\n",
    "    pdf_file_reader = PyPDF2.PdfReader(pdf_file_obj)\n",
    "    \n",
    "    num_of_pages = len(pdf_file_reader.pages)\n",
    "    print('No. of pages : ', num_of_pages)\n",
    "    \n",
    "    for page in range(num_of_pages):\n",
    "        page = pdf_file_reader.pages[page]\n",
    "        print(page.extract_text())"
   ]
  },
  {
   "cell_type": "code",
   "execution_count": 5,
   "id": "9e48dd2b",
   "metadata": {},
   "outputs": [],
   "source": [
    "file_object = open('TheOcean.pdf', 'rb')\n",
    "\n",
    "pdf_file_obj = PyPDF2.PdfReader(file_object)"
   ]
  },
  {
   "cell_type": "code",
   "execution_count": 6,
   "id": "6e93ec10",
   "metadata": {},
   "outputs": [
    {
     "data": {
      "text/plain": [
       "3"
      ]
     },
     "execution_count": 6,
     "metadata": {},
     "output_type": "execute_result"
    }
   ],
   "source": [
    "len(pdf_file_obj.pages)"
   ]
  },
  {
   "cell_type": "markdown",
   "id": "1d183f3c",
   "metadata": {},
   "source": [
    "## Extracting Images from PDF"
   ]
  },
  {
   "cell_type": "code",
   "execution_count": 7,
   "id": "766deeee",
   "metadata": {},
   "outputs": [
    {
     "data": {
      "text/plain": [
       "[File(name=Image11.jpg, data: 67.1 kB, hash: -343772436863801620)]"
      ]
     },
     "execution_count": 7,
     "metadata": {},
     "output_type": "execute_result"
    }
   ],
   "source": [
    "first_page = pdf_file_obj.pages[0]\n",
    "\n",
    "first_page.images"
   ]
  },
  {
   "cell_type": "code",
   "execution_count": 8,
   "id": "ada8584d",
   "metadata": {},
   "outputs": [
    {
     "data": {
      "text/plain": [
       "File(name=Image11.jpg, data: 67.1 kB, hash: -343772436863801620)"
      ]
     },
     "execution_count": 8,
     "metadata": {},
     "output_type": "execute_result"
    }
   ],
   "source": [
    "first_page.images[0]"
   ]
  },
  {
   "cell_type": "code",
   "execution_count": 9,
   "id": "5404658f",
   "metadata": {},
   "outputs": [
    {
     "data": {
      "text/plain": [
       "'Image11.jpg'"
      ]
     },
     "execution_count": 9,
     "metadata": {},
     "output_type": "execute_result"
    }
   ],
   "source": [
    "first_page.images[0].name"
   ]
  },
  {
   "cell_type": "code",
   "execution_count": 10,
   "id": "89149253",
   "metadata": {},
   "outputs": [],
   "source": [
    "# first_page.images[0].data"
   ]
  },
  {
   "cell_type": "code",
   "execution_count": 11,
   "id": "f9de6c65",
   "metadata": {},
   "outputs": [],
   "source": [
    "file_name = first_page.images[0].name\n",
    "file_data = first_page.images[0].data\n",
    "\n",
    "\n",
    "with open(file_name, 'wb') as file:\n",
    "    file.write(file_data)"
   ]
  },
  {
   "cell_type": "code",
   "execution_count": 12,
   "id": "513f035c",
   "metadata": {},
   "outputs": [
    {
     "name": "stdout",
     "output_type": "stream",
     "text": [
      "0 File(name=Image11.jpg, data: 67.1 kB)\n",
      "1 File(name=Image14.jpg, data: 70.2 kB)\n"
     ]
    }
   ],
   "source": [
    "num_of_pages = len(pdf_file_obj.pages)\n",
    "\n",
    "for page in range(num_of_pages):\n",
    "    particular_page = pdf_file_obj.pages[page]\n",
    "    \n",
    "    for image in particular_page.images:\n",
    "        print(page, image)\n",
    "        \n",
    "        file_name = image.name\n",
    "        file_data = image.data\n",
    "        \n",
    "        with open(file_name, 'wb') as file:\n",
    "            file.write(file_data)"
   ]
  },
  {
   "cell_type": "markdown",
   "id": "cb917175",
   "metadata": {},
   "source": [
    "## Read an encrypted pdf"
   ]
  },
  {
   "cell_type": "code",
   "execution_count": 13,
   "id": "52b0c4c5",
   "metadata": {},
   "outputs": [],
   "source": [
    "import PyPDF2"
   ]
  },
  {
   "cell_type": "code",
   "execution_count": 14,
   "id": "b9d1ceb4",
   "metadata": {},
   "outputs": [],
   "source": [
    "file_obj = open('TheDesert-protected.pdf', 'rb')\n",
    "\n",
    "pdf_obj = PyPDF2.PdfReader(file_obj)"
   ]
  },
  {
   "cell_type": "code",
   "execution_count": 15,
   "id": "b8091214",
   "metadata": {},
   "outputs": [
    {
     "data": {
      "text/plain": [
       "True"
      ]
     },
     "execution_count": 15,
     "metadata": {},
     "output_type": "execute_result"
    }
   ],
   "source": [
    "pdf_obj.is_encrypted"
   ]
  },
  {
   "cell_type": "code",
   "execution_count": 16,
   "id": "82c19994",
   "metadata": {},
   "outputs": [
    {
     "data": {
      "text/plain": [
       "<PasswordType.OWNER_PASSWORD: 2>"
      ]
     },
     "execution_count": 16,
     "metadata": {},
     "output_type": "execute_result"
    }
   ],
   "source": [
    "pdf_obj.decrypt('password')"
   ]
  },
  {
   "cell_type": "code",
   "execution_count": 17,
   "id": "6cf8eb5f",
   "metadata": {},
   "outputs": [
    {
     "data": {
      "text/plain": [
       "3"
      ]
     },
     "execution_count": 17,
     "metadata": {},
     "output_type": "execute_result"
    }
   ],
   "source": [
    "len(pdf_obj.pages)"
   ]
  },
  {
   "cell_type": "code",
   "execution_count": 18,
   "id": "38268131",
   "metadata": {
    "scrolled": true
   },
   "outputs": [
    {
     "name": "stdout",
     "output_type": "stream",
     "text": [
      "The Desert: An Enigmatic Landscape  \n",
      " \n",
      "1 | P a g e  \n",
      "  \n",
      "The Desert: An Enigmatic Landscape  \n",
      " \n",
      "The desert is a unique and enigmatic landscape that covers about 20% of the Earth's surface. \n",
      "It is a harsh and unforgiving environment that is characterized by extreme temperatures, low \n",
      "rainfall, and sparse vegetation. Despite its challenging conditions, the desert is home to a \n",
      "wide variety of plant and animal life, as well as diverse human cultures that have adapted to \n",
      "its unique conditions.  \n",
      " \n",
      "Deserts are found in every continent on Earth, and each has its un ique features and \n",
      "characteristics. Some of the largest deserts in the world include the Sahara in Africa, the \n",
      "Arabian Desert in the Middle East, the Gobi in Asia, and the Mojave in North America. Each \n",
      "of these deserts is characterized by its unique landsca pe, climate, and biodiversity.  \n",
      " \n",
      "The desert landscape is often characterized by vast expanses of sand dunes, rocky \n",
      "mountains, and dry riverbeds. The sand dunes are formed by the wind, which blows sand \n",
      "into large piles that shift and change shape over time. The rocky mountains are often \n",
      "composed of hard, durable rock that has been eroded over millions of years by wind and \n",
      "water. The dry riverbeds, known as wadis, are the remnants of ancient rivers that once \n",
      "flowed through the desert.  \n",
      "\n",
      "Image21.jpg\n",
      "The Desert: An Enigmatic Landscape  \n",
      " \n",
      "2 | P a g e  \n",
      " The desert climate is cha racterized by extreme temperatures, both hot and cold. During the \n",
      "day, temperatures can reach well over 100 degrees Fahrenheit, while at night, they can drop \n",
      "below freezing. The low rainfall in the desert means that water is scarce, and plants and \n",
      "animals have adapted to survive in this dry environment. Many plants have developed long \n",
      "roots that reach deep into the ground to find water, while animals have adapted to store \n",
      "water in their bodies and to survive long periods without food or water.  \n",
      " \n",
      "Despite its  harsh conditions, the desert is home to a wide variety of plant and animal life. \n",
      "Some of the most common plants in the desert include cacti, succulents, and shrubs. These \n",
      "plants are adapted to the dry environment and have developed strategies to conserve water. \n",
      "Animals that live in the desert include lizards, snakes, rodents, and birds. Many of these \n",
      "animals are nocturnal, meaning they are active at night when temperatures are cooler.  \n",
      " \n",
      "The desert is also home to a diverse range of human cultures that have adapted to its \n",
      "unique conditions. Nomadic tribes, such as the Bedouin in the Middle East and the Tuareg in \n",
      "North Africa, have lived in the desert for thousands of years. These tribes have developed \n",
      "unique lifestyles and traditions that are closely tied to the desert landscape. They have also \n",
      "developed strategies to survive in the harsh environment, such as using camels as a means \n",
      "of transportation and finding water sources.  \n",
      " \n",
      "\n",
      "Image24.jpg\n",
      "The Desert: An Enigmatic Landscape  \n",
      " \n",
      "3 | P a g e  \n",
      " Despite its beauty and importance, the desert is facing many threats. Climate chang e is \n",
      "causing temperatures to rise, and rainfall patterns are changing, making the desert even \n",
      "drier. Desertification, the process of turning fertile land into desert, is also a major issue. \n",
      "Overgrazing, deforestation, and land -use changes are all contributi ng to desertification, \n",
      "which can have severe consequences for the environment and human communities.  \n",
      " \n",
      "To protect the desert and its biodiversity, it is essential to take action. Strategies to reduce \n",
      "greenhouse gas emissions and combat climate change can h elp to slow the impacts of rising \n",
      "temperatures and changing rainfall patterns. Protecting areas of the desert from \n",
      "development and preserving biodiversity can also help to maintain healthy desert \n",
      "ecosystems. Supporting sustainable human communities that li ve in the desert can also help \n",
      "to promote conservation and protect the desert's unique cultural heritage.  \n",
      " \n",
      "In conclusion, the desert is a unique and enigmatic landscape that is home to a wide variety \n",
      "of plant and animal life, as well as diverse human cultu res. It is a harsh and unforgiving \n",
      "environment that has challenged human communities for thousands of years. However, the \n",
      "desert is also . \n"
     ]
    }
   ],
   "source": [
    "count = 0\n",
    "for page in pdf_obj.pages:\n",
    "    print(page.extract_text())\n",
    "    for image in page.images:\n",
    "        print(image.name)\n",
    "        with open(str(count) + '_' + image.name, 'wb') as file:\n",
    "            file.write(image.data)\n",
    "        count += 1"
   ]
  },
  {
   "cell_type": "code",
   "execution_count": null,
   "id": "99b579a3",
   "metadata": {},
   "outputs": [],
   "source": []
  },
  {
   "cell_type": "markdown",
   "id": "dec1d512",
   "metadata": {},
   "source": [
    "## Encrypt a PDF File"
   ]
  },
  {
   "cell_type": "code",
   "execution_count": 1,
   "id": "00fe880e",
   "metadata": {},
   "outputs": [],
   "source": [
    "from PyPDF2 import PdfReader, PdfWriter"
   ]
  },
  {
   "cell_type": "code",
   "execution_count": 2,
   "id": "a77115c7",
   "metadata": {},
   "outputs": [
    {
     "data": {
      "text/plain": [
       "<PyPDF2._reader.PdfReader at 0x257a1d41190>"
      ]
     },
     "execution_count": 2,
     "metadata": {},
     "output_type": "execute_result"
    }
   ],
   "source": [
    "pdf_reader = PdfReader('TheOcean.pdf')\n",
    "pdf_reader"
   ]
  },
  {
   "cell_type": "code",
   "execution_count": 3,
   "id": "c97f92a6",
   "metadata": {},
   "outputs": [
    {
     "data": {
      "text/plain": [
       "<PyPDF2._writer.PdfWriter at 0x257a24e8590>"
      ]
     },
     "execution_count": 3,
     "metadata": {},
     "output_type": "execute_result"
    }
   ],
   "source": [
    "pdf_writer = PdfWriter()\n",
    "pdf_writer"
   ]
  },
  {
   "cell_type": "code",
   "execution_count": 6,
   "id": "f02871fe",
   "metadata": {},
   "outputs": [
    {
     "data": {
      "text/plain": [
       "<PyPDF2._writer.PdfWriter at 0x1f150430590>"
      ]
     },
     "execution_count": 6,
     "metadata": {},
     "output_type": "execute_result"
    }
   ],
   "source": [
    "pdf_writer.append(pdf_reader)\n",
    "pdf_writer"
   ]
  },
  {
   "cell_type": "code",
   "execution_count": 7,
   "id": "3385402b",
   "metadata": {},
   "outputs": [
    {
     "data": {
      "text/plain": [
       "<PyPDF2._writer.PdfWriter at 0x1f150430590>"
      ]
     },
     "execution_count": 7,
     "metadata": {},
     "output_type": "execute_result"
    }
   ],
   "source": [
    "pdf_writer.encrypt('password')\n",
    "pdf_writer"
   ]
  },
  {
   "cell_type": "code",
   "execution_count": 8,
   "id": "8b9ea1d7",
   "metadata": {},
   "outputs": [
    {
     "data": {
      "text/plain": [
       "(True, <_io.FileIO [closed]>)"
      ]
     },
     "execution_count": 8,
     "metadata": {},
     "output_type": "execute_result"
    }
   ],
   "source": [
    "pdf_writer.write('TheOcean-encrypted.pdf')"
   ]
  },
  {
   "cell_type": "code",
   "execution_count": null,
   "id": "0d5114d8",
   "metadata": {},
   "outputs": [],
   "source": []
  },
  {
   "cell_type": "markdown",
   "id": "808b2225",
   "metadata": {},
   "source": [
    "## Merge two PDFs"
   ]
  },
  {
   "cell_type": "code",
   "execution_count": 1,
   "id": "ae0ed9af",
   "metadata": {},
   "outputs": [],
   "source": [
    "import PyPDF2"
   ]
  },
  {
   "cell_type": "code",
   "execution_count": 2,
   "id": "34ebb633",
   "metadata": {},
   "outputs": [
    {
     "name": "stdout",
     "output_type": "stream",
     "text": [
      "0_Image21.jpg\n",
      "1_Image24.jpg\n",
      "Image11.jpg\n",
      "Image14.jpg\n",
      "PyPDF2 Module.ipynb\n",
      "TheDesert.docx\n",
      "TheDesert.pdf\n",
      "TheDesert-protected.pdf\n",
      "TheOcean.docx\n",
      "TheOcean.pdf\n"
     ]
    }
   ],
   "source": [
    "!ls"
   ]
  },
  {
   "cell_type": "code",
   "execution_count": 3,
   "id": "f396051f",
   "metadata": {},
   "outputs": [],
   "source": [
    "pdf_merger_obj = PyPDF2.PdfWriter()\n",
    "\n",
    "for pdf in ['TheOcean.pdf', 'TheDesert.pdf']:\n",
    "    pdf_merger_obj.append(pdf)\n",
    "    \n",
    "pdf_merger_obj.write('merged-pdf.pdf')\n",
    "pdf_merger_obj.close()"
   ]
  },
  {
   "cell_type": "code",
   "execution_count": null,
   "id": "cc77c600",
   "metadata": {},
   "outputs": [],
   "source": []
  },
  {
   "cell_type": "markdown",
   "id": "d34e2786",
   "metadata": {},
   "source": [
    "## Inserting pages"
   ]
  },
  {
   "cell_type": "code",
   "execution_count": 4,
   "id": "6b9fe054",
   "metadata": {},
   "outputs": [],
   "source": [
    "from PyPDF2 import PdfWriter"
   ]
  },
  {
   "cell_type": "code",
   "execution_count": 5,
   "id": "16ea2975",
   "metadata": {},
   "outputs": [
    {
     "name": "stdout",
     "output_type": "stream",
     "text": [
      "0_Image21.jpg\n",
      "1_Image24.jpg\n",
      "Image11.jpg\n",
      "Image14.jpg\n",
      "merged-pdf.pdf\n",
      "PyPDF2 Module.ipynb\n",
      "TheDesert.docx\n",
      "TheDesert.pdf\n",
      "TheDesert-protected.pdf\n",
      "TheOcean.docx\n",
      "TheOcean.pdf\n"
     ]
    }
   ],
   "source": [
    "!ls"
   ]
  },
  {
   "cell_type": "markdown",
   "id": "a397c8d8",
   "metadata": {},
   "source": [
    "### One Way"
   ]
  },
  {
   "cell_type": "code",
   "execution_count": 23,
   "id": "ed7aa843",
   "metadata": {},
   "outputs": [],
   "source": [
    "ocean_pdf = open('TheOcean.pdf', 'rb')\n",
    "desert_pdf = open('TheDesert.pdf', 'rb')"
   ]
  },
  {
   "cell_type": "code",
   "execution_count": 27,
   "id": "e1af145b",
   "metadata": {},
   "outputs": [],
   "source": [
    "output_pdf = PyPDF2.PdfWriter()"
   ]
  },
  {
   "cell_type": "code",
   "execution_count": 25,
   "id": "b41ad9fd",
   "metadata": {},
   "outputs": [],
   "source": [
    "final_doc_obj = PdfWriter()\n",
    "\n",
    "final_doc_obj.merge(position=0, fileobj=ocean_pdf)\n",
    "final_doc_obj.merge(position=1, fileobj=desert_pdf, pages=[0])\n",
    "\n",
    "final_doc_obj.write('page_insert.pdf')\n",
    "\n",
    "ocean_pdf.close()\n",
    "desert_pdf.close()"
   ]
  },
  {
   "cell_type": "markdown",
   "id": "2aaabd7b",
   "metadata": {},
   "source": [
    "### Another Way"
   ]
  },
  {
   "cell_type": "code",
   "execution_count": 28,
   "id": "7bfc500c",
   "metadata": {},
   "outputs": [],
   "source": [
    "ocean_pdf = open('TheOcean.pdf', 'rb')\n",
    "desert_pdf = open('TheDesert.pdf', 'rb')\n",
    "\n",
    "final_doc_obj.append(ocean_pdf)\n",
    "final_doc_obj.merge(position=1, fileobj=desert_pdf, pages=[0])\n",
    "final_doc_obj.write('page_insert_2.pdf')\n",
    "\n",
    "ocean_pdf.close()\n",
    "desert_pdf.close()"
   ]
  },
  {
   "cell_type": "code",
   "execution_count": null,
   "id": "48973e14",
   "metadata": {},
   "outputs": [],
   "source": []
  },
  {
   "cell_type": "markdown",
   "id": "d6263dab",
   "metadata": {},
   "source": [
    "## Remove Alternate Pages"
   ]
  },
  {
   "cell_type": "code",
   "execution_count": null,
   "id": "8b8297e9",
   "metadata": {},
   "outputs": [],
   "source": [
    "import os\n",
    "\n",
    "for file in os.listdir():\n",
    "    if file.endswith('.pdf'):\n",
    "        print(file)"
   ]
  },
  {
   "cell_type": "markdown",
   "id": "d145e071",
   "metadata": {},
   "source": [
    "### One way"
   ]
  },
  {
   "cell_type": "code",
   "execution_count": null,
   "id": "403c79c1",
   "metadata": {},
   "outputs": [],
   "source": [
    "ocean_pdf = open('TheOcean.pdf', 'rb')\n",
    "desert_pdf = open('TheDesert.pdf', 'rb')\n",
    "\n",
    "final_pdf_writer = PyPDF2.PdfWriter()\n",
    "final_pdf_writer.merge(position=0, fileobj=ocean_pdf, pages=[0, 2])\n",
    "final_pdf_writer.write('ocean_without_page_2.pdf')\n",
    "\n",
    "ocean_pdf.close()\n",
    "desert_pdf.close()"
   ]
  },
  {
   "cell_type": "markdown",
   "id": "52af857e",
   "metadata": {},
   "source": [
    "### Another way "
   ]
  },
  {
   "cell_type": "code",
   "execution_count": null,
   "id": "808d1c0f",
   "metadata": {},
   "outputs": [],
   "source": [
    "final_pdf_writer = PyPDF2.PdfWriter()\n",
    "\n",
    "mountain_pdf = open('Mountains.pdf', 'rb')\n",
    "\n",
    "final_pdf_writer.merge(position=0, fileobj=mountain_pdf, pages=(0, 5, 2))\n",
    "final_pdf_writer.write('Mountains_distilled.pdf')\n",
    "mountain_pdf.close()"
   ]
  },
  {
   "cell_type": "code",
   "execution_count": null,
   "id": "bf026f35",
   "metadata": {},
   "outputs": [],
   "source": []
  },
  {
   "cell_type": "code",
   "execution_count": null,
   "id": "8ad593f7",
   "metadata": {},
   "outputs": [],
   "source": []
  },
  {
   "cell_type": "code",
   "execution_count": null,
   "id": "7f9d5033",
   "metadata": {},
   "outputs": [],
   "source": []
  },
  {
   "cell_type": "code",
   "execution_count": null,
   "id": "17794c34",
   "metadata": {},
   "outputs": [],
   "source": []
  },
  {
   "cell_type": "code",
   "execution_count": null,
   "id": "9ab7baa2",
   "metadata": {},
   "outputs": [],
   "source": []
  },
  {
   "cell_type": "code",
   "execution_count": null,
   "id": "9cc674f1",
   "metadata": {},
   "outputs": [],
   "source": []
  },
  {
   "cell_type": "code",
   "execution_count": null,
   "id": "9597f57e",
   "metadata": {},
   "outputs": [],
   "source": []
  },
  {
   "cell_type": "code",
   "execution_count": null,
   "id": "cd625ce9",
   "metadata": {},
   "outputs": [],
   "source": []
  }
 ],
 "metadata": {
  "kernelspec": {
   "display_name": "Python 3 (ipykernel)",
   "language": "python",
   "name": "python3"
  },
  "language_info": {
   "codemirror_mode": {
    "name": "ipython",
    "version": 3
   },
   "file_extension": ".py",
   "mimetype": "text/x-python",
   "name": "python",
   "nbconvert_exporter": "python",
   "pygments_lexer": "ipython3",
   "version": "3.11.0"
  }
 },
 "nbformat": 4,
 "nbformat_minor": 5
}
