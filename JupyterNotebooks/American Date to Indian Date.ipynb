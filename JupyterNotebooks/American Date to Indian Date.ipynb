{
 "cells": [
  {
   "cell_type": "code",
   "execution_count": 1,
   "id": "d768e1f9",
   "metadata": {},
   "outputs": [
    {
     "name": "stderr",
     "output_type": "stream",
     "text": [
      "Traceback (most recent call last):\n",
      "  File \"C:\\Users\\juelb\\Desktop\\test\\generate_files_folder_with_dates.py\", line 17, in <module>\n",
      "    os.makedirs(folder_path)\n",
      "  File \"C:\\Users\\juelb\\Anaconda3\\lib\\os.py\", line 225, in makedirs\n",
      "    mkdir(name, mode)\n",
      "FileExistsError: [WinError 183] Cannot create a file when that file already exists: 'File Inventory\\\\folder_1'\n"
     ]
    }
   ],
   "source": [
    "!python generate_files_folder_with_dates.py"
   ]
  },
  {
   "cell_type": "raw",
   "id": "253c635c",
   "metadata": {},
   "source": [
    "MM-DD-YYYY -> DD-MM-YYYY"
   ]
  },
  {
   "cell_type": "raw",
   "id": "3c916125",
   "metadata": {},
   "source": [
    "filename_04-16-2023.txt?\\d"
   ]
  },
  {
   "cell_type": "code",
   "execution_count": 2,
   "id": "efc5688d",
   "metadata": {},
   "outputs": [
    {
     "name": "stdout",
     "output_type": "stream",
     "text": [
      "File Inventory\n",
      "generate_files_folder_with_dates.py\n",
      "Untitled.ipynb\n"
     ]
    }
   ],
   "source": [
    "!ls"
   ]
  },
  {
   "cell_type": "code",
   "execution_count": 3,
   "id": "26bdc3ad",
   "metadata": {},
   "outputs": [],
   "source": [
    "import os\n",
    "import re"
   ]
  },
  {
   "cell_type": "code",
   "execution_count": 20,
   "id": "95ee0131",
   "metadata": {
    "scrolled": true
   },
   "outputs": [
    {
     "name": "stdout",
     "output_type": "stream",
     "text": [
      "File Inventory\\folder_1\\filename_04-16-2023.txt -> File Inventory\\folder_1\\filename_16-04-2023.txt\n",
      "File Inventory\\folder_1\\filename_04-17-2023.txt -> File Inventory\\folder_1\\filename_17-04-2023.txt\n",
      "File Inventory\\folder_1\\filename_04-19-2023.txt -> File Inventory\\folder_1\\filename_19-04-2023.txt\n",
      "File Inventory\\folder_1\\filename_04-20-2023.txt -> File Inventory\\folder_1\\filename_20-04-2023.txt\n",
      "File Inventory\\folder_1\\filename_04-22-2023.txt -> File Inventory\\folder_1\\filename_22-04-2023.txt\n",
      "File Inventory\\folder_1\\filename_04-23-2023.txt -> File Inventory\\folder_1\\filename_23-04-2023.txt\n",
      "File Inventory\\folder_1\\filename_04-25-2023.txt -> File Inventory\\folder_1\\filename_25-04-2023.txt\n",
      "File Inventory\\folder_2\\filename_04-26-2023.txt -> File Inventory\\folder_2\\filename_26-04-2023.txt\n",
      "File Inventory\\folder_2\\filename_04-27-2023.txt -> File Inventory\\folder_2\\filename_27-04-2023.txt\n",
      "File Inventory\\folder_2\\filename_04-29-2023.txt -> File Inventory\\folder_2\\filename_29-04-2023.txt\n",
      "File Inventory\\folder_2\\filename_04-30-2023.txt -> File Inventory\\folder_2\\filename_30-04-2023.txt\n",
      "File Inventory\\folder_2\\filename_05-02-2023.txt -> File Inventory\\folder_2\\filename_02-05-2023.txt\n",
      "File Inventory\\folder_2\\filename_05-03-2023.txt -> File Inventory\\folder_2\\filename_03-05-2023.txt\n",
      "File Inventory\\folder_2\\filename_05-05-2023.txt -> File Inventory\\folder_2\\filename_05-05-2023.txt\n",
      "File Inventory\\folder_3\\filename_05-06-2023.txt -> File Inventory\\folder_3\\filename_06-05-2023.txt\n",
      "File Inventory\\folder_3\\filename_05-07-2023.txt -> File Inventory\\folder_3\\filename_07-05-2023.txt\n",
      "File Inventory\\folder_3\\filename_05-09-2023.txt -> File Inventory\\folder_3\\filename_09-05-2023.txt\n",
      "File Inventory\\folder_3\\filename_05-10-2023.txt -> File Inventory\\folder_3\\filename_10-05-2023.txt\n",
      "File Inventory\\folder_3\\filename_05-12-2023.txt -> File Inventory\\folder_3\\filename_12-05-2023.txt\n",
      "File Inventory\\folder_3\\filename_05-13-2023.txt -> File Inventory\\folder_3\\filename_13-05-2023.txt\n",
      "File Inventory\\folder_3\\filename_05-15-2023.txt -> File Inventory\\folder_3\\filename_15-05-2023.txt\n",
      "File Inventory\\folder_4\\filename_05-16-2023.txt -> File Inventory\\folder_4\\filename_16-05-2023.txt\n",
      "File Inventory\\folder_4\\filename_05-17-2023.txt -> File Inventory\\folder_4\\filename_17-05-2023.txt\n",
      "File Inventory\\folder_4\\filename_05-19-2023.txt -> File Inventory\\folder_4\\filename_19-05-2023.txt\n",
      "File Inventory\\folder_4\\filename_05-20-2023.txt -> File Inventory\\folder_4\\filename_20-05-2023.txt\n",
      "File Inventory\\folder_4\\filename_05-22-2023.txt -> File Inventory\\folder_4\\filename_22-05-2023.txt\n",
      "File Inventory\\folder_4\\filename_05-23-2023.txt -> File Inventory\\folder_4\\filename_23-05-2023.txt\n",
      "File Inventory\\folder_4\\filename_05-25-2023.txt -> File Inventory\\folder_4\\filename_25-05-2023.txt\n",
      "File Inventory\\folder_5\\filename_05-26-2023.txt -> File Inventory\\folder_5\\filename_26-05-2023.txt\n",
      "File Inventory\\folder_5\\filename_05-27-2023.txt -> File Inventory\\folder_5\\filename_27-05-2023.txt\n",
      "File Inventory\\folder_5\\filename_05-29-2023.txt -> File Inventory\\folder_5\\filename_29-05-2023.txt\n",
      "File Inventory\\folder_5\\filename_05-30-2023.txt -> File Inventory\\folder_5\\filename_30-05-2023.txt\n",
      "File Inventory\\folder_5\\filename_06-01-2023.txt -> File Inventory\\folder_5\\filename_01-06-2023.txt\n",
      "File Inventory\\folder_5\\filename_06-02-2023.txt -> File Inventory\\folder_5\\filename_02-06-2023.txt\n",
      "File Inventory\\folder_5\\filename_06-04-2023.txt -> File Inventory\\folder_5\\filename_04-06-2023.txt\n"
     ]
    }
   ],
   "source": [
    "for current, foldernames, filenames in os.walk('File Inventory'):\n",
    "    \n",
    "    for filename in filenames:\n",
    "#         print(filename)\n",
    "        \n",
    "        pattern = re.compile('^(.*?)((0|1)?\\d)-((0|1|2|3)?\\d)-((19|20)\\d\\d)(.*?)$')\n",
    "        output = pattern.search(filename)\n",
    "        \n",
    "        if output:\n",
    "            first_part = output.group(1)\n",
    "            month_part = output.group(2)\n",
    "            date_part = output.group(4)\n",
    "            year_part = output.group(6)\n",
    "            last_part = output.group(8)\n",
    "        \n",
    "#             print(first_part)\n",
    "#             print(month_part)\n",
    "#             print(date_part)\n",
    "#             print(year_part)\n",
    "#             print(last_part)\n",
    "\n",
    "\n",
    "            new_file_name = first_part + date_part + '-' + month_part + '-' + year_part + last_part\n",
    "#             print(filename, '->', new_file_name)\n",
    "        \n",
    "            filename_path = os.path.join(current, filename)\n",
    "            newfile_path = os.path.join(current, new_file_name)\n",
    "            \n",
    "            print(filename_path, '->', newfile_path)\n",
    "            \n",
    "            os.rename(filename_path, newfile_path)\n",
    "        "
   ]
  },
  {
   "cell_type": "raw",
   "id": "08ceb252",
   "metadata": {},
   "source": [
    "filename_04-16-2023.txt\n",
    "\n",
    "\n",
    "\n",
    "\n"
   ]
  },
  {
   "cell_type": "code",
   "execution_count": null,
   "id": "1b1b5371",
   "metadata": {},
   "outputs": [],
   "source": []
  },
  {
   "cell_type": "code",
   "execution_count": null,
   "id": "d276c221",
   "metadata": {},
   "outputs": [],
   "source": []
  },
  {
   "cell_type": "code",
   "execution_count": null,
   "id": "e2db7e1e",
   "metadata": {},
   "outputs": [],
   "source": []
  },
  {
   "cell_type": "code",
   "execution_count": null,
   "id": "86244ad2",
   "metadata": {},
   "outputs": [],
   "source": []
  }
 ],
 "metadata": {
  "kernelspec": {
   "display_name": "Python 3 (ipykernel)",
   "language": "python",
   "name": "python3"
  },
  "language_info": {
   "codemirror_mode": {
    "name": "ipython",
    "version": 3
   },
   "file_extension": ".py",
   "mimetype": "text/x-python",
   "name": "python",
   "nbconvert_exporter": "python",
   "pygments_lexer": "ipython3",
   "version": "3.9.12"
  }
 },
 "nbformat": 4,
 "nbformat_minor": 5
}
