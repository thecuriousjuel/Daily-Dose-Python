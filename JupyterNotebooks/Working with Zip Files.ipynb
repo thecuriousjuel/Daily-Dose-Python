{
 "cells": [
  {
   "cell_type": "markdown",
   "id": "d7d3ae29",
   "metadata": {},
   "source": [
    "# Zip File"
   ]
  },
  {
   "cell_type": "markdown",
   "id": "ae0804dd",
   "metadata": {},
   "source": [
    "ZIP is an archive file format that supports lossless data compression. A ZIP file may contain one or more files or directories that may have been compressed. The ZIP file format permits a number of compression algorithms, though DEFLATE is the most common."
   ]
  },
  {
   "cell_type": "markdown",
   "id": "820690c6",
   "metadata": {},
   "source": [
    "### Advantages"
   ]
  },
  {
   "cell_type": "markdown",
   "id": "87092dc1",
   "metadata": {},
   "source": [
    " <ol>\n",
    "  <li>The file contents are compressed and hence the size get reduced.</li>\n",
    "  <li>The format of data gets changed making it difficult to read by editors.</li>\n",
    "</ol> "
   ]
  },
  {
   "cell_type": "markdown",
   "id": "a5a1d7ec",
   "metadata": {},
   "source": [
    "### Import Zip Module"
   ]
  },
  {
   "cell_type": "code",
   "execution_count": 1,
   "id": "a2480206",
   "metadata": {},
   "outputs": [],
   "source": [
    "from zipfile import *"
   ]
  },
  {
   "cell_type": "markdown",
   "id": "26b139be",
   "metadata": {},
   "source": [
    "### Create a Zip file"
   ]
  },
  {
   "cell_type": "code",
   "execution_count": 2,
   "id": "d206633b",
   "metadata": {},
   "outputs": [],
   "source": [
    "with ZipFile('compress.zip', mode='w', compression=ZIP_DEFLATED) as zip_file_object:\n",
    "    zip_file_object.write('books.csv')"
   ]
  },
  {
   "cell_type": "markdown",
   "id": "feb3ed1f",
   "metadata": {},
   "source": [
    "### Create a Zip file with compression"
   ]
  },
  {
   "cell_type": "code",
   "execution_count": 3,
   "id": "8939405d",
   "metadata": {},
   "outputs": [],
   "source": [
    "with ZipFile('compress.zip', mode='w', compression=ZIP_DEFLATED, compresslevel=9) as zip_file_object:\n",
    "    zip_file_object.write('books.csv')"
   ]
  },
  {
   "cell_type": "markdown",
   "id": "c29a5b3c",
   "metadata": {},
   "source": [
    "### Create Zip file in a different location"
   ]
  },
  {
   "cell_type": "code",
   "execution_count": 10,
   "id": "4cf46b5b",
   "metadata": {},
   "outputs": [],
   "source": [
    "path = r'C:\\Users\\juelb\\Desktop\\compress.zip'\n",
    "\n",
    "with ZipFile(path, mode='w', compression=ZIP_DEFLATED, compresslevel=9) as zip_file_object:\n",
    "    zip_file_object.write('books.csv')"
   ]
  },
  {
   "cell_type": "markdown",
   "id": "71f0ad8b",
   "metadata": {},
   "source": [
    "### Create a Zip file from files in a different location"
   ]
  },
  {
   "cell_type": "code",
   "execution_count": 12,
   "id": "0dd54fd5",
   "metadata": {},
   "outputs": [],
   "source": [
    "path = r'compress.zip'\n",
    "\n",
    "with ZipFile(path, mode='w', compression=ZIP_DEFLATED, compresslevel=9) as zip_file_object:\n",
    "    zip_file_object.write(r'C:\\Users\\juelb\\Desktop\\books.csv')"
   ]
  },
  {
   "cell_type": "markdown",
   "id": "eb73c7af",
   "metadata": {},
   "source": [
    "### Create a Zip file in different location from files in a different location"
   ]
  },
  {
   "cell_type": "code",
   "execution_count": 13,
   "id": "5876e01d",
   "metadata": {},
   "outputs": [],
   "source": [
    "path = r'C:\\Users\\juelb\\Desktop\\compress.zip'\n",
    "\n",
    "with ZipFile(path, mode='w', compression=ZIP_DEFLATED, compresslevel=9) as zip_file_object:\n",
    "    zip_file_object.write(r'C:\\Users\\juelb\\Desktop\\books.csv')"
   ]
  },
  {
   "cell_type": "markdown",
   "id": "234fa179",
   "metadata": {},
   "source": [
    "### Create a Zip file with multiple files"
   ]
  },
  {
   "cell_type": "code",
   "execution_count": 18,
   "id": "be57f08d",
   "metadata": {},
   "outputs": [],
   "source": [
    "with ZipFile('compress.zip', mode='w', compression=ZIP_DEFLATED, compresslevel=9) as zip_file_object:\n",
    "    zip_file_object.write('Data/books.csv')\n",
    "    zip_file_object.write('Data/image.jpg')"
   ]
  },
  {
   "cell_type": "code",
   "execution_count": null,
   "id": "6aca32bb",
   "metadata": {},
   "outputs": [],
   "source": [
    "l = os.listdir('data')\n",
    "\n",
    "with ZipFile('compress.zip', mode='w', compression=ZIP_DEFLATED) as zip_file_object:\n",
    "    \n",
    "    for i in l:\n",
    "        zip_file_object.write(f'data\\{i}')\n",
    "    "
   ]
  },
  {
   "cell_type": "markdown",
   "id": "47f1ec20",
   "metadata": {},
   "source": [
    "### View Files inside a Zip file"
   ]
  },
  {
   "cell_type": "markdown",
   "id": "e4960a9b",
   "metadata": {},
   "source": [
    "#### Method 1"
   ]
  },
  {
   "cell_type": "code",
   "execution_count": 37,
   "id": "338e755f",
   "metadata": {},
   "outputs": [
    {
     "name": "stdout",
     "output_type": "stream",
     "text": [
      "[<ZipInfo filename='Data/books.csv' compress_type=deflate filemode='-rw-rw-rw-' file_size=1558968 compress_size=615528>, <ZipInfo filename='Data/image.jpg' compress_type=deflate filemode='-rw-rw-rw-' file_size=3115809 compress_size=3113583>]\n",
      "Data/books.csv\n",
      "Data/image.jpg\n"
     ]
    }
   ],
   "source": [
    "with ZipFile('compress.zip', mode='r') as zip_file_object:\n",
    "    out = zip_file_object.filelist\n",
    "    \n",
    "    print(out)  \n",
    "    for i in out:\n",
    "        print(i.filename)"
   ]
  },
  {
   "cell_type": "markdown",
   "id": "29d1e5bc",
   "metadata": {},
   "source": [
    "#### Method 2"
   ]
  },
  {
   "cell_type": "code",
   "execution_count": 38,
   "id": "5b0b1aa4",
   "metadata": {},
   "outputs": [
    {
     "name": "stdout",
     "output_type": "stream",
     "text": [
      "File Name                                             Modified             Size\n",
      "Data/books.csv                                 2022-12-09 11:31:12      1558968\n",
      "Data/image.jpg                                 2022-03-18 06:18:46      3115809\n"
     ]
    }
   ],
   "source": [
    "with ZipFile('compress.zip', mode='r') as zip_file_object:\n",
    "    zip_file_object.printdir()"
   ]
  },
  {
   "cell_type": "markdown",
   "id": "7e590c22",
   "metadata": {},
   "source": [
    "### Extract single file from Zip file"
   ]
  },
  {
   "cell_type": "code",
   "execution_count": 47,
   "id": "be4e3036",
   "metadata": {},
   "outputs": [],
   "source": [
    "with ZipFile('compress.zip', mode='r') as zip_file_object:\n",
    "    zip_file_object.extract('Data/books.csv')"
   ]
  },
  {
   "cell_type": "markdown",
   "id": "e3bffa75",
   "metadata": {},
   "source": [
    "### Extract all file from Zip file in current working directory"
   ]
  },
  {
   "cell_type": "code",
   "execution_count": 48,
   "id": "220b84c5",
   "metadata": {},
   "outputs": [],
   "source": [
    "with ZipFile('compress.zip', mode='r') as zip_file_object:\n",
    "    zip_file_object.extractall(path='new')"
   ]
  },
  {
   "cell_type": "markdown",
   "id": "5cd364d4",
   "metadata": {},
   "source": [
    "### Extract all file from Zip file to a different directory"
   ]
  },
  {
   "cell_type": "code",
   "execution_count": null,
   "id": "54c9ad4a",
   "metadata": {},
   "outputs": [],
   "source": [
    "with ZipFile('compress.zip', mode='r') as zip_file_object:\n",
    "    zip_file_object.extractall(path='new')"
   ]
  }
 ],
 "metadata": {
  "kernelspec": {
   "display_name": "Python 3 (ipykernel)",
   "language": "python",
   "name": "python3"
  },
  "language_info": {
   "codemirror_mode": {
    "name": "ipython",
    "version": 3
   },
   "file_extension": ".py",
   "mimetype": "text/x-python",
   "name": "python",
   "nbconvert_exporter": "python",
   "pygments_lexer": "ipython3",
   "version": "3.9.13"
  }
 },
 "nbformat": 4,
 "nbformat_minor": 5
}
