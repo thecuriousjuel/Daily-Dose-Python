{
 "cells": [
  {
   "cell_type": "markdown",
   "id": "5b0c4e82",
   "metadata": {},
   "source": [
    "# Debugging with Print"
   ]
  },
  {
   "cell_type": "raw",
   "id": "010e7ec5",
   "metadata": {},
   "source": [
    "1. Print\n",
    "2. Raise Exception\n",
    "3. Assertions\n",
    "4. Loggers\n",
    "5. Log4j\n",
    "6. ....."
   ]
  },
  {
   "cell_type": "markdown",
   "id": "21f6dbff",
   "metadata": {},
   "source": [
    "### Example 1"
   ]
  },
  {
   "cell_type": "code",
   "execution_count": 1,
   "id": "fda2cbfb",
   "metadata": {},
   "outputs": [
    {
     "name": "stdout",
     "output_type": "stream",
     "text": [
      "Height is not valid. Height=2\n"
     ]
    }
   ],
   "source": [
    "height = 2\n",
    "\n",
    "if height < 3:\n",
    "    print(f'Height is not valid. Height={height}')\n",
    "else:\n",
    "    height = height * 2\n",
    "    print(height)"
   ]
  },
  {
   "cell_type": "markdown",
   "id": "0c5f65ab",
   "metadata": {},
   "source": [
    "### Example 2"
   ]
  },
  {
   "cell_type": "code",
   "execution_count": 2,
   "id": "9d97fadb",
   "metadata": {},
   "outputs": [
    {
     "name": "stdout",
     "output_type": "stream",
     "text": [
      "Enter a value -> 5\n",
      "Enter another value -> 3\n",
      "<class 'str'>\n"
     ]
    }
   ],
   "source": [
    "value_1 = input('Enter a value -> ')\n",
    "value_2 = input('Enter another value -> ')\n",
    "\n",
    "total = value_1 + value_2\n",
    "print(type(total))"
   ]
  },
  {
   "cell_type": "markdown",
   "id": "d41d872b",
   "metadata": {},
   "source": [
    "### Example 3"
   ]
  },
  {
   "cell_type": "raw",
   "id": "eb083eea",
   "metadata": {},
   "source": [
    "factorial of a num \n",
    "\n",
    "fact(5) = 1 x 2 x 3 x 4 x 5"
   ]
  },
  {
   "cell_type": "code",
   "execution_count": 3,
   "id": "b126589f",
   "metadata": {},
   "outputs": [
    {
     "data": {
      "text/plain": [
       "120"
      ]
     },
     "execution_count": 3,
     "metadata": {},
     "output_type": "execute_result"
    }
   ],
   "source": [
    "1 * 2 * 3 * 4 * 5"
   ]
  },
  {
   "cell_type": "code",
   "execution_count": 4,
   "id": "1591423a",
   "metadata": {},
   "outputs": [],
   "source": [
    "def factorial(num):\n",
    "    f = 1\n",
    "    for i in range(1, num+1):\n",
    "        f = f * i\n",
    "#         print(f'i={i}, f={f}')\n",
    "    \n",
    "    return f"
   ]
  },
  {
   "cell_type": "code",
   "execution_count": 5,
   "id": "0f75ed62",
   "metadata": {},
   "outputs": [
    {
     "name": "stdout",
     "output_type": "stream",
     "text": [
      "The factorial of 5 is 120\n"
     ]
    }
   ],
   "source": [
    "n = 5\n",
    "\n",
    "print(f'The factorial of {n} is {factorial(n)}')"
   ]
  },
  {
   "cell_type": "markdown",
   "id": "558e3dca",
   "metadata": {},
   "source": [
    "### Example 4"
   ]
  },
  {
   "cell_type": "code",
   "execution_count": 6,
   "id": "1fb18569",
   "metadata": {},
   "outputs": [
    {
     "name": "stdout",
     "output_type": "stream",
     "text": [
      "Enter a number : 6\n",
      "Enter a another number : 9\n",
      "Before\n",
      "<class 'str'> <class 'str'>\n",
      "After\n",
      "<class 'int'> <class 'int'>\n",
      "The sum of the number is :  15\n"
     ]
    }
   ],
   "source": [
    "n1 = input('Enter a number : ')\n",
    "n2 = input('Enter a another number : ')\n",
    "\n",
    "print('Before')\n",
    "print(type(n1), type(n2))\n",
    "\n",
    "n1 = int(n1)\n",
    "n2 = int(n2)\n",
    "\n",
    "print('After')\n",
    "print(type(n1), type(n2))\n",
    "\n",
    "print('The sum of the number is : ', n1+n2)"
   ]
  },
  {
   "cell_type": "code",
   "execution_count": 7,
   "id": "2b438fa0",
   "metadata": {},
   "outputs": [
    {
     "data": {
      "text/plain": [
       "'27'"
      ]
     },
     "execution_count": 7,
     "metadata": {},
     "output_type": "execute_result"
    }
   ],
   "source": [
    "'2' + '7'"
   ]
  },
  {
   "cell_type": "code",
   "execution_count": 8,
   "id": "31dae249",
   "metadata": {},
   "outputs": [
    {
     "data": {
      "text/plain": [
       "9"
      ]
     },
     "execution_count": 8,
     "metadata": {},
     "output_type": "execute_result"
    }
   ],
   "source": [
    "2 + 7"
   ]
  },
  {
   "cell_type": "markdown",
   "id": "75cf1443",
   "metadata": {},
   "source": [
    "### Example 5"
   ]
  },
  {
   "cell_type": "code",
   "execution_count": 9,
   "id": "9cd5e4f9",
   "metadata": {},
   "outputs": [],
   "source": [
    "from datetime import datetime\n",
    "import time"
   ]
  },
  {
   "cell_type": "code",
   "execution_count": 10,
   "id": "27b22b77",
   "metadata": {},
   "outputs": [],
   "source": [
    "def debug(msg):\n",
    "    current_time = datetime.now()\n",
    "    current_time = current_time.strftime('%H:%M:%S')\n",
    "    \n",
    "    print(f'{current_time} - Message : {msg}')\n",
    "\n"
   ]
  },
  {
   "cell_type": "code",
   "execution_count": 11,
   "id": "cad4c3d9",
   "metadata": {},
   "outputs": [],
   "source": [
    "def add(n1, n2):\n",
    "    debug('Add function started')\n",
    "    time.sleep(5)\n",
    "    ans = n1 + n2\n",
    "    debug(ans)\n",
    "    debug('Add function ended')\n",
    "    return ans\n",
    "\n",
    "\n",
    "def sub(n1, n2):\n",
    "    debug('Subract function started')\n",
    "    time.sleep(4)\n",
    "    ans = n1 - n2\n",
    "    debug('Subract function ended')\n",
    "\n",
    "    \n",
    "def mul(n1, n2):\n",
    "    debug('Multiplication function started')\n",
    "    time.sleep(6)\n",
    "    ans = n1 * n2\n",
    "    debug('Multiplication function ended')\n",
    "\n",
    "    \n",
    "def div(n1, n2):\n",
    "    debug('Division function started')\n",
    "    time.sleep(2)\n",
    "    ans = n1 / n2\n",
    "    debug('Division function ended')\n",
    "\n",
    "    \n",
    "def mod(n1, n2):\n",
    "    debug('Modulus function started')\n",
    "    time.sleep(7)\n",
    "    ans = n1 % n2\n",
    "    debug('Modulus function ended')\n",
    "    "
   ]
  },
  {
   "cell_type": "code",
   "execution_count": 12,
   "id": "9c822370",
   "metadata": {},
   "outputs": [],
   "source": [
    "num1 = 9\n",
    "num2 = 0"
   ]
  },
  {
   "cell_type": "code",
   "execution_count": 13,
   "id": "13b9d4e5",
   "metadata": {},
   "outputs": [
    {
     "name": "stdout",
     "output_type": "stream",
     "text": [
      "12:26:49 - Message : Add function started\n",
      "12:26:54 - Message : 9\n",
      "12:26:54 - Message : Add function ended\n"
     ]
    },
    {
     "data": {
      "text/plain": [
       "9"
      ]
     },
     "execution_count": 13,
     "metadata": {},
     "output_type": "execute_result"
    }
   ],
   "source": [
    "add(num1, num2)"
   ]
  },
  {
   "cell_type": "code",
   "execution_count": 14,
   "id": "e7b8710d",
   "metadata": {},
   "outputs": [
    {
     "name": "stdout",
     "output_type": "stream",
     "text": [
      "12:26:54 - Message : Subract function started\n",
      "12:26:58 - Message : Subract function ended\n"
     ]
    }
   ],
   "source": [
    "sub(num1, num2)"
   ]
  },
  {
   "cell_type": "code",
   "execution_count": 15,
   "id": "3e84d503",
   "metadata": {},
   "outputs": [
    {
     "name": "stdout",
     "output_type": "stream",
     "text": [
      "12:26:58 - Message : Multiplication function started\n",
      "12:27:04 - Message : Multiplication function ended\n"
     ]
    }
   ],
   "source": [
    "mul(num1, num2)"
   ]
  },
  {
   "cell_type": "code",
   "execution_count": 16,
   "id": "ec524fe6",
   "metadata": {},
   "outputs": [
    {
     "name": "stdout",
     "output_type": "stream",
     "text": [
      "12:27:04 - Message : Division function started\n"
     ]
    },
    {
     "ename": "ZeroDivisionError",
     "evalue": "division by zero",
     "output_type": "error",
     "traceback": [
      "\u001b[1;31m---------------------------------------------------------------------------\u001b[0m",
      "\u001b[1;31mZeroDivisionError\u001b[0m                         Traceback (most recent call last)",
      "Input \u001b[1;32mIn [16]\u001b[0m, in \u001b[0;36m<cell line: 1>\u001b[1;34m()\u001b[0m\n\u001b[1;32m----> 1\u001b[0m \u001b[43mdiv\u001b[49m\u001b[43m(\u001b[49m\u001b[43mnum1\u001b[49m\u001b[43m,\u001b[49m\u001b[43m \u001b[49m\u001b[43mnum2\u001b[49m\u001b[43m)\u001b[49m\n",
      "Input \u001b[1;32mIn [11]\u001b[0m, in \u001b[0;36mdiv\u001b[1;34m(n1, n2)\u001b[0m\n\u001b[0;32m     25\u001b[0m debug(\u001b[38;5;124m'\u001b[39m\u001b[38;5;124mDivision function started\u001b[39m\u001b[38;5;124m'\u001b[39m)\n\u001b[0;32m     26\u001b[0m time\u001b[38;5;241m.\u001b[39msleep(\u001b[38;5;241m2\u001b[39m)\n\u001b[1;32m---> 27\u001b[0m ans \u001b[38;5;241m=\u001b[39m \u001b[43mn1\u001b[49m\u001b[43m \u001b[49m\u001b[38;5;241;43m/\u001b[39;49m\u001b[43m \u001b[49m\u001b[43mn2\u001b[49m\n\u001b[0;32m     28\u001b[0m debug(\u001b[38;5;124m'\u001b[39m\u001b[38;5;124mDivision function ended\u001b[39m\u001b[38;5;124m'\u001b[39m)\n",
      "\u001b[1;31mZeroDivisionError\u001b[0m: division by zero"
     ]
    }
   ],
   "source": [
    "div(num1, num2)"
   ]
  },
  {
   "cell_type": "code",
   "execution_count": null,
   "id": "e211e5e9",
   "metadata": {},
   "outputs": [],
   "source": []
  },
  {
   "cell_type": "markdown",
   "id": "2022c85d",
   "metadata": {},
   "source": [
    "### Example 6"
   ]
  },
  {
   "cell_type": "code",
   "execution_count": 17,
   "id": "5242493e",
   "metadata": {},
   "outputs": [],
   "source": [
    "fruits = ['Pineapple', 'Oranges', 'Grapes', 'Guava', 'Apples']"
   ]
  },
  {
   "cell_type": "code",
   "execution_count": 18,
   "id": "d52fecda",
   "metadata": {},
   "outputs": [
    {
     "name": "stdout",
     "output_type": "stream",
     "text": [
      "Before Sorting : ['Pineapple', 'Oranges', 'Grapes', 'Guava', 'Apples']\n",
      "--------------------------------------------------\n",
      "['Pineapple', 'Oranges', 'Grapes', 'Guava', 'Apples'] i=0 j=1 Pineapple > Oranges = False\n",
      "['Pineapple', 'Oranges', 'Grapes', 'Guava', 'Apples'] i=0 j=2 Pineapple > Grapes = False\n",
      "['Pineapple', 'Oranges', 'Grapes', 'Guava', 'Apples'] i=0 j=3 Pineapple > Guava = False\n",
      "['Pineapple', 'Oranges', 'Grapes', 'Guava', 'Apples'] i=0 j=4 Pineapple > Apples = False\n",
      "['Pineapple', 'Oranges', 'Grapes', 'Guava', 'Apples'] i=1 j=2 Oranges > Grapes = False\n",
      "['Pineapple', 'Oranges', 'Grapes', 'Guava', 'Apples'] i=1 j=3 Oranges > Guava = False\n",
      "['Pineapple', 'Oranges', 'Grapes', 'Guava', 'Apples'] i=1 j=4 Oranges > Apples = False\n",
      "['Pineapple', 'Oranges', 'Grapes', 'Guava', 'Apples'] i=2 j=3 Grapes > Guava = True\n",
      "--------------------------------------------------\n",
      "Swapping : Guava with Grapes\n",
      "--------------------------------------------------\n",
      "['Pineapple', 'Oranges', 'Guava', 'Grapes', 'Apples'] i=2 j=4 Guava > Apples = False\n",
      "['Pineapple', 'Oranges', 'Guava', 'Grapes', 'Apples'] i=3 j=4 Grapes > Apples = False\n",
      "After Sorting : ['Pineapple', 'Oranges', 'Guava', 'Grapes', 'Apples']\n"
     ]
    }
   ],
   "source": [
    "# sort in descending order\n",
    "\n",
    "fruits = ['Pineapple', 'Oranges', 'Grapes', 'Guava', 'Apples']\n",
    "\n",
    "print(f'Before Sorting : {fruits}')\n",
    "print('-'*50)\n",
    "\n",
    "\n",
    "l = len(fruits)\n",
    "\n",
    "for i in range(l):\n",
    "    for j in range(i+1, l):\n",
    "        \n",
    "        print(fruits, f'i={i} j={j} {fruits[i]} > {fruits[j]} = {fruits[i] < fruits[j]}')\n",
    "        \n",
    "        if fruits[i] < fruits[j]:\n",
    "            fruits[i], fruits[j] = fruits[j], fruits[i]\n",
    "            \n",
    "            print('-'*50)\n",
    "            print(f'Swapping : {fruits[i]} with {fruits[j]}')\n",
    "            print('-'*50)\n",
    "        \n",
    "        \n",
    "print(f'After Sorting : {fruits}')"
   ]
  },
  {
   "cell_type": "code",
   "execution_count": null,
   "id": "58afbe0c",
   "metadata": {},
   "outputs": [],
   "source": []
  },
  {
   "cell_type": "markdown",
   "id": "b2b333e9",
   "metadata": {},
   "source": [
    "# Raising Exceptions"
   ]
  },
  {
   "cell_type": "markdown",
   "id": "0f5e363a",
   "metadata": {},
   "source": [
    "In general, an error is a broad term that refers to any kind of mistake, fault, or problem that occurs during the execution of a program. An error can be caused by a variety of factors, such as incorrect input data, software bugs, hardware failures, or network issues.\n",
    "\n",
    "In programming, the term \"exception\" is used to refer to a specific type of error that occurs during the execution of a program. An exception is a signal that something unusual or unexpected has happened, and that the normal flow of the program cannot continue.\n",
    "\n",
    "In Python, an exception is an object that represents an error that has occurred during the execution of a program. When an exception is raised, Python stops the normal execution of the program and looks for an exception handler that can handle the exception. If no handler is found, the program terminates and displays an error message.\n",
    "\n",
    "In summary, errors are a general term that refer to any kind of mistake or problem that can occur during program execution, while exceptions are a specific type of error that are signaled by the program and can be handled by exception handlers."
   ]
  },
  {
   "cell_type": "markdown",
   "id": "8f1186bf",
   "metadata": {},
   "source": [
    "Here are some of the different types of exceptions that can be raised in Python:\n",
    "\n",
    "<ol>\n",
    "<li><strong>AssertionError:</strong> Raised when an assertion fails.</li>\n",
    "<li><strong>AttributeError:</strong> Raised when an object has no attribute.</li>\n",
    "<li><strong>EOFError:</strong> Raised when the end of a file is reached unexpectedly.</li>\n",
    "<li><strong>FileNotFoundError:</strong> Raised when a file or directory cannot be found.</li>\n",
    "<li><strong>ImportError:</strong> Raised when an imported module cannot be found or loaded.</li>\n",
    "<li><strong>IndexError:</strong> Raised when trying to access an index that is out of range.</li>\n",
    "<li><strong>KeyError:</strong> Raised when trying to access a non-existent dictionary key.</li>\n",
    "<li><strong>MemoryError:</strong> Raised when the program runs out of memory.</li>\n",
    "<li><strong>NameError:</strong> Raised when an identifier is not found.</li>\n",
    "<li><strong>OverflowError:</strong> Raised when a calculation exceeds the maximum size of a numeric type.</li>\n",
    "<li><strong>TypeError:</strong> Raised when an operation or function is applied to an object of inappropriate type.</li>\n",
    "<li><strong>ValueError:</strong> Raised when an operation or function receives an argument of the correct type, but an inappropriate value.</li>\n",
    "<li><strong>ZeroDivisionError:</strong> Raised when trying to divide by zero.</li>\n",
    "</ol>\n",
    "\n",
    "This is not an exhaustive list, and there are many other types of exceptions that can be raised depending on the specific situation."
   ]
  },
  {
   "cell_type": "code",
   "execution_count": 19,
   "id": "9e6c1442",
   "metadata": {},
   "outputs": [
    {
     "name": "stdout",
     "output_type": "stream",
     "text": [
      "Invalid value\n",
      "5\n"
     ]
    }
   ],
   "source": [
    "height_of_person = -5\n",
    "\n",
    "if height_of_person < 0:\n",
    "    print('Invalid value')\n",
    "\n",
    "\n",
    "height_plus_10 = height_of_person + 10\n",
    "\n",
    "print(height_plus_10)"
   ]
  },
  {
   "cell_type": "code",
   "execution_count": 20,
   "id": "d0800090",
   "metadata": {},
   "outputs": [
    {
     "ename": "Exception",
     "evalue": "Invalid value",
     "output_type": "error",
     "traceback": [
      "\u001b[1;31m---------------------------------------------------------------------------\u001b[0m",
      "\u001b[1;31mException\u001b[0m                                 Traceback (most recent call last)",
      "Input \u001b[1;32mIn [20]\u001b[0m, in \u001b[0;36m<cell line: 3>\u001b[1;34m()\u001b[0m\n\u001b[0;32m      1\u001b[0m height_of_person \u001b[38;5;241m=\u001b[39m \u001b[38;5;241m-\u001b[39m\u001b[38;5;241m5\u001b[39m\n\u001b[0;32m      3\u001b[0m \u001b[38;5;28;01mif\u001b[39;00m height_of_person \u001b[38;5;241m<\u001b[39m \u001b[38;5;241m0\u001b[39m:\n\u001b[1;32m----> 4\u001b[0m     \u001b[38;5;28;01mraise\u001b[39;00m \u001b[38;5;167;01mException\u001b[39;00m(\u001b[38;5;124m'\u001b[39m\u001b[38;5;124mInvalid value\u001b[39m\u001b[38;5;124m'\u001b[39m)\n\u001b[0;32m      7\u001b[0m height_plus_10 \u001b[38;5;241m=\u001b[39m height_of_person \u001b[38;5;241m+\u001b[39m \u001b[38;5;241m10\u001b[39m\n\u001b[0;32m      9\u001b[0m \u001b[38;5;28mprint\u001b[39m(height_plus_10)\n",
      "\u001b[1;31mException\u001b[0m: Invalid value"
     ]
    }
   ],
   "source": [
    "height_of_person = -5\n",
    "\n",
    "if height_of_person < 0:\n",
    "    raise Exception('Invalid value')\n",
    "\n",
    "\n",
    "height_plus_10 = height_of_person + 10\n",
    "\n",
    "print(height_plus_10)"
   ]
  },
  {
   "cell_type": "code",
   "execution_count": 21,
   "id": "db2d6e5f",
   "metadata": {},
   "outputs": [
    {
     "ename": "HeightNotValid",
     "evalue": "Found height value < 0. Got height : -7",
     "output_type": "error",
     "traceback": [
      "\u001b[1;31m---------------------------------------------------------------------------\u001b[0m",
      "\u001b[1;31mHeightNotValid\u001b[0m                            Traceback (most recent call last)",
      "Input \u001b[1;32mIn [21]\u001b[0m, in \u001b[0;36m<cell line: 12>\u001b[1;34m()\u001b[0m\n\u001b[0;32m      9\u001b[0m     height_plus_10 \u001b[38;5;241m=\u001b[39m height_of_person \u001b[38;5;241m+\u001b[39m \u001b[38;5;241m10\u001b[39m\n\u001b[0;32m     10\u001b[0m     \u001b[38;5;28mprint\u001b[39m(height_plus_10)\n\u001b[1;32m---> 12\u001b[0m \u001b[43mheight_validation\u001b[49m\u001b[43m(\u001b[49m\u001b[38;5;241;43m-\u001b[39;49m\u001b[38;5;241;43m7\u001b[39;49m\u001b[43m)\u001b[49m\n",
      "Input \u001b[1;32mIn [21]\u001b[0m, in \u001b[0;36mheight_validation\u001b[1;34m(height_of_person)\u001b[0m\n\u001b[0;32m      4\u001b[0m \u001b[38;5;28;01mdef\u001b[39;00m \u001b[38;5;21mheight_validation\u001b[39m(height_of_person):\n\u001b[0;32m      6\u001b[0m     \u001b[38;5;28;01mif\u001b[39;00m height_of_person \u001b[38;5;241m<\u001b[39m \u001b[38;5;241m0\u001b[39m:\n\u001b[1;32m----> 7\u001b[0m         \u001b[38;5;28;01mraise\u001b[39;00m HeightNotValid(\u001b[38;5;124mf\u001b[39m\u001b[38;5;124m'\u001b[39m\u001b[38;5;124mFound height value < 0. Got height : \u001b[39m\u001b[38;5;132;01m{\u001b[39;00mheight_of_person\u001b[38;5;132;01m}\u001b[39;00m\u001b[38;5;124m'\u001b[39m)\n\u001b[0;32m      9\u001b[0m     height_plus_10 \u001b[38;5;241m=\u001b[39m height_of_person \u001b[38;5;241m+\u001b[39m \u001b[38;5;241m10\u001b[39m\n\u001b[0;32m     10\u001b[0m     \u001b[38;5;28mprint\u001b[39m(height_plus_10)\n",
      "\u001b[1;31mHeightNotValid\u001b[0m: Found height value < 0. Got height : -7"
     ]
    }
   ],
   "source": [
    "class HeightNotValid(Exception):\n",
    "    pass\n",
    "\n",
    "def height_validation(height_of_person):\n",
    "\n",
    "    if height_of_person < 0:\n",
    "        raise HeightNotValid(f'Found height value < 0. Got height : {height_of_person}')\n",
    "\n",
    "    height_plus_10 = height_of_person + 10\n",
    "    print(height_plus_10)\n",
    "    \n",
    "height_validation(-7) "
   ]
  },
  {
   "cell_type": "code",
   "execution_count": null,
   "id": "84d990b5",
   "metadata": {},
   "outputs": [],
   "source": []
  },
  {
   "cell_type": "code",
   "execution_count": null,
   "id": "d3cfce64",
   "metadata": {},
   "outputs": [],
   "source": []
  },
  {
   "cell_type": "code",
   "execution_count": null,
   "id": "1ff0591f",
   "metadata": {},
   "outputs": [],
   "source": []
  },
  {
   "cell_type": "code",
   "execution_count": null,
   "id": "70d175ed",
   "metadata": {},
   "outputs": [],
   "source": []
  },
  {
   "cell_type": "code",
   "execution_count": null,
   "id": "9e52f1db",
   "metadata": {},
   "outputs": [],
   "source": []
  },
  {
   "cell_type": "code",
   "execution_count": null,
   "id": "90cedf8a",
   "metadata": {},
   "outputs": [],
   "source": []
  },
  {
   "cell_type": "code",
   "execution_count": null,
   "id": "0a94a46c",
   "metadata": {},
   "outputs": [],
   "source": []
  },
  {
   "cell_type": "code",
   "execution_count": null,
   "id": "04e690cb",
   "metadata": {},
   "outputs": [],
   "source": []
  },
  {
   "cell_type": "code",
   "execution_count": null,
   "id": "f12f50bf",
   "metadata": {},
   "outputs": [],
   "source": []
  },
  {
   "cell_type": "code",
   "execution_count": null,
   "id": "fa6f1b82",
   "metadata": {},
   "outputs": [],
   "source": []
  },
  {
   "cell_type": "code",
   "execution_count": null,
   "id": "fa20fa44",
   "metadata": {},
   "outputs": [],
   "source": []
  },
  {
   "cell_type": "code",
   "execution_count": null,
   "id": "2f4a4f20",
   "metadata": {},
   "outputs": [],
   "source": []
  }
 ],
 "metadata": {
  "kernelspec": {
   "display_name": "Python 3 (ipykernel)",
   "language": "python",
   "name": "python3"
  },
  "language_info": {
   "codemirror_mode": {
    "name": "ipython",
    "version": 3
   },
   "file_extension": ".py",
   "mimetype": "text/x-python",
   "name": "python",
   "nbconvert_exporter": "python",
   "pygments_lexer": "ipython3",
   "version": "3.9.12"
  }
 },
 "nbformat": 4,
 "nbformat_minor": 5
}
