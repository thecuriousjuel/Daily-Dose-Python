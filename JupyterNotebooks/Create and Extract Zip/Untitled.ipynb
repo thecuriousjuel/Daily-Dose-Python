{
 "cells": [
  {
   "cell_type": "code",
   "execution_count": 1,
   "id": "8d97d317",
   "metadata": {},
   "outputs": [],
   "source": [
    "from zipfile import *"
   ]
  },
  {
   "cell_type": "code",
   "execution_count": 2,
   "id": "1f529050",
   "metadata": {},
   "outputs": [],
   "source": [
    "with ZipFile('compress.zip', mode='r') as zip_file_object:\n",
    "    zip_file_object.extractall()"
   ]
  },
  {
   "cell_type": "code",
   "execution_count": 9,
   "id": "2853b69d",
   "metadata": {},
   "outputs": [],
   "source": [
    "with ZipFile('compress.zip', mode='r') as zip_file_object:\n",
    "    file_list = zip_file_object.namelist()\n",
    "#     print(file_list)\n",
    "    \n",
    "    \n",
    "    for line in file_list:\n",
    "        if line[-3:] == 'csv':\n",
    "            zip_file_object.extract(line)"
   ]
  },
  {
   "cell_type": "code",
   "execution_count": 24,
   "id": "ed3e65d0",
   "metadata": {},
   "outputs": [
    {
     "name": "stdout",
     "output_type": "stream",
     "text": [
      "[<ZipInfo filename='data/books - Copy (2) - Copy.csv' compress_type=deflate filemode='-rw-rw-rw-' file_size=1558968 compress_size=617476>, <ZipInfo filename='data/books - Copy (2).csv' compress_type=deflate filemode='-rw-rw-rw-' file_size=1558968 compress_size=617476>, <ZipInfo filename='data/books - Copy (3) - Copy.csv' compress_type=deflate filemode='-rw-rw-rw-' file_size=1558968 compress_size=617476>, <ZipInfo filename='data/books - Copy (3).csv' compress_type=deflate filemode='-rw-rw-rw-' file_size=1558968 compress_size=617476>, <ZipInfo filename='data/books - Copy (4) - Copy.csv' compress_type=deflate filemode='-rw-rw-rw-' file_size=1558968 compress_size=617476>, <ZipInfo filename='data/books - Copy (4).csv' compress_type=deflate filemode='-rw-rw-rw-' file_size=1558968 compress_size=617476>, <ZipInfo filename='data/books - Copy (5) - Copy.csv' compress_type=deflate filemode='-rw-rw-rw-' file_size=1558968 compress_size=617476>, <ZipInfo filename='data/books - Copy (5).csv' compress_type=deflate filemode='-rw-rw-rw-' file_size=1558968 compress_size=617476>, <ZipInfo filename='data/books - Copy (6) - Copy.csv' compress_type=deflate filemode='-rw-rw-rw-' file_size=1558968 compress_size=617476>, <ZipInfo filename='data/books - Copy (6).csv' compress_type=deflate filemode='-rw-rw-rw-' file_size=1558968 compress_size=617476>, <ZipInfo filename='data/books - Copy (7) - Copy.csv' compress_type=deflate filemode='-rw-rw-rw-' file_size=1558968 compress_size=617476>, <ZipInfo filename='data/books - Copy - Copy (2).csv' compress_type=deflate filemode='-rw-rw-rw-' file_size=1558968 compress_size=617476>, <ZipInfo filename='data/books - Copy - Copy.csv' compress_type=deflate filemode='-rw-rw-rw-' file_size=1558968 compress_size=617476>, <ZipInfo filename='data/books - Copy.csv' compress_type=deflate filemode='-rw-rw-rw-' file_size=1558968 compress_size=617476>, <ZipInfo filename='data/books.csv' compress_type=deflate filemode='-rw-rw-rw-' file_size=1558968 compress_size=617476>, <ZipInfo filename='data/image - Copy (2) - Copy.jpg' compress_type=deflate filemode='-rw-rw-rw-' file_size=3115809 compress_size=3113584>, <ZipInfo filename='data/image - Copy (2).jpg' compress_type=deflate filemode='-rw-rw-rw-' file_size=3115809 compress_size=3113584>, <ZipInfo filename='data/image - Copy (3) - Copy.jpg' compress_type=deflate filemode='-rw-rw-rw-' file_size=3115809 compress_size=3113584>, <ZipInfo filename='data/image - Copy (3).jpg' compress_type=deflate filemode='-rw-rw-rw-' file_size=3115809 compress_size=3113584>, <ZipInfo filename='data/image - Copy (4) - Copy.jpg' compress_type=deflate filemode='-rw-rw-rw-' file_size=3115809 compress_size=3113584>, <ZipInfo filename='data/image - Copy (4).jpg' compress_type=deflate filemode='-rw-rw-rw-' file_size=3115809 compress_size=3113584>, <ZipInfo filename='data/image - Copy (5) - Copy.jpg' compress_type=deflate filemode='-rw-rw-rw-' file_size=3115809 compress_size=3113584>, <ZipInfo filename='data/image - Copy (5).jpg' compress_type=deflate filemode='-rw-rw-rw-' file_size=3115809 compress_size=3113584>, <ZipInfo filename='data/image - Copy (6) - Copy.jpg' compress_type=deflate filemode='-rw-rw-rw-' file_size=3115809 compress_size=3113584>, <ZipInfo filename='data/image - Copy (6).jpg' compress_type=deflate filemode='-rw-rw-rw-' file_size=3115809 compress_size=3113584>, <ZipInfo filename='data/image - Copy (7) - Copy.jpg' compress_type=deflate filemode='-rw-rw-rw-' file_size=3115809 compress_size=3113584>, <ZipInfo filename='data/image - Copy - Copy (2).jpg' compress_type=deflate filemode='-rw-rw-rw-' file_size=3115809 compress_size=3113584>, <ZipInfo filename='data/image - Copy - Copy.jpg' compress_type=deflate filemode='-rw-rw-rw-' file_size=3115809 compress_size=3113584>, <ZipInfo filename='data/image - Copy.jpg' compress_type=deflate filemode='-rw-rw-rw-' file_size=3115809 compress_size=3113584>, <ZipInfo filename='data/image.jpg' compress_type=deflate filemode='-rw-rw-rw-' file_size=3115809 compress_size=3113584>]\n"
     ]
    }
   ],
   "source": [
    "with ZipFile('compress.zip', mode='r') as zip_file_object:\n",
    "    file_list = zip_file_object.infolist()\n",
    "    print(file_list)\n",
    "    \n",
    "    for line in file_list:\n",
    "        if line.file_size < 2097152:\n",
    "            zip_file_object.extract(line.filename)\n",
    "            \n",
    "        "
   ]
  },
  {
   "cell_type": "code",
   "execution_count": null,
   "id": "cfb5c6f5",
   "metadata": {},
   "outputs": [],
   "source": []
  },
  {
   "cell_type": "code",
   "execution_count": null,
   "id": "a26c6e2a",
   "metadata": {},
   "outputs": [],
   "source": [
    "2 MB = 2 * 1024 * 1024"
   ]
  },
  {
   "cell_type": "code",
   "execution_count": 12,
   "id": "dcc5864d",
   "metadata": {},
   "outputs": [
    {
     "data": {
      "text/plain": [
       "2097152"
      ]
     },
     "execution_count": 12,
     "metadata": {},
     "output_type": "execute_result"
    }
   ],
   "source": [
    "2 * 1024 * 1024"
   ]
  },
  {
   "cell_type": "code",
   "execution_count": 23,
   "id": "cbe96bde",
   "metadata": {},
   "outputs": [
    {
     "name": "stdout",
     "output_type": "stream",
     "text": [
      "[<ZipInfo filename='data/books - Copy (2) - Copy.csv' compress_type=deflate filemode='-rw-rw-rw-' file_size=1558968 compress_size=617476>, <ZipInfo filename='data/books - Copy (2).csv' compress_type=deflate filemode='-rw-rw-rw-' file_size=1558968 compress_size=617476>, <ZipInfo filename='data/books - Copy (3) - Copy.csv' compress_type=deflate filemode='-rw-rw-rw-' file_size=1558968 compress_size=617476>, <ZipInfo filename='data/books - Copy (3).csv' compress_type=deflate filemode='-rw-rw-rw-' file_size=1558968 compress_size=617476>, <ZipInfo filename='data/books - Copy (4) - Copy.csv' compress_type=deflate filemode='-rw-rw-rw-' file_size=1558968 compress_size=617476>, <ZipInfo filename='data/books - Copy (4).csv' compress_type=deflate filemode='-rw-rw-rw-' file_size=1558968 compress_size=617476>, <ZipInfo filename='data/books - Copy (5) - Copy.csv' compress_type=deflate filemode='-rw-rw-rw-' file_size=1558968 compress_size=617476>, <ZipInfo filename='data/books - Copy (5).csv' compress_type=deflate filemode='-rw-rw-rw-' file_size=1558968 compress_size=617476>, <ZipInfo filename='data/books - Copy (6) - Copy.csv' compress_type=deflate filemode='-rw-rw-rw-' file_size=1558968 compress_size=617476>, <ZipInfo filename='data/books - Copy (6).csv' compress_type=deflate filemode='-rw-rw-rw-' file_size=1558968 compress_size=617476>, <ZipInfo filename='data/books - Copy (7) - Copy.csv' compress_type=deflate filemode='-rw-rw-rw-' file_size=1558968 compress_size=617476>, <ZipInfo filename='data/books - Copy - Copy (2).csv' compress_type=deflate filemode='-rw-rw-rw-' file_size=1558968 compress_size=617476>, <ZipInfo filename='data/books - Copy - Copy.csv' compress_type=deflate filemode='-rw-rw-rw-' file_size=1558968 compress_size=617476>, <ZipInfo filename='data/books - Copy.csv' compress_type=deflate filemode='-rw-rw-rw-' file_size=1558968 compress_size=617476>, <ZipInfo filename='data/books.csv' compress_type=deflate filemode='-rw-rw-rw-' file_size=1558968 compress_size=617476>, <ZipInfo filename='data/image - Copy (2) - Copy.jpg' compress_type=deflate filemode='-rw-rw-rw-' file_size=3115809 compress_size=3113584>, <ZipInfo filename='data/image - Copy (2).jpg' compress_type=deflate filemode='-rw-rw-rw-' file_size=3115809 compress_size=3113584>, <ZipInfo filename='data/image - Copy (3) - Copy.jpg' compress_type=deflate filemode='-rw-rw-rw-' file_size=3115809 compress_size=3113584>, <ZipInfo filename='data/image - Copy (3).jpg' compress_type=deflate filemode='-rw-rw-rw-' file_size=3115809 compress_size=3113584>, <ZipInfo filename='data/image - Copy (4) - Copy.jpg' compress_type=deflate filemode='-rw-rw-rw-' file_size=3115809 compress_size=3113584>, <ZipInfo filename='data/image - Copy (4).jpg' compress_type=deflate filemode='-rw-rw-rw-' file_size=3115809 compress_size=3113584>, <ZipInfo filename='data/image - Copy (5) - Copy.jpg' compress_type=deflate filemode='-rw-rw-rw-' file_size=3115809 compress_size=3113584>, <ZipInfo filename='data/image - Copy (5).jpg' compress_type=deflate filemode='-rw-rw-rw-' file_size=3115809 compress_size=3113584>, <ZipInfo filename='data/image - Copy (6) - Copy.jpg' compress_type=deflate filemode='-rw-rw-rw-' file_size=3115809 compress_size=3113584>, <ZipInfo filename='data/image - Copy (6).jpg' compress_type=deflate filemode='-rw-rw-rw-' file_size=3115809 compress_size=3113584>, <ZipInfo filename='data/image - Copy (7) - Copy.jpg' compress_type=deflate filemode='-rw-rw-rw-' file_size=3115809 compress_size=3113584>, <ZipInfo filename='data/image - Copy - Copy (2).jpg' compress_type=deflate filemode='-rw-rw-rw-' file_size=3115809 compress_size=3113584>, <ZipInfo filename='data/image - Copy - Copy.jpg' compress_type=deflate filemode='-rw-rw-rw-' file_size=3115809 compress_size=3113584>, <ZipInfo filename='data/image - Copy.jpg' compress_type=deflate filemode='-rw-rw-rw-' file_size=3115809 compress_size=3113584>, <ZipInfo filename='data/image.jpg' compress_type=deflate filemode='-rw-rw-rw-' file_size=3115809 compress_size=3113584>]\n"
     ]
    }
   ],
   "source": [
    "print(file_list)"
   ]
  },
  {
   "cell_type": "code",
   "execution_count": null,
   "id": "f5b46550",
   "metadata": {},
   "outputs": [],
   "source": []
  },
  {
   "cell_type": "code",
   "execution_count": null,
   "id": "e6e692af",
   "metadata": {},
   "outputs": [],
   "source": []
  },
  {
   "cell_type": "code",
   "execution_count": null,
   "id": "f32ef64e",
   "metadata": {},
   "outputs": [],
   "source": []
  },
  {
   "cell_type": "code",
   "execution_count": null,
   "id": "2e42145b",
   "metadata": {},
   "outputs": [],
   "source": []
  },
  {
   "cell_type": "code",
   "execution_count": null,
   "id": "6c707d15",
   "metadata": {},
   "outputs": [],
   "source": []
  }
 ],
 "metadata": {
  "kernelspec": {
   "display_name": "Python 3 (ipykernel)",
   "language": "python",
   "name": "python3"
  },
  "language_info": {
   "codemirror_mode": {
    "name": "ipython",
    "version": 3
   },
   "file_extension": ".py",
   "mimetype": "text/x-python",
   "name": "python",
   "nbconvert_exporter": "python",
   "pygments_lexer": "ipython3",
   "version": "3.9.13"
  }
 },
 "nbformat": 4,
 "nbformat_minor": 5
}
