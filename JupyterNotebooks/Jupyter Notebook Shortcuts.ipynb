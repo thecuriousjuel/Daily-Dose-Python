{
 "cells": [
  {
   "cell_type": "markdown",
   "id": "759f4e42",
   "metadata": {},
   "source": [
    "###### Heading"
   ]
  },
  {
   "cell_type": "code",
   "execution_count": null,
   "id": "3042c835",
   "metadata": {},
   "outputs": [],
   "source": [
    "\"Cell 1\""
   ]
  },
  {
   "cell_type": "code",
   "execution_count": 16,
   "id": "54fc23e5",
   "metadata": {},
   "outputs": [
    {
     "data": {
      "text/plain": [
       "'Cell 2'"
      ]
     },
     "execution_count": 16,
     "metadata": {},
     "output_type": "execute_result"
    }
   ],
   "source": [
    "\"Cell 2\""
   ]
  },
  {
   "cell_type": "code",
   "execution_count": null,
   "id": "28be5d6e",
   "metadata": {},
   "outputs": [],
   "source": []
  },
  {
   "cell_type": "code",
   "execution_count": null,
   "id": "cbd399e2",
   "metadata": {},
   "outputs": [],
   "source": []
  },
  {
   "cell_type": "code",
   "execution_count": 22,
   "id": "da49a154",
   "metadata": {},
   "outputs": [
    {
     "name": "stdout",
     "output_type": "stream",
     "text": [
      "Cell 3Cell 99\n"
     ]
    }
   ],
   "source": [
    "s = \"Cell 3\"\n",
    "\n",
    "s += 'Cell 99'\n",
    "\n",
    "print(s)"
   ]
  },
  {
   "cell_type": "code",
   "execution_count": null,
   "id": "423f9a5b",
   "metadata": {},
   "outputs": [],
   "source": []
  },
  {
   "cell_type": "code",
   "execution_count": null,
   "id": "a6f03d7f",
   "metadata": {},
   "outputs": [],
   "source": [
    "\"Cell 4\""
   ]
  },
  {
   "cell_type": "code",
   "execution_count": null,
   "id": "0dbcab5b",
   "metadata": {},
   "outputs": [],
   "source": [
    "\"Cell 6\""
   ]
  },
  {
   "cell_type": "markdown",
   "id": "6429dc4e",
   "metadata": {},
   "source": [
    "<strong><p>This is a paragraph</p></strong>"
   ]
  },
  {
   "cell_type": "code",
   "execution_count": null,
   "id": "8c20636d",
   "metadata": {},
   "outputs": [],
   "source": []
  },
  {
   "cell_type": "code",
   "execution_count": null,
   "id": "3f9ff43d",
   "metadata": {},
   "outputs": [],
   "source": []
  },
  {
   "cell_type": "code",
   "execution_count": 20,
   "id": "dd934418",
   "metadata": {},
   "outputs": [
    {
     "data": {
      "text/plain": [
       "'Cell last'"
      ]
     },
     "execution_count": 20,
     "metadata": {},
     "output_type": "execute_result"
    }
   ],
   "source": [
    "\"Cell last\""
   ]
  },
  {
   "cell_type": "code",
   "execution_count": null,
   "id": "dd975949",
   "metadata": {},
   "outputs": [],
   "source": [
    "\n",
    "\n",
    "\n",
    "\n"
   ]
  }
 ],
 "metadata": {
  "kernelspec": {
   "display_name": "Python 3 (ipykernel)",
   "language": "python",
   "name": "python3"
  },
  "language_info": {
   "codemirror_mode": {
    "name": "ipython",
    "version": 3
   },
   "file_extension": ".py",
   "mimetype": "text/x-python",
   "name": "python",
   "nbconvert_exporter": "python",
   "pygments_lexer": "ipython3",
   "version": "3.9.13"
  }
 },
 "nbformat": 4,
 "nbformat_minor": 5
}
