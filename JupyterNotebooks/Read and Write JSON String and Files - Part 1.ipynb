{
 "cells": [
  {
   "cell_type": "markdown",
   "id": "3a91889f",
   "metadata": {},
   "source": [
    "### Import JSON Module"
   ]
  },
  {
   "cell_type": "code",
   "execution_count": 1,
   "id": "66ddd6b3",
   "metadata": {},
   "outputs": [],
   "source": [
    "import json"
   ]
  },
  {
   "cell_type": "code",
   "execution_count": 2,
   "id": "e0487f83",
   "metadata": {},
   "outputs": [],
   "source": [
    "string_data = \"\"\"\n",
    "{\n",
    "\t\"id\": \"0001\",\n",
    "\t\"type\": \"donut\",\n",
    "\t\"name\": \"Cake\",\n",
    "\t\"ppu\": 0.55,\n",
    "\t\"batters\":\n",
    "\t\t{\n",
    "\t\t\t\"batter\":\n",
    "\t\t\t\t[\n",
    "\t\t\t\t\t{ \"id\": \"1001\", \"type\": \"Regular\" },\n",
    "\t\t\t\t\t{ \"id\": \"1002\", \"type\": \"Chocolate\" },\n",
    "\t\t\t\t\t{ \"id\": \"1003\", \"type\": \"Blueberry\" },\n",
    "\t\t\t\t\t{ \"id\": \"1004\", \"type\": \"Devil's Food\" }\n",
    "\t\t\t\t]\n",
    "\t\t},\n",
    "\t\"topping\":\n",
    "\t\t[\n",
    "\t\t\t{ \"id\": \"5001\", \"type\": \"None\" },\n",
    "\t\t\t{ \"id\": \"5002\", \"type\": \"Glazed\" },\n",
    "\t\t\t{ \"id\": \"5005\", \"type\": \"Sugar\" },\n",
    "\t\t\t{ \"id\": \"5007\", \"type\": \"Powdered Sugar\" },\n",
    "\t\t\t{ \"id\": \"5006\", \"type\": \"Chocolate with Sprinkles\" },\n",
    "\t\t\t{ \"id\": \"5003\", \"type\": \"Chocolate\" },\n",
    "\t\t\t{ \"id\": \"5004\", \"type\": \"Maple\" }\n",
    "\t\t],\n",
    "    \"status\": false\n",
    "}\n",
    "\"\"\""
   ]
  },
  {
   "cell_type": "markdown",
   "id": "67c5960a",
   "metadata": {},
   "source": [
    "### Read a Json Data (Deserialization-  Convert string into Object)"
   ]
  },
  {
   "cell_type": "code",
   "execution_count": 3,
   "id": "cb95f827",
   "metadata": {},
   "outputs": [
    {
     "data": {
      "text/plain": [
       "{'id': '0001',\n",
       " 'type': 'donut',\n",
       " 'name': 'Cake',\n",
       " 'ppu': 0.55,\n",
       " 'batters': {'batter': [{'id': '1001', 'type': 'Regular'},\n",
       "   {'id': '1002', 'type': 'Chocolate'},\n",
       "   {'id': '1003', 'type': 'Blueberry'},\n",
       "   {'id': '1004', 'type': \"Devil's Food\"}]},\n",
       " 'topping': [{'id': '5001', 'type': 'None'},\n",
       "  {'id': '5002', 'type': 'Glazed'},\n",
       "  {'id': '5005', 'type': 'Sugar'},\n",
       "  {'id': '5007', 'type': 'Powdered Sugar'},\n",
       "  {'id': '5006', 'type': 'Chocolate with Sprinkles'},\n",
       "  {'id': '5003', 'type': 'Chocolate'},\n",
       "  {'id': '5004', 'type': 'Maple'}],\n",
       " 'status': False}"
      ]
     },
     "execution_count": 3,
     "metadata": {},
     "output_type": "execute_result"
    }
   ],
   "source": [
    "json.loads(string_data)"
   ]
  },
  {
   "cell_type": "code",
   "execution_count": 4,
   "id": "4edc1f5d",
   "metadata": {},
   "outputs": [],
   "source": [
    "dict_data = {'id': '0001',\n",
    " 'type': 'donut',\n",
    " 'name': 'Cake',\n",
    " 'ppu': 0.55,\n",
    " 'batters': {'batter': [{'id': '1001', 'type': 'Regular'},\n",
    "   {'id': '1002', 'type': 'Chocolate'},\n",
    "   {'id': '1003', 'type': 'Blueberry'},\n",
    "   {'id': '1004', 'type': \"Devil's Food\"}]},\n",
    " 'topping': [{'id': '5001', 'type': 'None'},\n",
    "  {'id': '5002', 'type': 'Glazed'},\n",
    "  {'id': '5005', 'type': 'Sugar'},\n",
    "  {'id': '5007', 'type': 'Powdered Sugar'},\n",
    "  {'id': '5006', 'type': 'Chocolate with Sprinkles'},\n",
    "  {'id': '5003', 'type': 'Chocolate'},\n",
    "  {'id': '5004', 'type': 'Maple'}],\n",
    " 'status': False,\n",
    " str: True,\n",
    " 'pound': '£',\n",
    " 'check': float('inf')\n",
    "}"
   ]
  },
  {
   "cell_type": "markdown",
   "id": "9b053413",
   "metadata": {},
   "source": [
    "### Write a Json Data (Serialization-  Convert Object into String)"
   ]
  },
  {
   "cell_type": "code",
   "execution_count": 5,
   "id": "61e8510c",
   "metadata": {},
   "outputs": [
    {
     "name": "stdout",
     "output_type": "stream",
     "text": [
      "{\n",
      " \"id\": \"0001\",\n",
      " \"type\": \"donut\",\n",
      " \"name\": \"Cake\",\n",
      " \"ppu\": 0.55,\n",
      " \"batters\": {\n",
      "  \"batter\": [\n",
      "   {\n",
      "    \"id\": \"1001\",\n",
      "    \"type\": \"Regular\"\n",
      "   },\n",
      "   {\n",
      "    \"id\": \"1002\",\n",
      "    \"type\": \"Chocolate\"\n",
      "   },\n",
      "   {\n",
      "    \"id\": \"1003\",\n",
      "    \"type\": \"Blueberry\"\n",
      "   },\n",
      "   {\n",
      "    \"id\": \"1004\",\n",
      "    \"type\": \"Devil's Food\"\n",
      "   }\n",
      "  ]\n",
      " },\n",
      " \"topping\": [\n",
      "  {\n",
      "   \"id\": \"5001\",\n",
      "   \"type\": \"None\"\n",
      "  },\n",
      "  {\n",
      "   \"id\": \"5002\",\n",
      "   \"type\": \"Glazed\"\n",
      "  },\n",
      "  {\n",
      "   \"id\": \"5005\",\n",
      "   \"type\": \"Sugar\"\n",
      "  },\n",
      "  {\n",
      "   \"id\": \"5007\",\n",
      "   \"type\": \"Powdered Sugar\"\n",
      "  },\n",
      "  {\n",
      "   \"id\": \"5006\",\n",
      "   \"type\": \"Chocolate with Sprinkles\"\n",
      "  },\n",
      "  {\n",
      "   \"id\": \"5003\",\n",
      "   \"type\": \"Chocolate\"\n",
      "  },\n",
      "  {\n",
      "   \"id\": \"5004\",\n",
      "   \"type\": \"Maple\"\n",
      "  }\n",
      " ],\n",
      " \"status\": false,\n",
      " \"pound\": \"£\",\n",
      " \"check\": Infinity\n",
      "}\n"
     ]
    }
   ],
   "source": [
    "print(json.dumps(dict_data, indent=True, skipkeys=True, ensure_ascii=False, allow_nan=True))"
   ]
  },
  {
   "cell_type": "markdown",
   "id": "d3331549",
   "metadata": {},
   "source": [
    "### Create JSON File (Serialization-  Convert Object into String)"
   ]
  },
  {
   "cell_type": "code",
   "execution_count": 6,
   "id": "b3fc4eb0",
   "metadata": {},
   "outputs": [],
   "source": [
    "with open('dict_data.json', mode='w') as fp:\n",
    "    json.dump(dict_data, fp, indent=True, skipkeys=True, ensure_ascii=False, allow_nan=True)"
   ]
  },
  {
   "cell_type": "markdown",
   "id": "a5206dac",
   "metadata": {},
   "source": [
    "### Read JSON File (Deserialization-  Convert string into Object)"
   ]
  },
  {
   "cell_type": "code",
   "execution_count": 7,
   "id": "024eae45",
   "metadata": {},
   "outputs": [
    {
     "name": "stdout",
     "output_type": "stream",
     "text": [
      "{'id': '0001', 'type': 'donut', 'name': 'Cake', 'ppu': 0.55, 'batters': {'batter': [{'id': '1001', 'type': 'Regular'}, {'id': '1002', 'type': 'Chocolate'}, {'id': '1003', 'type': 'Blueberry'}, {'id': '1004', 'type': \"Devil's Food\"}]}, 'topping': [{'id': '5001', 'type': 'None'}, {'id': '5002', 'type': 'Glazed'}, {'id': '5005', 'type': 'Sugar'}, {'id': '5007', 'type': 'Powdered Sugar'}, {'id': '5006', 'type': 'Chocolate with Sprinkles'}, {'id': '5003', 'type': 'Chocolate'}, {'id': '5004', 'type': 'Maple'}], 'status': False, 'pound': '£', 'check': inf}\n"
     ]
    }
   ],
   "source": [
    "with open('dict_data.json') as fp:\n",
    "    json_file=json.load(fp)\n",
    "    \n",
    "print(json_file)"
   ]
  },
  {
   "cell_type": "code",
   "execution_count": null,
   "id": "9b4e42d3",
   "metadata": {},
   "outputs": [],
   "source": []
  },
  {
   "cell_type": "code",
   "execution_count": null,
   "id": "611ca96d",
   "metadata": {},
   "outputs": [],
   "source": []
  }
 ],
 "metadata": {
  "kernelspec": {
   "display_name": "Python 3 (ipykernel)",
   "language": "python",
   "name": "python3"
  },
  "language_info": {
   "codemirror_mode": {
    "name": "ipython",
    "version": 3
   },
   "file_extension": ".py",
   "mimetype": "text/x-python",
   "name": "python",
   "nbconvert_exporter": "python",
   "pygments_lexer": "ipython3",
   "version": "3.9.12"
  }
 },
 "nbformat": 4,
 "nbformat_minor": 5
}
