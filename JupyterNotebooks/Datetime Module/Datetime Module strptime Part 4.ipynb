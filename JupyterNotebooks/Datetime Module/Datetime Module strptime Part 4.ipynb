{
 "cells": [
  {
   "cell_type": "raw",
   "id": "e370a2e2",
   "metadata": {},
   "source": [
    "datetime obj --> string  (easy)\n",
    "\n",
    "string ---> datetime obj (not easy)"
   ]
  },
  {
   "cell_type": "code",
   "execution_count": 1,
   "id": "ae82aa15",
   "metadata": {},
   "outputs": [],
   "source": [
    "import datetime"
   ]
  },
  {
   "cell_type": "code",
   "execution_count": 2,
   "id": "99fe0df6",
   "metadata": {},
   "outputs": [
    {
     "data": {
      "text/plain": [
       "172800.0"
      ]
     },
     "execution_count": 2,
     "metadata": {},
     "output_type": "execute_result"
    }
   ],
   "source": [
    "datetime.timedelta(days=2).total_seconds()"
   ]
  },
  {
   "cell_type": "code",
   "execution_count": 3,
   "id": "cf99f710",
   "metadata": {},
   "outputs": [
    {
     "data": {
      "text/plain": [
       "'06/March/2023'"
      ]
     },
     "execution_count": 3,
     "metadata": {},
     "output_type": "execute_result"
    }
   ],
   "source": [
    "d = datetime.datetime.now()\n",
    "\n",
    "d.strftime('%d/%B/%Y')"
   ]
  },
  {
   "cell_type": "code",
   "execution_count": 4,
   "id": "d950a8d9",
   "metadata": {},
   "outputs": [
    {
     "data": {
      "text/plain": [
       "datetime.datetime(2023, 3, 6, 0, 0)"
      ]
     },
     "execution_count": 4,
     "metadata": {},
     "output_type": "execute_result"
    }
   ],
   "source": [
    "string_obj = '06/March/2023'\n",
    "\n",
    "\n",
    "datetime.datetime.strptime(string_obj, '%d/%B/%Y')"
   ]
  },
  {
   "cell_type": "code",
   "execution_count": 5,
   "id": "016e3e4d",
   "metadata": {},
   "outputs": [
    {
     "data": {
      "text/plain": [
       "\"Today's date is : 06/March/2023\""
      ]
     },
     "execution_count": 5,
     "metadata": {},
     "output_type": "execute_result"
    }
   ],
   "source": [
    "d = datetime.datetime.now()\n",
    "\n",
    "d.strftime('Today\\'s date is : %d/%B/%Y')"
   ]
  },
  {
   "cell_type": "code",
   "execution_count": 6,
   "id": "5064b9d1",
   "metadata": {},
   "outputs": [
    {
     "data": {
      "text/plain": [
       "datetime.datetime(2023, 3, 6, 0, 0)"
      ]
     },
     "execution_count": 6,
     "metadata": {},
     "output_type": "execute_result"
    }
   ],
   "source": [
    "string_obj = \"Today's date is : 06/March/2023\"\n",
    "\n",
    "\n",
    "datetime.datetime.strptime(string_obj, 'Today\\'s date is : %d/%B/%Y')"
   ]
  },
  {
   "cell_type": "code",
   "execution_count": 7,
   "id": "2431b3b9",
   "metadata": {},
   "outputs": [
    {
     "data": {
      "text/plain": [
       "'06/March/2023'"
      ]
     },
     "execution_count": 7,
     "metadata": {},
     "output_type": "execute_result"
    }
   ],
   "source": [
    "string_obj.rsplit(' ')[-1]"
   ]
  },
  {
   "cell_type": "code",
   "execution_count": 8,
   "id": "5e7d0411",
   "metadata": {},
   "outputs": [
    {
     "data": {
      "text/plain": [
       "datetime.datetime(2023, 3, 6, 0, 0)"
      ]
     },
     "execution_count": 8,
     "metadata": {},
     "output_type": "execute_result"
    }
   ],
   "source": [
    "datetime.datetime.strptime(string_obj.rsplit(' ')[-1], '%d/%B/%Y')"
   ]
  },
  {
   "cell_type": "code",
   "execution_count": null,
   "id": "f417d535",
   "metadata": {},
   "outputs": [],
   "source": []
  },
  {
   "cell_type": "code",
   "execution_count": null,
   "id": "0e056e0d",
   "metadata": {},
   "outputs": [],
   "source": []
  },
  {
   "cell_type": "code",
   "execution_count": null,
   "id": "2d8fbfb3",
   "metadata": {},
   "outputs": [],
   "source": []
  },
  {
   "cell_type": "code",
   "execution_count": null,
   "id": "913935d6",
   "metadata": {},
   "outputs": [],
   "source": []
  },
  {
   "cell_type": "code",
   "execution_count": null,
   "id": "9f87a206",
   "metadata": {},
   "outputs": [],
   "source": []
  },
  {
   "cell_type": "code",
   "execution_count": null,
   "id": "0bc50a9f",
   "metadata": {},
   "outputs": [],
   "source": []
  },
  {
   "cell_type": "code",
   "execution_count": null,
   "id": "3ba1b3b4",
   "metadata": {},
   "outputs": [],
   "source": []
  }
 ],
 "metadata": {
  "kernelspec": {
   "display_name": "Python 3 (ipykernel)",
   "language": "python",
   "name": "python3"
  },
  "language_info": {
   "codemirror_mode": {
    "name": "ipython",
    "version": 3
   },
   "file_extension": ".py",
   "mimetype": "text/x-python",
   "name": "python",
   "nbconvert_exporter": "python",
   "pygments_lexer": "ipython3",
   "version": "3.9.12"
  }
 },
 "nbformat": 4,
 "nbformat_minor": 5
}
