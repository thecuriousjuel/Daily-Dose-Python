{
 "cells": [
  {
   "cell_type": "code",
   "execution_count": 1,
   "id": "f040aee4",
   "metadata": {},
   "outputs": [],
   "source": [
    "import time\n",
    "import datetime"
   ]
  },
  {
   "cell_type": "code",
   "execution_count": 2,
   "id": "67b9798e",
   "metadata": {},
   "outputs": [
    {
     "data": {
      "text/plain": [
       "1678037708.794304"
      ]
     },
     "execution_count": 2,
     "metadata": {},
     "output_type": "execute_result"
    }
   ],
   "source": [
    "time.time()"
   ]
  },
  {
   "cell_type": "code",
   "execution_count": 3,
   "id": "7ed63eed",
   "metadata": {},
   "outputs": [
    {
     "data": {
      "text/plain": [
       "datetime.datetime(2023, 3, 5, 23, 5, 8, 836290)"
      ]
     },
     "execution_count": 3,
     "metadata": {},
     "output_type": "execute_result"
    }
   ],
   "source": [
    "datetime.datetime.now()"
   ]
  },
  {
   "cell_type": "code",
   "execution_count": 4,
   "id": "b23e4ca3",
   "metadata": {},
   "outputs": [
    {
     "data": {
      "text/plain": [
       "'Sun Mar  5 23:05:08 2023'"
      ]
     },
     "execution_count": 4,
     "metadata": {},
     "output_type": "execute_result"
    }
   ],
   "source": [
    "time.ctime()"
   ]
  },
  {
   "cell_type": "code",
   "execution_count": 5,
   "id": "a8a97ca7",
   "metadata": {},
   "outputs": [
    {
     "data": {
      "text/plain": [
       "datetime.datetime(2023, 3, 5, 23, 5, 8, 878278)"
      ]
     },
     "execution_count": 5,
     "metadata": {},
     "output_type": "execute_result"
    }
   ],
   "source": [
    "today = datetime.datetime.now()\n",
    "\n",
    "today"
   ]
  },
  {
   "cell_type": "code",
   "execution_count": 6,
   "id": "21ac1504",
   "metadata": {},
   "outputs": [
    {
     "data": {
      "text/plain": [
       "'2023'"
      ]
     },
     "execution_count": 6,
     "metadata": {},
     "output_type": "execute_result"
    }
   ],
   "source": [
    "today.strftime('%Y')"
   ]
  },
  {
   "cell_type": "code",
   "execution_count": 7,
   "id": "6967991a",
   "metadata": {},
   "outputs": [
    {
     "data": {
      "text/plain": [
       "'23'"
      ]
     },
     "execution_count": 7,
     "metadata": {},
     "output_type": "execute_result"
    }
   ],
   "source": [
    "today.strftime('%y')"
   ]
  },
  {
   "cell_type": "code",
   "execution_count": 8,
   "id": "f2b2a8a1",
   "metadata": {},
   "outputs": [
    {
     "data": {
      "text/plain": [
       "'03'"
      ]
     },
     "execution_count": 8,
     "metadata": {},
     "output_type": "execute_result"
    }
   ],
   "source": [
    "today.strftime('%m')"
   ]
  },
  {
   "cell_type": "code",
   "execution_count": 9,
   "id": "b5d8a538",
   "metadata": {},
   "outputs": [
    {
     "data": {
      "text/plain": [
       "'March'"
      ]
     },
     "execution_count": 9,
     "metadata": {},
     "output_type": "execute_result"
    }
   ],
   "source": [
    "today.strftime('%B')"
   ]
  },
  {
   "cell_type": "code",
   "execution_count": 10,
   "id": "06be0e53",
   "metadata": {},
   "outputs": [
    {
     "data": {
      "text/plain": [
       "'Mar'"
      ]
     },
     "execution_count": 10,
     "metadata": {},
     "output_type": "execute_result"
    }
   ],
   "source": [
    "today.strftime('%b')"
   ]
  },
  {
   "cell_type": "code",
   "execution_count": 11,
   "id": "91ee58da",
   "metadata": {},
   "outputs": [
    {
     "data": {
      "text/plain": [
       "'05'"
      ]
     },
     "execution_count": 11,
     "metadata": {},
     "output_type": "execute_result"
    }
   ],
   "source": [
    "today.strftime('%d')"
   ]
  },
  {
   "cell_type": "code",
   "execution_count": 12,
   "id": "695d65fc",
   "metadata": {},
   "outputs": [
    {
     "data": {
      "text/plain": [
       "\"Today's Date is : 05-Mar-23\""
      ]
     },
     "execution_count": 12,
     "metadata": {},
     "output_type": "execute_result"
    }
   ],
   "source": [
    "today.strftime('Today\\'s Date is : %d-%b-%y')"
   ]
  },
  {
   "cell_type": "code",
   "execution_count": 13,
   "id": "ec5693c6",
   "metadata": {},
   "outputs": [
    {
     "data": {
      "text/plain": [
       "'064'"
      ]
     },
     "execution_count": 13,
     "metadata": {},
     "output_type": "execute_result"
    }
   ],
   "source": [
    "today.strftime('%j')\n",
    "\n",
    "# 64th Day of the year!"
   ]
  },
  {
   "cell_type": "code",
   "execution_count": 14,
   "id": "b99c7dcf",
   "metadata": {},
   "outputs": [
    {
     "data": {
      "text/plain": [
       "'0'"
      ]
     },
     "execution_count": 14,
     "metadata": {},
     "output_type": "execute_result"
    }
   ],
   "source": [
    "today.strftime('%w')"
   ]
  },
  {
   "cell_type": "code",
   "execution_count": 15,
   "id": "5a142712",
   "metadata": {},
   "outputs": [
    {
     "data": {
      "text/plain": [
       "'4'"
      ]
     },
     "execution_count": 15,
     "metadata": {},
     "output_type": "execute_result"
    }
   ],
   "source": [
    "datetime.datetime(2019, 3, 14).strftime('%w')"
   ]
  },
  {
   "cell_type": "code",
   "execution_count": 16,
   "id": "145b58d2",
   "metadata": {},
   "outputs": [
    {
     "data": {
      "text/plain": [
       "'Thursday'"
      ]
     },
     "execution_count": 16,
     "metadata": {},
     "output_type": "execute_result"
    }
   ],
   "source": [
    "datetime.datetime(2019, 3, 14).strftime('%A')"
   ]
  },
  {
   "cell_type": "code",
   "execution_count": 17,
   "id": "231c661d",
   "metadata": {},
   "outputs": [
    {
     "data": {
      "text/plain": [
       "('0', 'Sunday')"
      ]
     },
     "execution_count": 17,
     "metadata": {},
     "output_type": "execute_result"
    }
   ],
   "source": [
    "today.strftime('%w'), today.strftime('%A')"
   ]
  },
  {
   "cell_type": "code",
   "execution_count": 18,
   "id": "e538cb37",
   "metadata": {},
   "outputs": [
    {
     "data": {
      "text/plain": [
       "('0', 'Sunday')"
      ]
     },
     "execution_count": 18,
     "metadata": {},
     "output_type": "execute_result"
    }
   ],
   "source": [
    "datetime.datetime(2019, 3, 17).strftime('%w'), datetime.datetime(2019, 3, 17).strftime('%A')"
   ]
  },
  {
   "cell_type": "code",
   "execution_count": 19,
   "id": "ff7bc697",
   "metadata": {},
   "outputs": [],
   "source": [
    "# 0 - Sunday\n",
    "# 1 - Mon\n",
    "# 2 - Tues\n",
    "# 3 - Wed\n",
    "# 4 - Thurs\n",
    "# 5 - Fri\n",
    "# 6 - Saturday\n"
   ]
  },
  {
   "cell_type": "code",
   "execution_count": 20,
   "id": "9218f351",
   "metadata": {},
   "outputs": [
    {
     "data": {
      "text/plain": [
       "'Sun'"
      ]
     },
     "execution_count": 20,
     "metadata": {},
     "output_type": "execute_result"
    }
   ],
   "source": [
    "today.strftime('%a')"
   ]
  },
  {
   "cell_type": "code",
   "execution_count": 21,
   "id": "fbf84971",
   "metadata": {},
   "outputs": [
    {
     "data": {
      "text/plain": [
       "'23'"
      ]
     },
     "execution_count": 21,
     "metadata": {},
     "output_type": "execute_result"
    }
   ],
   "source": [
    "today.strftime('%H')"
   ]
  },
  {
   "cell_type": "code",
   "execution_count": 22,
   "id": "ed2f7045",
   "metadata": {},
   "outputs": [],
   "source": [
    "# Minutes"
   ]
  },
  {
   "cell_type": "code",
   "execution_count": 23,
   "id": "3a5c78f2",
   "metadata": {},
   "outputs": [
    {
     "data": {
      "text/plain": [
       "'05'"
      ]
     },
     "execution_count": 23,
     "metadata": {},
     "output_type": "execute_result"
    }
   ],
   "source": [
    "today.strftime('%M')"
   ]
  },
  {
   "cell_type": "code",
   "execution_count": 24,
   "id": "cad0b298",
   "metadata": {},
   "outputs": [],
   "source": [
    "# Months"
   ]
  },
  {
   "cell_type": "code",
   "execution_count": 25,
   "id": "17add09f",
   "metadata": {},
   "outputs": [
    {
     "data": {
      "text/plain": [
       "'03'"
      ]
     },
     "execution_count": 25,
     "metadata": {},
     "output_type": "execute_result"
    }
   ],
   "source": [
    "today.strftime('%m')"
   ]
  },
  {
   "cell_type": "code",
   "execution_count": 26,
   "id": "6da361f1",
   "metadata": {},
   "outputs": [
    {
     "data": {
      "text/plain": [
       "'08'"
      ]
     },
     "execution_count": 26,
     "metadata": {},
     "output_type": "execute_result"
    }
   ],
   "source": [
    "today.strftime('%S')"
   ]
  },
  {
   "cell_type": "code",
   "execution_count": 27,
   "id": "659683ab",
   "metadata": {},
   "outputs": [
    {
     "data": {
      "text/plain": [
       "'09'"
      ]
     },
     "execution_count": 27,
     "metadata": {},
     "output_type": "execute_result"
    }
   ],
   "source": [
    "datetime.datetime.now().strftime('%S')"
   ]
  },
  {
   "cell_type": "code",
   "execution_count": 28,
   "id": "7507ef39",
   "metadata": {},
   "outputs": [
    {
     "data": {
      "text/plain": [
       "9"
      ]
     },
     "execution_count": 28,
     "metadata": {},
     "output_type": "execute_result"
    }
   ],
   "source": [
    "datetime.datetime.now().second"
   ]
  },
  {
   "cell_type": "code",
   "execution_count": 29,
   "id": "f388a486",
   "metadata": {},
   "outputs": [
    {
     "data": {
      "text/plain": [
       "'PM'"
      ]
     },
     "execution_count": 29,
     "metadata": {},
     "output_type": "execute_result"
    }
   ],
   "source": [
    "today.strftime('%p')"
   ]
  },
  {
   "cell_type": "code",
   "execution_count": 30,
   "id": "e58c5f62",
   "metadata": {},
   "outputs": [
    {
     "data": {
      "text/plain": [
       "'AM'"
      ]
     },
     "execution_count": 30,
     "metadata": {},
     "output_type": "execute_result"
    }
   ],
   "source": [
    "datetime.datetime(2001, 5, 25).strftime('%p')"
   ]
  },
  {
   "cell_type": "code",
   "execution_count": 31,
   "id": "7c114674",
   "metadata": {},
   "outputs": [
    {
     "data": {
      "text/plain": [
       "'%'"
      ]
     },
     "execution_count": 31,
     "metadata": {},
     "output_type": "execute_result"
    }
   ],
   "source": [
    "today.strftime('%%')"
   ]
  },
  {
   "cell_type": "code",
   "execution_count": 32,
   "id": "60cc1a4f",
   "metadata": {},
   "outputs": [
    {
     "data": {
      "text/plain": [
       "'11'"
      ]
     },
     "execution_count": 32,
     "metadata": {},
     "output_type": "execute_result"
    }
   ],
   "source": [
    "today.strftime('%I')"
   ]
  },
  {
   "cell_type": "code",
   "execution_count": 33,
   "id": "b8e983db",
   "metadata": {},
   "outputs": [
    {
     "data": {
      "text/plain": [
       "'11:05:08 PM'"
      ]
     },
     "execution_count": 33,
     "metadata": {},
     "output_type": "execute_result"
    }
   ],
   "source": [
    "today.strftime('%I:%M:%S %p')"
   ]
  },
  {
   "cell_type": "code",
   "execution_count": 34,
   "id": "95eded12",
   "metadata": {},
   "outputs": [
    {
     "data": {
      "text/plain": [
       "'05/03/2023'"
      ]
     },
     "execution_count": 34,
     "metadata": {},
     "output_type": "execute_result"
    }
   ],
   "source": [
    "today.strftime('%d/%m/%Y')"
   ]
  },
  {
   "cell_type": "code",
   "execution_count": 35,
   "id": "486e4d70",
   "metadata": {},
   "outputs": [
    {
     "data": {
      "text/plain": [
       "'05/Mar/2023'"
      ]
     },
     "execution_count": 35,
     "metadata": {},
     "output_type": "execute_result"
    }
   ],
   "source": [
    "today.strftime('%d/%b/%Y')"
   ]
  },
  {
   "cell_type": "code",
   "execution_count": 36,
   "id": "2d74e1d2",
   "metadata": {},
   "outputs": [
    {
     "data": {
      "text/plain": [
       "'Sun 05/Mar/2023 11:05:08 PM'"
      ]
     },
     "execution_count": 36,
     "metadata": {},
     "output_type": "execute_result"
    }
   ],
   "source": [
    "today.strftime('%a %d/%b/%Y %I:%M:%S %p')"
   ]
  },
  {
   "cell_type": "code",
   "execution_count": null,
   "id": "607d3ea3",
   "metadata": {},
   "outputs": [],
   "source": []
  },
  {
   "cell_type": "code",
   "execution_count": null,
   "id": "980d0b5d",
   "metadata": {},
   "outputs": [],
   "source": []
  },
  {
   "cell_type": "code",
   "execution_count": null,
   "id": "d31c462c",
   "metadata": {},
   "outputs": [],
   "source": []
  },
  {
   "cell_type": "code",
   "execution_count": null,
   "id": "58291122",
   "metadata": {},
   "outputs": [],
   "source": []
  },
  {
   "cell_type": "code",
   "execution_count": null,
   "id": "e0e95214",
   "metadata": {},
   "outputs": [],
   "source": []
  },
  {
   "cell_type": "code",
   "execution_count": null,
   "id": "7c7c02da",
   "metadata": {},
   "outputs": [],
   "source": []
  },
  {
   "cell_type": "code",
   "execution_count": null,
   "id": "81e95958",
   "metadata": {},
   "outputs": [],
   "source": []
  },
  {
   "cell_type": "code",
   "execution_count": null,
   "id": "d62efb8b",
   "metadata": {},
   "outputs": [],
   "source": []
  },
  {
   "cell_type": "code",
   "execution_count": null,
   "id": "2f53bcb7",
   "metadata": {},
   "outputs": [],
   "source": []
  },
  {
   "cell_type": "code",
   "execution_count": null,
   "id": "d7ffdf29",
   "metadata": {},
   "outputs": [],
   "source": []
  },
  {
   "cell_type": "code",
   "execution_count": null,
   "id": "157eb154",
   "metadata": {},
   "outputs": [],
   "source": []
  },
  {
   "cell_type": "code",
   "execution_count": null,
   "id": "47f003c9",
   "metadata": {},
   "outputs": [],
   "source": []
  },
  {
   "cell_type": "code",
   "execution_count": null,
   "id": "3133a253",
   "metadata": {},
   "outputs": [],
   "source": []
  }
 ],
 "metadata": {
  "kernelspec": {
   "display_name": "Python 3 (ipykernel)",
   "language": "python",
   "name": "python3"
  },
  "language_info": {
   "codemirror_mode": {
    "name": "ipython",
    "version": 3
   },
   "file_extension": ".py",
   "mimetype": "text/x-python",
   "name": "python",
   "nbconvert_exporter": "python",
   "pygments_lexer": "ipython3",
   "version": "3.9.12"
  }
 },
 "nbformat": 4,
 "nbformat_minor": 5
}
