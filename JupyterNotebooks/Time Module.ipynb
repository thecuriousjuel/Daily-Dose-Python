{
 "cells": [
  {
   "cell_type": "markdown",
   "id": "b043e965",
   "metadata": {},
   "source": [
    "# Import the time Module"
   ]
  },
  {
   "cell_type": "code",
   "execution_count": 1,
   "id": "9ae5bc1d",
   "metadata": {},
   "outputs": [],
   "source": [
    "import time"
   ]
  },
  {
   "cell_type": "code",
   "execution_count": 2,
   "id": "4d1fabdf",
   "metadata": {},
   "outputs": [],
   "source": [
    "# Unix epoch timestamp\n",
    "# 1 Jan 1970 00:00:00\n",
    "\n",
    "\n",
    "# current_date_time -> 5.3.2023 12:44"
   ]
  },
  {
   "cell_type": "markdown",
   "id": "a803f430",
   "metadata": {},
   "source": [
    "# time function"
   ]
  },
  {
   "cell_type": "code",
   "execution_count": 3,
   "id": "9a398216",
   "metadata": {},
   "outputs": [
    {
     "data": {
      "text/plain": [
       "1678035674.0224128"
      ]
     },
     "execution_count": 3,
     "metadata": {},
     "output_type": "execute_result"
    }
   ],
   "source": [
    "time.time()"
   ]
  },
  {
   "cell_type": "code",
   "execution_count": 4,
   "id": "9f03c9d6",
   "metadata": {},
   "outputs": [
    {
     "name": "stdout",
     "output_type": "stream",
     "text": [
      "start_time=1678035674.059402\n",
      "end_time=1678035678.2550542\n",
      "4.19565224647522 secs\n"
     ]
    }
   ],
   "source": [
    "start_time = time.time()\n",
    "print(f'start_time={start_time}')\n",
    "\n",
    "f = 1\n",
    "for i in range(1, 100_000):\n",
    "    f *= i\n",
    "    \n",
    "end_time = time.time()\n",
    "print(f'end_time={end_time}')\n",
    "\n",
    "\n",
    "# print(f)\n",
    "print(end_time - start_time, 'secs')"
   ]
  },
  {
   "cell_type": "markdown",
   "id": "b2787e0e",
   "metadata": {},
   "source": [
    "# ctime function"
   ]
  },
  {
   "cell_type": "code",
   "execution_count": 5,
   "id": "45b7e71b",
   "metadata": {},
   "outputs": [
    {
     "data": {
      "text/plain": [
       "'Sun Mar  5 22:31:18 2023'"
      ]
     },
     "execution_count": 5,
     "metadata": {},
     "output_type": "execute_result"
    }
   ],
   "source": [
    "time.ctime()"
   ]
  },
  {
   "cell_type": "code",
   "execution_count": 6,
   "id": "5dd9af74",
   "metadata": {},
   "outputs": [
    {
     "data": {
      "text/plain": [
       "'Thu Jan  1 05:30:00 1970'"
      ]
     },
     "execution_count": 6,
     "metadata": {},
     "output_type": "execute_result"
    }
   ],
   "source": [
    "time.ctime(0)\n",
    "\n",
    "#      0             +         0         =      return date and time\n",
    "# epoc timestamp              secs"
   ]
  },
  {
   "cell_type": "code",
   "execution_count": 7,
   "id": "c6888a44",
   "metadata": {},
   "outputs": [
    {
     "data": {
      "text/plain": [
       "1678035678.325032"
      ]
     },
     "execution_count": 7,
     "metadata": {},
     "output_type": "execute_result"
    }
   ],
   "source": [
    "time.time()"
   ]
  },
  {
   "cell_type": "code",
   "execution_count": 8,
   "id": "aaa9110d",
   "metadata": {},
   "outputs": [
    {
     "data": {
      "text/plain": [
       "'Sun Mar  5 12:54:37 2023'"
      ]
     },
     "execution_count": 8,
     "metadata": {},
     "output_type": "execute_result"
    }
   ],
   "source": [
    "time.ctime(1678001077)"
   ]
  },
  {
   "cell_type": "code",
   "execution_count": 9,
   "id": "2867929d",
   "metadata": {},
   "outputs": [
    {
     "data": {
      "text/plain": [
       "'Fri Jan  2 05:30:00 1970'"
      ]
     },
     "execution_count": 9,
     "metadata": {},
     "output_type": "execute_result"
    }
   ],
   "source": [
    "time.ctime(24*60*60)\n",
    "\n",
    "\n",
    "#      0             +      24 * 60 * 60         =      2 Jan 1970 5:30:00\n",
    "# epoc timestamp              secs"
   ]
  },
  {
   "cell_type": "markdown",
   "id": "31823cfa",
   "metadata": {},
   "source": [
    "# sleep function"
   ]
  },
  {
   "cell_type": "code",
   "execution_count": 10,
   "id": "0c87e537",
   "metadata": {},
   "outputs": [
    {
     "name": "stdout",
     "output_type": "stream",
     "text": [
      "1\n",
      "2\n",
      "3\n",
      "4\n",
      "5\n"
     ]
    }
   ],
   "source": [
    "for i in range(1, 6):\n",
    "    print(i)\n",
    "    time.sleep(1)"
   ]
  },
  {
   "cell_type": "code",
   "execution_count": 11,
   "id": "d6f0aecc",
   "metadata": {},
   "outputs": [
    {
     "name": "stdout",
     "output_type": "stream",
     "text": [
      "start_time=1678035683.46 secs\n",
      "end_time=1678035687.23 secs\n",
      "3.77 secs\n"
     ]
    }
   ],
   "source": [
    "start_time = time.time()\n",
    "print(f'start_time={round(start_time, 2)} secs')\n",
    "\n",
    "f = 1\n",
    "for i in range(1, 100_000):\n",
    "    f *= i\n",
    "    \n",
    "end_time = time.time()\n",
    "print(f'end_time={round(end_time, 2)} secs')\n",
    "\n",
    "\n",
    "# print(f)\n",
    "print(round(end_time - start_time, 2), 'secs')"
   ]
  },
  {
   "cell_type": "code",
   "execution_count": 12,
   "id": "6d4cb80c",
   "metadata": {},
   "outputs": [
    {
     "data": {
      "text/plain": [
       "'Thu Jan  1 05:30:00 1970'"
      ]
     },
     "execution_count": 12,
     "metadata": {},
     "output_type": "execute_result"
    }
   ],
   "source": [
    "time.ctime(0)"
   ]
  },
  {
   "cell_type": "code",
   "execution_count": 13,
   "id": "609864e1",
   "metadata": {},
   "outputs": [
    {
     "data": {
      "text/plain": [
       "'Sun Mar  5 22:31:27 2023'"
      ]
     },
     "execution_count": 13,
     "metadata": {},
     "output_type": "execute_result"
    }
   ],
   "source": [
    "time.ctime()"
   ]
  },
  {
   "cell_type": "code",
   "execution_count": 14,
   "id": "f58374f5",
   "metadata": {},
   "outputs": [
    {
     "data": {
      "text/plain": [
       "'Sun Mar  5 22:31:27 2023'"
      ]
     },
     "execution_count": 14,
     "metadata": {},
     "output_type": "execute_result"
    }
   ],
   "source": [
    "time.ctime(time.time())"
   ]
  },
  {
   "cell_type": "code",
   "execution_count": 15,
   "id": "ff7e2fb0",
   "metadata": {},
   "outputs": [
    {
     "ename": "TypeError",
     "evalue": "unsupported operand type(s) for -: 'str' and 'str'",
     "output_type": "error",
     "traceback": [
      "\u001b[1;31m---------------------------------------------------------------------------\u001b[0m",
      "\u001b[1;31mTypeError\u001b[0m                                 Traceback (most recent call last)",
      "Input \u001b[1;32mIn [15]\u001b[0m, in \u001b[0;36m<cell line: 1>\u001b[1;34m()\u001b[0m\n\u001b[1;32m----> 1\u001b[0m \u001b[43mtime\u001b[49m\u001b[38;5;241;43m.\u001b[39;49m\u001b[43mctime\u001b[49m\u001b[43m(\u001b[49m\u001b[43mtime\u001b[49m\u001b[38;5;241;43m.\u001b[39;49m\u001b[43mtime\u001b[49m\u001b[43m(\u001b[49m\u001b[43m)\u001b[49m\u001b[43m)\u001b[49m\u001b[43m \u001b[49m\u001b[38;5;241;43m-\u001b[39;49m\u001b[43m \u001b[49m\u001b[43mtime\u001b[49m\u001b[38;5;241;43m.\u001b[39;49m\u001b[43mctime\u001b[49m\u001b[43m(\u001b[49m\u001b[38;5;241;43m0\u001b[39;49m\u001b[43m)\u001b[49m\n",
      "\u001b[1;31mTypeError\u001b[0m: unsupported operand type(s) for -: 'str' and 'str'"
     ]
    }
   ],
   "source": [
    "time.ctime(time.time()) - time.ctime(0)"
   ]
  },
  {
   "cell_type": "code",
   "execution_count": null,
   "id": "d02a17ef",
   "metadata": {},
   "outputs": [],
   "source": []
  },
  {
   "cell_type": "code",
   "execution_count": null,
   "id": "4fe2487e",
   "metadata": {},
   "outputs": [],
   "source": []
  },
  {
   "cell_type": "code",
   "execution_count": null,
   "id": "9b7a0cb8",
   "metadata": {},
   "outputs": [],
   "source": []
  },
  {
   "cell_type": "code",
   "execution_count": null,
   "id": "0fb12159",
   "metadata": {},
   "outputs": [],
   "source": []
  }
 ],
 "metadata": {
  "kernelspec": {
   "display_name": "Python 3 (ipykernel)",
   "language": "python",
   "name": "python3"
  },
  "language_info": {
   "codemirror_mode": {
    "name": "ipython",
    "version": 3
   },
   "file_extension": ".py",
   "mimetype": "text/x-python",
   "name": "python",
   "nbconvert_exporter": "python",
   "pygments_lexer": "ipython3",
   "version": "3.9.12"
  }
 },
 "nbformat": 4,
 "nbformat_minor": 5
}
