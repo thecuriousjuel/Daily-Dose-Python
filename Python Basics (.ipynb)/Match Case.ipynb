{
 "cells": [
  {
   "cell_type": "code",
   "execution_count": 1,
   "id": "707f4419",
   "metadata": {},
   "outputs": [
    {
     "name": "stdout",
     "output_type": "stream",
     "text": [
      "Your Python version - 3.10.4 | packaged by conda-forge | (main, Mar 30 2022, 08:38:02) [MSC v.1916 64 bit (AMD64)]\n"
     ]
    }
   ],
   "source": [
    "import sys\n",
    "\n",
    "\n",
    "print(f'Your Python version - {sys.version}', )"
   ]
  },
  {
   "cell_type": "markdown",
   "id": "31752e10",
   "metadata": {},
   "source": [
    "# If-else statement in Python"
   ]
  },
  {
   "cell_type": "code",
   "execution_count": 2,
   "id": "5537fa5c",
   "metadata": {},
   "outputs": [
    {
     "name": "stdout",
     "output_type": "stream",
     "text": [
      "Hello! View videos\n"
     ]
    }
   ],
   "source": [
    "role = 'user'\n",
    "\n",
    "if role == 'user':\n",
    "    print('Hello! View videos')\n",
    "    \n",
    "elif role == 'teacher':\n",
    "    print('Create Videos')\n",
    "    \n",
    "elif role == 'manager':\n",
    "    print('Manage Videos')\n",
    "    "
   ]
  },
  {
   "cell_type": "markdown",
   "id": "f5353925",
   "metadata": {},
   "source": [
    "# Match Case in Python"
   ]
  },
  {
   "cell_type": "code",
   "execution_count": 3,
   "id": "69c93a0c",
   "metadata": {},
   "outputs": [
    {
     "name": "stdout",
     "output_type": "stream",
     "text": [
      "not registered\n"
     ]
    }
   ],
   "source": [
    "role = 'painter'\n",
    "\n",
    "match role:\n",
    "    case 'user':\n",
    "        print('View Videos')\n",
    "    case 'teacher':\n",
    "        print('create videos')\n",
    "    case 'manager':\n",
    "        print('manage videos')\n",
    "    case _:\n",
    "        print('not registered')"
   ]
  },
  {
   "cell_type": "markdown",
   "id": "7151d5fc",
   "metadata": {},
   "source": [
    "# Match Case OR operation"
   ]
  },
  {
   "cell_type": "code",
   "execution_count": 4,
   "id": "099d989e",
   "metadata": {},
   "outputs": [
    {
     "name": "stdout",
     "output_type": "stream",
     "text": [
      "view videos\n"
     ]
    }
   ],
   "source": [
    "role = 'teacher'\n",
    "\n",
    "match role:\n",
    "    case 'user' | 'teacher':\n",
    "        print('view videos')\n",
    "    case 'manager':\n",
    "        print('manage videos')"
   ]
  }
 ],
 "metadata": {
  "kernelspec": {
   "display_name": "Python 3 (ipykernel)",
   "language": "python",
   "name": "python3"
  },
  "language_info": {
   "codemirror_mode": {
    "name": "ipython",
    "version": 3
   },
   "file_extension": ".py",
   "mimetype": "text/x-python",
   "name": "python",
   "nbconvert_exporter": "python",
   "pygments_lexer": "ipython3",
   "version": "3.10.4"
  }
 },
 "nbformat": 4,
 "nbformat_minor": 5
}
