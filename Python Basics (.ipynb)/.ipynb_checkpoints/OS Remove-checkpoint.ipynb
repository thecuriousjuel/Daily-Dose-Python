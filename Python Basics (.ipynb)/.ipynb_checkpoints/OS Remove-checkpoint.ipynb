{
 "cells": [
  {
   "cell_type": "markdown",
   "id": "11deae32",
   "metadata": {},
   "source": [
    "## Check Directory"
   ]
  },
  {
   "cell_type": "code",
   "execution_count": 38,
   "id": "02d26ef0",
   "metadata": {},
   "outputs": [
    {
     "name": "stdout",
     "output_type": "stream",
     "text": [
      "/c/Users/juelb/Desktop/Daily Dose Python/Python Basics (.ipynb)\n"
     ]
    }
   ],
   "source": [
    "!pwd"
   ]
  },
  {
   "cell_type": "markdown",
   "id": "1f6a951e",
   "metadata": {},
   "source": [
    "## Check files present in directory"
   ]
  },
  {
   "cell_type": "code",
   "execution_count": 39,
   "id": "ed438c9d",
   "metadata": {},
   "outputs": [
    {
     "name": "stdout",
     "output_type": "stream",
     "text": [
      "Database\n",
      "Match Case.ipynb\n",
      "Untitled.ipynb\n"
     ]
    }
   ],
   "source": [
    "!ls"
   ]
  },
  {
   "cell_type": "markdown",
   "id": "3cac1ee7",
   "metadata": {},
   "source": [
    "## Create a file (works on Linux, Mac, git bash on windwos)"
   ]
  },
  {
   "cell_type": "code",
   "execution_count": 40,
   "id": "b8739b93",
   "metadata": {},
   "outputs": [],
   "source": [
    "!touch student.csv"
   ]
  },
  {
   "cell_type": "code",
   "execution_count": 41,
   "id": "85f1447e",
   "metadata": {},
   "outputs": [],
   "source": [
    "import os"
   ]
  },
  {
   "cell_type": "markdown",
   "id": "ffa1d05f",
   "metadata": {},
   "source": [
    "## Delete a file in the current directory"
   ]
  },
  {
   "cell_type": "code",
   "execution_count": 42,
   "id": "a531f512",
   "metadata": {},
   "outputs": [],
   "source": [
    "os.remove('student.csv')"
   ]
  },
  {
   "cell_type": "markdown",
   "id": "0a05b26b",
   "metadata": {},
   "source": [
    "## Delete a file inside a nested directory"
   ]
  },
  {
   "cell_type": "code",
   "execution_count": 43,
   "id": "74370d32",
   "metadata": {},
   "outputs": [],
   "source": [
    "os.remove('Database/file.txt')"
   ]
  },
  {
   "cell_type": "markdown",
   "id": "71a32c99",
   "metadata": {},
   "source": [
    "## Delete a file one level up the working directory"
   ]
  },
  {
   "cell_type": "code",
   "execution_count": 44,
   "id": "636d05db",
   "metadata": {},
   "outputs": [],
   "source": [
    "os.remove('../file.txt')"
   ]
  },
  {
   "cell_type": "markdown",
   "id": "6c4be497",
   "metadata": {},
   "source": [
    "## Delete a file using absolute path "
   ]
  },
  {
   "cell_type": "code",
   "execution_count": 45,
   "id": "de6e92f3",
   "metadata": {},
   "outputs": [],
   "source": [
    "os.remove('C:/Users/juelb/Desktop/student.csv')"
   ]
  },
  {
   "cell_type": "markdown",
   "id": "bd6a1645",
   "metadata": {},
   "source": [
    "## Delete a file with windows path : Error"
   ]
  },
  {
   "cell_type": "code",
   "execution_count": 48,
   "id": "50cebaf6",
   "metadata": {},
   "outputs": [
    {
     "ename": "SyntaxError",
     "evalue": "(unicode error) 'unicodeescape' codec can't decode bytes in position 2-3: truncated \\UXXXXXXXX escape (1077410344.py, line 1)",
     "output_type": "error",
     "traceback": [
      "\u001b[1;36m  Input \u001b[1;32mIn [48]\u001b[1;36m\u001b[0m\n\u001b[1;33m    os.remove('C:\\Users\\juelb\\Desktop\\school.xls')\u001b[0m\n\u001b[1;37m                                                 ^\u001b[0m\n\u001b[1;31mSyntaxError\u001b[0m\u001b[1;31m:\u001b[0m (unicode error) 'unicodeescape' codec can't decode bytes in position 2-3: truncated \\UXXXXXXXX escape\n"
     ]
    }
   ],
   "source": [
    "os.remove('C:\\Users\\juelb\\Desktop\\school.xls')"
   ]
  },
  {
   "cell_type": "markdown",
   "id": "5528708f",
   "metadata": {},
   "source": [
    "## Delete a file with windows path : Solutions"
   ]
  },
  {
   "cell_type": "markdown",
   "id": "2093c2fe",
   "metadata": {},
   "source": [
    "### Change backslash to frontslash"
   ]
  },
  {
   "cell_type": "code",
   "execution_count": null,
   "id": "5c4b7634",
   "metadata": {},
   "outputs": [],
   "source": [
    "os.remove('C:/Users/juelb/Desktop/student.csv')"
   ]
  },
  {
   "cell_type": "markdown",
   "id": "c8629f07",
   "metadata": {},
   "source": [
    "### Escape the backslash"
   ]
  },
  {
   "cell_type": "code",
   "execution_count": 47,
   "id": "05972889",
   "metadata": {},
   "outputs": [],
   "source": [
    "os.remove('C:\\\\Users\\\\juelb\\\\Desktop\\\\school.xls')"
   ]
  },
  {
   "cell_type": "markdown",
   "id": "1cba9cfd",
   "metadata": {},
   "source": [
    "### Use the 'r' letter before the string, to send the string as raw string"
   ]
  },
  {
   "cell_type": "code",
   "execution_count": 50,
   "id": "7ef44c62",
   "metadata": {},
   "outputs": [],
   "source": [
    "os.remove(r'C:\\Users\\juelb\\Desktop\\football.txt')"
   ]
  },
  {
   "cell_type": "markdown",
   "id": "b554a196",
   "metadata": {},
   "source": [
    "## Delete a file that is not present "
   ]
  },
  {
   "cell_type": "code",
   "execution_count": 51,
   "id": "3b366eb1",
   "metadata": {},
   "outputs": [
    {
     "ename": "FileNotFoundError",
     "evalue": "[WinError 2] The system cannot find the file specified: 'school.txt'",
     "output_type": "error",
     "traceback": [
      "\u001b[1;31m---------------------------------------------------------------------------\u001b[0m",
      "\u001b[1;31mFileNotFoundError\u001b[0m                         Traceback (most recent call last)",
      "Input \u001b[1;32mIn [51]\u001b[0m, in \u001b[0;36m<cell line: 1>\u001b[1;34m()\u001b[0m\n\u001b[1;32m----> 1\u001b[0m \u001b[43mos\u001b[49m\u001b[38;5;241;43m.\u001b[39;49m\u001b[43mremove\u001b[49m\u001b[43m(\u001b[49m\u001b[38;5;124;43m'\u001b[39;49m\u001b[38;5;124;43mschool.txt\u001b[39;49m\u001b[38;5;124;43m'\u001b[39;49m\u001b[43m)\u001b[49m\n",
      "\u001b[1;31mFileNotFoundError\u001b[0m: [WinError 2] The system cannot find the file specified: 'school.txt'"
     ]
    }
   ],
   "source": [
    "os.remove('school.txt')"
   ]
  }
 ],
 "metadata": {
  "kernelspec": {
   "display_name": "Python 3 (ipykernel)",
   "language": "python",
   "name": "python3"
  },
  "language_info": {
   "codemirror_mode": {
    "name": "ipython",
    "version": 3
   },
   "file_extension": ".py",
   "mimetype": "text/x-python",
   "name": "python",
   "nbconvert_exporter": "python",
   "pygments_lexer": "ipython3",
   "version": "3.9.12"
  }
 },
 "nbformat": 4,
 "nbformat_minor": 5
}
