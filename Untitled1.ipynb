{
 "cells": [
  {
   "cell_type": "code",
   "execution_count": 1,
   "id": "cbb8dee8",
   "metadata": {},
   "outputs": [],
   "source": [
    "import json"
   ]
  },
  {
   "cell_type": "code",
   "execution_count": 50,
   "id": "a2dddb79",
   "metadata": {},
   "outputs": [],
   "source": [
    "json_data = \"\"\"{\"fname\": \"Biswajit\", \"lname\": \"Basak\", \"status\": true, \"value\": 1.99, \"integer\": 67, \n",
    "\"constant\": -Infinity}\"\"\""
   ]
  },
  {
   "cell_type": "code",
   "execution_count": 51,
   "id": "cccf7c94",
   "metadata": {},
   "outputs": [
    {
     "name": "stdout",
     "output_type": "stream",
     "text": [
      "{\"fname\": \"Biswajit\", \"lname\": \"Basak\", \"status\": true, \"value\": 1.99, \"integer\": 67, \n",
      "\"constant\": -Infinity}\n"
     ]
    }
   ],
   "source": [
    "print(json_data)"
   ]
  },
  {
   "cell_type": "code",
   "execution_count": 52,
   "id": "c3e7e3e6",
   "metadata": {},
   "outputs": [
    {
     "data": {
      "text/plain": [
       "{'fname': 'Biswajit',\n",
       " 'lname': 'Basak',\n",
       " 'status': True,\n",
       " 'value': 1.99,\n",
       " 'integer': 67,\n",
       " 'constant': -inf}"
      ]
     },
     "execution_count": 52,
     "metadata": {},
     "output_type": "execute_result"
    }
   ],
   "source": [
    "json.loads(json_data)"
   ]
  },
  {
   "cell_type": "code",
   "execution_count": 53,
   "id": "e8d55789",
   "metadata": {},
   "outputs": [],
   "source": [
    "def change_to_int(s):\n",
    "    return int(float(s))"
   ]
  },
  {
   "cell_type": "code",
   "execution_count": 54,
   "id": "ccd66669",
   "metadata": {},
   "outputs": [
    {
     "data": {
      "text/plain": [
       "{'fname': 'Biswajit',\n",
       " 'lname': 'Basak',\n",
       " 'status': True,\n",
       " 'value': 1,\n",
       " 'integer': 67,\n",
       " 'constant': -inf}"
      ]
     },
     "execution_count": 54,
     "metadata": {},
     "output_type": "execute_result"
    }
   ],
   "source": [
    "json.loads(json_data, parse_float=change_to_int)"
   ]
  },
  {
   "cell_type": "code",
   "execution_count": null,
   "id": "d63c7e0f",
   "metadata": {},
   "outputs": [],
   "source": []
  },
  {
   "cell_type": "code",
   "execution_count": 55,
   "id": "f2c92b38",
   "metadata": {},
   "outputs": [
    {
     "data": {
      "text/plain": [
       "{'fname': 'Biswajit',\n",
       " 'lname': 'Basak',\n",
       " 'status': True,\n",
       " 'value': 1.99,\n",
       " 'integer': 67.0,\n",
       " 'constant': -inf}"
      ]
     },
     "execution_count": 55,
     "metadata": {},
     "output_type": "execute_result"
    }
   ],
   "source": [
    "json.loads(json_data, parse_int=float, )"
   ]
  },
  {
   "cell_type": "code",
   "execution_count": 56,
   "id": "82ceb739",
   "metadata": {},
   "outputs": [
    {
     "data": {
      "text/plain": [
       "67.0"
      ]
     },
     "execution_count": 56,
     "metadata": {},
     "output_type": "execute_result"
    }
   ],
   "source": [
    "float(67)"
   ]
  },
  {
   "cell_type": "code",
   "execution_count": 57,
   "id": "8e0221fa",
   "metadata": {},
   "outputs": [],
   "source": [
    "def fun(s):\n",
    "    print(s)"
   ]
  },
  {
   "cell_type": "code",
   "execution_count": 58,
   "id": "5b1caf0d",
   "metadata": {},
   "outputs": [
    {
     "name": "stdout",
     "output_type": "stream",
     "text": [
      "-Infinity\n"
     ]
    },
    {
     "data": {
      "text/plain": [
       "{'fname': 'Biswajit',\n",
       " 'lname': 'Basak',\n",
       " 'status': True,\n",
       " 'value': 1.99,\n",
       " 'integer': 67,\n",
       " 'constant': None}"
      ]
     },
     "execution_count": 58,
     "metadata": {},
     "output_type": "execute_result"
    }
   ],
   "source": [
    "json.loads(json_data, parse_constant=fun)"
   ]
  },
  {
   "cell_type": "code",
   "execution_count": null,
   "id": "60c02827",
   "metadata": {},
   "outputs": [],
   "source": []
  },
  {
   "cell_type": "code",
   "execution_count": null,
   "id": "a6f2cbcf",
   "metadata": {},
   "outputs": [],
   "source": []
  },
  {
   "cell_type": "code",
   "execution_count": null,
   "id": "6c63044c",
   "metadata": {},
   "outputs": [],
   "source": []
  },
  {
   "cell_type": "code",
   "execution_count": null,
   "id": "2ea63663",
   "metadata": {},
   "outputs": [],
   "source": []
  },
  {
   "cell_type": "code",
   "execution_count": null,
   "id": "ab9a3bd8",
   "metadata": {},
   "outputs": [],
   "source": []
  },
  {
   "cell_type": "code",
   "execution_count": null,
   "id": "add93027",
   "metadata": {},
   "outputs": [],
   "source": []
  },
  {
   "cell_type": "code",
   "execution_count": null,
   "id": "ade69e90",
   "metadata": {},
   "outputs": [],
   "source": []
  },
  {
   "cell_type": "code",
   "execution_count": null,
   "id": "4dfbe668",
   "metadata": {},
   "outputs": [],
   "source": []
  },
  {
   "cell_type": "code",
   "execution_count": null,
   "id": "23d4dee5",
   "metadata": {},
   "outputs": [],
   "source": []
  },
  {
   "cell_type": "code",
   "execution_count": null,
   "id": "ed1a014a",
   "metadata": {},
   "outputs": [],
   "source": []
  },
  {
   "cell_type": "code",
   "execution_count": null,
   "id": "f4a53774",
   "metadata": {},
   "outputs": [],
   "source": []
  },
  {
   "cell_type": "code",
   "execution_count": null,
   "id": "35bd0663",
   "metadata": {},
   "outputs": [],
   "source": []
  }
 ],
 "metadata": {
  "kernelspec": {
   "display_name": "Python 3 (ipykernel)",
   "language": "python",
   "name": "python3"
  },
  "language_info": {
   "codemirror_mode": {
    "name": "ipython",
    "version": 3
   },
   "file_extension": ".py",
   "mimetype": "text/x-python",
   "name": "python",
   "nbconvert_exporter": "python",
   "pygments_lexer": "ipython3",
   "version": "3.9.12"
  }
 },
 "nbformat": 4,
 "nbformat_minor": 5
}
